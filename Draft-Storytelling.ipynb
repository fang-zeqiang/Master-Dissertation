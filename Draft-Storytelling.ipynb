{
 "cells": [
  {
   "cell_type": "markdown",
   "metadata": {},
   "source": [
    "# Storytelling"
   ]
  },
  {
   "cell_type": "markdown",
   "metadata": {},
   "source": [
    "A) Critical reflection on results - give yourself some time to do this, both on understanding the models you're running and relating your results to the literature. You will also need to show how your results address your research questions. \n",
    "\n",
    "B) Go back to the literature review - at the moment I think you are still working from just a few references. You will need to expand that to more like 20-30 for this part of the dissertation to do well.  \n",
    "\n",
    "Some general suggestions on the final write-up: \n",
    "\n",
    "1) Give yourself enough time to assemble the whole dissertation *and* to fill any gaps / further refine any bits of the results.\n",
    "\n",
    "2) Make sure there's a clear flow through the dissertation from context, to research questions, to design (data, methods), to results and discussion. \n",
    "\n",
    "3) As above - when writing up, give yourself time to critically reflect on your results. This will involve both thinking about what your results *mean*, and how they *relate to other studies / literature*. So this will mean linking them back to your initial research questions, and to your literature review.  \n",
    "\n",
    "4) Be transparent about the research design decisions you've taken (including when they derive from limitations in the data) and always justify your choices. Remember there's not always a 'correct answer' here, but rather decisions that are well justified vs not justified. \n",
    "\n",
    "A) 对结果的批判性反思——给自己一些时间来做这件事，既了解你正在运行的模型，也把你的结果与文献联系起来。您还需要展示您的结果如何解决您的研究问题。\n",
    "\n",
    "B) 回到文献综述——目前我认为你仍然只从几个**参考文献**开始工作。您需要将其扩展到**20-30**，以便论文的这一部分做得好。\n",
    "\n",
    "关于最终写作的一些一般性建议：\n",
    "\n",
    "1）给自己足够的时间来组装整篇论文**并且**以填补任何空白/进一步完善结果的任何部分。\n",
    "\n",
    "2) 确保论文从上下文到研究问题、设计（数据、方法）、结果和讨论都有清晰的流程。\n",
    "\n",
    "3）如上所述 - 在写作时，给自己时间批判性地反思你的结果。这将涉及思考你的结果**意味着什么**，以及它们如何**与其他研究/文献**相关。因此，这意味着将它们与您最初的研究问题以及您的文献综述联系起来。\n",
    "\n",
    "4) 对你所做的研究设计决策保持透明（包括当它们源于数据的限制时），并始终证明你的选择是合理的。请记住，这里并不总是有“正确答案”，而是有充分理由与不合理的决定。\n",
    "\n",
    "---\n",
    "\n",
    "Specific suggestions: \n",
    "\n",
    "1/ Regression notation - you don't need the x's, so write (for example) 'b1VAR_it' not 'b1 x VAR_it' \n",
    "\n",
    "2/ Publication style tables - remember to do these!\n",
    "\n",
    "3/ Year variables - these should be fitted as dummies \n",
    "\n",
    "4/ Area dummies - as we discussed, the **reference category unit** needs to be in your sample. For regressions with all areas python will make the decision for you. For the 'top 10 clusters' analysis, you will need to specify a reference category and **omit** that dummy from the regression. \n",
    "\n",
    "When interpreting your results, we also talked about how you could make sense of the **areas dummies** - think about e.g. relative **proximity** to London, and the dummies fall into three groups: those effectively part of **'mega-London'**, smaller cities nearby, and places in other regions (**North West**, **South West**).  \n",
    "\n",
    "5/ Regressions for all areas vs top 10 clusters - you can justify the **move to a smaller number** of observations in terms of model fit. A better approach is to argue it through research design, e.g. if the tech industry is very clustered in a few locations across the UK, it's interesting to compare everywhere vs the clusters, since underlying conditions are likely to **differ between the two groups**.  \n",
    "\n",
    "6/ OLS and GWR estimators - I would definitely show us **OLS, Moran's I and GWR results**. As I understand it, spatial autocorrelation is limited in your data as you use TTWAs as spatial units (you should explain why that is in your writeup). This means OLS does a good job overall. Nevertheless, you find some autocorrelation in a few locations, and this then **justifies fitting GWR too**. You should then think about what might be driving the differences in your results (e.g. coefficient size) and explain this in your writeup.    \n",
    " \n",
    "具体建议：\n",
    "\n",
    "1/ 回归符号 - 你不需要 x，所以写（例如）**'b1VAR_it'** 不是 'b1 x VAR_it'\n",
    "\n",
    "2/ 出版风格表——记得做这些！\n",
    "\n",
    "3/ 年变量 - 这些应该作为假人安装\n",
    "\n",
    "4/ 区域假人 - 正如我们所讨论的，参考类别单位需要在您的样本中。对于所有领域的回归，python 将为您做出决定。对于“前 10 个聚类”分析，您需要指定一个参考类别并从回归中忽略该虚拟变量。\n",
    "\n",
    "在解释您的结果时，我们还讨论了您如何理解虚拟区域 - 考虑例如与伦敦相对接近，并且这些假人分为三组：那些实际上是“大型伦敦”的一部分、附近的小城市和其他地区（西北、西南）的地方。\n",
    "\n",
    "5/ 所有区域与前 10 个聚类的回归 - 您可以证明在模型拟合方面转向较少数量的观察是合理的。更好的方法是通过研究设计来论证它，例如如果科技行业在英国的几个地方非常集中，那么比较各地与集群的情况会很有趣，因为两组之间的基本条件可能会有所不同。\n",
    "\n",
    "6/ OLS 和 GWR 估计器 - 我肯定会向我们展示 OLS、Moran's I 和 GWR 结果。据我了解，当您使用 TTWA 作为空间单位时，空间自相关在您的数据中受到限制（您应该在您的文章中解释为什么会这样）。这意味着 OLS 总体上做得很好。尽管如此，您还是会在一些位置发现一些自相关，这也证明了拟合 GWR 是合理的。然后，您应该考虑可能导致结果差异的原因（例如系数大小），并在您的文章中解释这一点。\n"
   ]
  },
  {
   "cell_type": "markdown",
   "metadata": {},
   "source": [
    "# 如何讲好一个故事"
   ]
  },
  {
   "cell_type": "markdown",
   "metadata": {},
   "source": [
    "Title: Spatial pattern mining of tech clusters of dynamics and industry mix based on spatial quantitative methods in England area, UK\n",
    "\n",
    "What is your research question?\n",
    "\n",
    "To what extent the level of industry mix can affect the dynamics and performance of tech cluster?\n",
    "\n",
    "Methodology & Results\n",
    "\n",
    "- Classic OLS (定量分析)\n",
    "\n",
    "    H0:\n",
    "    \n",
    "    H1:\n",
    "    \n",
    "    OLS estimation\n",
    "\n",
    "    locations and year dummies\n",
    "\n",
    "- Moran's I （定量分析）\n",
    "\n",
    "    H0:\n",
    "    \n",
    "    H1:\n",
    "    \n",
    "    Why I choose TTWA as spatial units?\n",
    "    \n",
    "    Global\n",
    "    \n",
    "    LISA\n",
    "\n",
    "- Time Change / Time matter （定性分析）\n",
    "\n",
    "    Dynamics Trend\n",
    "    \n",
    "    Industry Trend"
   ]
  },
  {
   "cell_type": "code",
   "execution_count": null,
   "metadata": {},
   "outputs": [],
   "source": []
  }
 ],
 "metadata": {
  "kernelspec": {
   "display_name": "Python 3",
   "language": "python",
   "name": "python3"
  },
  "language_info": {
   "codemirror_mode": {
    "name": "ipython",
    "version": 3
   },
   "file_extension": ".py",
   "mimetype": "text/x-python",
   "name": "python",
   "nbconvert_exporter": "python",
   "pygments_lexer": "ipython3",
   "version": "3.7.0"
  },
  "toc-autonumbering": false,
  "toc-showtags": false
 },
 "nbformat": 4,
 "nbformat_minor": 4
}
