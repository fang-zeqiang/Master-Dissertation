{
 "cells": [
  {
   "cell_type": "markdown",
   "metadata": {},
   "source": [
    "# What factors affecting the London child poverty rate?\n",
    "\n",
    "\n",
    "##### Programme: MSc Spatial Data Science and Visualisation\n",
    "##### Module: CASA0006 - Data Science for Spatial Systems\n",
    "##### Student id: 19035452\n",
    "##### Word count: 2217+13 figures"
   ]
  },
  {
   "cell_type": "markdown",
   "metadata": {},
   "source": [
    "## 1. Introduction"
   ]
  },
  {
   "cell_type": "markdown",
   "metadata": {},
   "source": [
    "With the development of society, the global economy and people's lives have improved significantly, but child poverty has always faced huge challenges. Even Britain, a developed country, and London, an international city, are also facing this thorny problem. The child poverty ratio is getting higher and higher. In the short term, it will bring about children’s education and health problems. In the long term, it will affect the employment and life choices of these children, and even have many negative effects on society. So what are the factors affecting child poverty rate in London? Could the child poverty rate be predicted? This paper aims to clarify the factors affecting children’s poverty in London. These factors are characteristics reflected in London society rather than common in the global environment. We can understand how to alleviate this problem in a more targeted manner in the London area.<br>\n",
    "\n",
    "Most of the relevant research focused on the national level, and rarely on specific regions or cities. This article focuses on London’s MSOA level data to explore the topic of child poverty. In terms of factors, most of the literature considers the income of the child's parents and the impact factors. However, in the fiercely competitive London, it is difficult for the government to help the parents of their children become more competitive and earn more. Therefore, these conditions are difficult to change. In addition to the basic factors of income, this article also considers some factors that can be changed through the efforts of the society and government, such as the living environment, children and young people’s sub-fields, and considers the characteristics of London such as diverse races."
   ]
  },
  {
   "cell_type": "markdown",
   "metadata": {},
   "source": [
    "## 2. Literature Review"
   ]
  },
  {
   "cell_type": "markdown",
   "metadata": {},
   "source": [
    "1) The status quo of child poverty and its general influencing factors<br>\n",
    "Of the 26 OECD countries with relevant data, the proportion of poor children in 17 developed countries has increased. And regardless of the commonly used poverty alleviation measures, the situation of children has deteriorated over the last decade. Although each country has a different background, the poverty level of all countries is mainly determined by these three factors: social trends, labor-market conditions and government policies. (Anonymous 2005)( Chen, WH., Corak, M.2008.) In short, income is the most critical factor, but countries with different development situations have their own priorities. For example, developing countries address food and clothing primarily by reducing absolute poverty, while developed countries mainly consider income, well-being and children's health. (White et al.2003) From short to long term, it will bring great negative effects and instability on children themselves and the society. In terms of education, these children have higher absenteeism, and fewer continue to receive education beyond the age of 16. In health, they will abstain from drinking and smoking earlier than their peers.Parents and teachers will see more behavioral problems and personality flaws. These will affect children’s future development, life opportunities, and their perception of themselves and society. We even see that these children account for a higher percentage in convictions, fines, and incarceration. (Department for Work and Pensions Research 2001) (WICKHAM et al.2016)"
   ]
  },
  {
   "cell_type": "markdown",
   "metadata": {},
   "source": [
    "2) The current situation and characteristics of child poverty in the UK and London<br>\n",
    "The definition of child poverty in Britain is the proportion of under-16s estimated to live in households with a household income of less than 60% of the median (UNICEF 2013)(Seymour D. 2009). The poverty level of children in the UK is currently very high, and the child poverty rate has started to rise in absolute terms for the first time in almost two decades.(WICKHAM et al.2016) And there are serious regional differences, ranging from 3% in the south and east of England to 10% in London. (MAGADI, M., 2010.) Among all British regions, London has the highest child poverty rate. More than a quarter of children in London live in poverty. The influencing factors can be summarized in the following aspects: first, income and related factors, determine whether parents can rely on income for a living. Such as the education and skill level of the parents, the total family income, and the presence of disabled adults in the family. Second, living costs, housing prices, transportation and childcare costs. Third, the social environment in the area, such as the welfare policy for children and youth, the crime rate, the living environment and the number of part-time jobs. And it found that minority groups, especially children of Asian descent, have higher poverty rates. (Platt 2007) (CPAG 2021) (Greater London Authority 2010)\n"
   ]
  },
  {
   "cell_type": "markdown",
   "metadata": {},
   "source": [
    "## 3. Presentation of Data and Data preprocessing"
   ]
  },
  {
   "cell_type": "markdown",
   "metadata": {},
   "source": [
    "We selected 5 relevant datasets (irrelevant data has been deleted) and integrated them into 983 London-MSOA-level data (ONS). Take child poverty proportion as the response variable, and select factors that can represent the high child poverty rate in London as explanatory variables. The independent variables are mainly 8 factors in 4 aspects, economy (income deprivation affecting children index, house price), social environment (living environment, children and young people sub-domain score), specific population (bame proportion), regional factors (education, health and crime).\n",
    "Among them, because the house prices in London are quite different, the median is used here.  The median is more representative of the overall level than the average."
   ]
  },
  {
   "cell_type": "markdown",
   "metadata": {},
   "source": [
    "<div style=\"float:left\"><img width=\"900\" src=\"https://github.com/Audrey-chenxi/06-Data-Science-for-Spatial-Systems/blob/main/Data/Figure.png?raw=true\" /></div>"
   ]
  },
  {
   "cell_type": "markdown",
   "metadata": {},
   "source": [
    "### 3.1 Import Library"
   ]
  },
  {
   "cell_type": "code",
   "execution_count": 1,
   "metadata": {},
   "outputs": [],
   "source": [
    "import os\n",
    "import copy\n",
    "import numpy as np\n",
    "import pandas as pd\n",
    "import seaborn as sns\n",
    "import seaborn as sn\n",
    "import scipy as sp\n",
    "import statsmodels.api as sm\n",
    "import scipy.stats as sps\n",
    "import matplotlib.pyplot as plt\n",
    "\n",
    "import sklearn\n",
    "import sklearn.metrics as sklm\n",
    "import sklearn.cluster as sklc\n",
    "from sklearn.linear_model import LogisticRegression\n",
    "from sklearn.linear_model import LinearRegression\n",
    "from sklearn.metrics import confusion_matrix\n",
    "from sklearn.cluster import KMeans, DBSCAN, OPTICS\n",
    "from sklearn.preprocessing import PowerTransformer, RobustScaler, StandardScaler, MinMaxScaler\n",
    "\n",
    "from sklearn import linear_model\n",
    "from sklearn.linear_model import lasso_path\n",
    "from sklearn.model_selection import train_test_split\n",
    "from sklearn.tree import DecisionTreeRegressor\n",
    "from sklearn import model_selection\n",
    "from sklearn.model_selection import validation_curve\n",
    "from sklearn.ensemble import RandomForestRegressor\n",
    "from sklearn import model_selection\n",
    "from sklearn.model_selection import validation_curve\n",
    "\n",
    "import matplotlib.pyplot as plt\n",
    "from itertools import cycle\n",
    "from statsmodels.formula.api import ols\n",
    "from statsmodels.stats.outliers_influence import variance_inflation_factor\n",
    "\n",
    "pd.set_option('display.max_rows', 300) # specifies number of rows to show\n",
    "pd.options.display.float_format = '{:40,.4f}'.format # specifies default number format to 4 decimal places\n",
    "plt.style.use('ggplot') # specifies that graphs should use ggplot styling\n",
    "%matplotlib inline"
   ]
  },
  {
   "cell_type": "markdown",
   "metadata": {},
   "source": [
    "### 3.2 Getting the Data"
   ]
  },
  {
   "cell_type": "code",
   "execution_count": 2,
   "metadata": {},
   "outputs": [
    {
     "name": "stdout",
     "output_type": "stream",
     "text": [
      "Data frame is 983 x 2\n",
      "Data frame is 983 x 2\n",
      "Data frame is 7,301 x 2\n",
      "Data frame is 32,844 x 7\n",
      "Data frame is 227,759 x 2\n"
     ]
    }
   ],
   "source": [
    "child_poverty_London_MSOA = \"https://github.com/Audrey-chenxi/06-Data-Science-for-Spatial-Systems/raw/main/Data/child_poverty_London_MSOA.csv\"\n",
    "df0 = pd.read_csv(child_poverty_London_MSOA, low_memory=False)\n",
    "print(f\"Data frame is {df0.shape[0]:,} x {df0.shape[1]}\")\n",
    "bame_London_MSOA = \"https://github.com/Audrey-chenxi/06-Data-Science-for-Spatial-Systems/raw/main/Data/bame_London_MSOA.csv\"\n",
    "df1 = pd.read_csv(bame_London_MSOA, low_memory=False)\n",
    "print(f\"Data frame is {df1.shape[0]:,} x {df1.shape[1]}\")\n",
    "house_price_MSOA = \"https://github.com/Audrey-chenxi/06-Data-Science-for-Spatial-Systems/raw/main/Data/house%20price_MSOA.csv\"\n",
    "df2 = pd.read_csv(house_price_MSOA, low_memory=False)\n",
    "print(f\"Data frame is {df2.shape[0]:,} x {df2.shape[1]}\")\n",
    "indices_of_deprivation_England_LSOA = \"https://github.com/Audrey-chenxi/06-Data-Science-for-Spatial-Systems/blob/main/Data/indices%20of%20deprivation_LSOA.csv?raw=true\"\n",
    "df3 = pd.read_csv(indices_of_deprivation_England_LSOA, low_memory=False)\n",
    "print(f\"Data frame is {df3.shape[0]:,} x {df3.shape[1]}\")\n",
    "LSOA_MSOA = \"https://github.com/Audrey-chenxi/06-Data-Science-for-Spatial-Systems/blob/main/Data/LSOA_MSOA.csv?raw=true\"\n",
    "df4 = pd.read_csv(LSOA_MSOA, low_memory=False)\n",
    "print(f\"Data frame is {df4.shape[0]:,} x {df4.shape[1]}\")"
   ]
  },
  {
   "cell_type": "markdown",
   "metadata": {},
   "source": [
    "### 3.3 Data Join"
   ]
  },
  {
   "cell_type": "markdown",
   "metadata": {},
   "source": [
    "First, merge all MSOA related data sets (df0, df1, df2) into London MSOA<br>\n",
    "Second, convert the LSOA data set to MSOA"
   ]
  },
  {
   "cell_type": "code",
   "execution_count": 3,
   "metadata": {},
   "outputs": [
    {
     "name": "stdout",
     "output_type": "stream",
     "text": [
      "<class 'pandas.core.frame.DataFrame'>\n",
      "Int64Index: 983 entries, 0 to 982\n",
      "Data columns (total 3 columns):\n",
      " #   Column              Non-Null Count  Dtype  \n",
      "---  ------              --------------  -----  \n",
      " 0   MSOA11CD            983 non-null    object \n",
      " 1   child_poverty_prop  983 non-null    float64\n",
      " 2   all_bame_prop       983 non-null    float64\n",
      "dtypes: float64(2), object(1)\n",
      "memory usage: 30.7+ KB\n"
     ]
    }
   ],
   "source": [
    "# Merging two London MSOA files\n",
    "df1_1 = pd.merge(left=df0, right=df1, how='left', left_on='MSOA11CD', right_on='MSOA11CD')\n",
    "df1_1.info()"
   ]
  },
  {
   "cell_type": "code",
   "execution_count": 4,
   "metadata": {},
   "outputs": [
    {
     "name": "stdout",
     "output_type": "stream",
     "text": [
      "<class 'pandas.core.frame.DataFrame'>\n",
      "Int64Index: 983 entries, 0 to 982\n",
      "Data columns (total 5 columns):\n",
      " #   Column              Non-Null Count  Dtype  \n",
      "---  ------              --------------  -----  \n",
      " 0   MSOA11CD            983 non-null    object \n",
      " 1   child_poverty_prop  983 non-null    float64\n",
      " 2   all_bame_prop       983 non-null    float64\n",
      " 3   MSOA code           983 non-null    object \n",
      " 4   house price         983 non-null    object \n",
      "dtypes: float64(2), object(3)\n",
      "memory usage: 46.1+ KB\n"
     ]
    }
   ],
   "source": [
    "# Merge and filter MSOA files, leaving only London MSOA\n",
    "df1_2 = pd.merge(left=df1_1, right=df2, how='left', left_on='MSOA11CD', right_on='MSOA code')\n",
    "df1_2.info()"
   ]
  },
  {
   "cell_type": "code",
   "execution_count": 5,
   "metadata": {},
   "outputs": [
    {
     "name": "stdout",
     "output_type": "stream",
     "text": [
      "<class 'pandas.core.frame.DataFrame'>\n",
      "Int64Index: 983 entries, 0 to 982\n",
      "Data columns (total 5 columns):\n",
      " #   Column              Non-Null Count  Dtype  \n",
      "---  ------              --------------  -----  \n",
      " 0   MSOA11CD            983 non-null    object \n",
      " 1   child_poverty_prop  983 non-null    float64\n",
      " 2   all_bame_prop       983 non-null    float64\n",
      " 3   MSOA code           983 non-null    object \n",
      " 4   house price         983 non-null    float64\n",
      "dtypes: float64(3), object(2)\n",
      "memory usage: 46.1+ KB\n"
     ]
    }
   ],
   "source": [
    "df1_2['house price'] = df1_2['house price'].str.replace(',', '').astype(float)\n",
    "df1_3 = df1_2\n",
    "df1_3.info()"
   ]
  },
  {
   "cell_type": "code",
   "execution_count": 6,
   "metadata": {},
   "outputs": [
    {
     "data": {
      "text/html": [
       "<div>\n",
       "<style scoped>\n",
       "    .dataframe tbody tr th:only-of-type {\n",
       "        vertical-align: middle;\n",
       "    }\n",
       "\n",
       "    .dataframe tbody tr th {\n",
       "        vertical-align: top;\n",
       "    }\n",
       "\n",
       "    .dataframe thead th {\n",
       "        text-align: right;\n",
       "    }\n",
       "</style>\n",
       "<table border=\"1\" class=\"dataframe\">\n",
       "  <thead>\n",
       "    <tr style=\"text-align: right;\">\n",
       "      <th></th>\n",
       "      <th>child_poverty_prop</th>\n",
       "      <th>all_bame_prop</th>\n",
       "      <th>house price</th>\n",
       "    </tr>\n",
       "  </thead>\n",
       "  <tbody>\n",
       "    <tr>\n",
       "      <th>count</th>\n",
       "      <td>983.0000</td>\n",
       "      <td>983.0000</td>\n",
       "      <td>983.0000</td>\n",
       "    </tr>\n",
       "    <tr>\n",
       "      <th>mean</th>\n",
       "      <td>0.1672</td>\n",
       "      <td>0.3942</td>\n",
       "      <td>526,463.3723</td>\n",
       "    </tr>\n",
       "    <tr>\n",
       "      <th>std</th>\n",
       "      <td>0.0755</td>\n",
       "      <td>0.1931</td>\n",
       "      <td>243,318.4074</td>\n",
       "    </tr>\n",
       "    <tr>\n",
       "      <th>min</th>\n",
       "      <td>0.0094</td>\n",
       "      <td>0.0381</td>\n",
       "      <td>214,000.0000</td>\n",
       "    </tr>\n",
       "    <tr>\n",
       "      <th>25%</th>\n",
       "      <td>0.1060</td>\n",
       "      <td>0.2371</td>\n",
       "      <td>384,375.0000</td>\n",
       "    </tr>\n",
       "    <tr>\n",
       "      <th>50%</th>\n",
       "      <td>0.1722</td>\n",
       "      <td>0.3735</td>\n",
       "      <td>465,000.0000</td>\n",
       "    </tr>\n",
       "    <tr>\n",
       "      <th>75%</th>\n",
       "      <td>0.2255</td>\n",
       "      <td>0.5362</td>\n",
       "      <td>587,500.0000</td>\n",
       "    </tr>\n",
       "    <tr>\n",
       "      <th>max</th>\n",
       "      <td>0.3641</td>\n",
       "      <td>0.9386</td>\n",
       "      <td>2,850,000.0000</td>\n",
       "    </tr>\n",
       "  </tbody>\n",
       "</table>\n",
       "</div>"
      ],
      "text/plain": [
       "                            child_poverty_prop  \\\n",
       "count                                 983.0000   \n",
       "mean                                    0.1672   \n",
       "std                                     0.0755   \n",
       "min                                     0.0094   \n",
       "25%                                     0.1060   \n",
       "50%                                     0.1722   \n",
       "75%                                     0.2255   \n",
       "max                                     0.3641   \n",
       "\n",
       "                                 all_bame_prop  \\\n",
       "count                                 983.0000   \n",
       "mean                                    0.3942   \n",
       "std                                     0.1931   \n",
       "min                                     0.0381   \n",
       "25%                                     0.2371   \n",
       "50%                                     0.3735   \n",
       "75%                                     0.5362   \n",
       "max                                     0.9386   \n",
       "\n",
       "                                   house price  \n",
       "count                                 983.0000  \n",
       "mean                              526,463.3723  \n",
       "std                               243,318.4074  \n",
       "min                               214,000.0000  \n",
       "25%                               384,375.0000  \n",
       "50%                               465,000.0000  \n",
       "75%                               587,500.0000  \n",
       "max                             2,850,000.0000  "
      ]
     },
     "execution_count": 6,
     "metadata": {},
     "output_type": "execute_result"
    }
   ],
   "source": [
    "df1_3.describe()"
   ]
  },
  {
   "cell_type": "code",
   "execution_count": 7,
   "metadata": {},
   "outputs": [
    {
     "name": "stdout",
     "output_type": "stream",
     "text": [
      "<class 'pandas.core.frame.DataFrame'>\n",
      "Int64Index: 171372 entries, 0 to 171371\n",
      "Data columns (total 9 columns):\n",
      " #   Column                                                            Non-Null Count   Dtype  \n",
      "---  ------                                                            --------------   -----  \n",
      " 0   LSOA code (2011)                                                  171372 non-null  object \n",
      " 1   Education, Skills and Training Score                              171372 non-null  float64\n",
      " 2   Health Deprivation and Disability Score                           171372 non-null  float64\n",
      " 3   Crime Score                                                       171372 non-null  float64\n",
      " 4   Living Environment Score                                          171372 non-null  float64\n",
      " 5   Income Deprivation Affecting Children Index (IDACI) Score (rate)  171372 non-null  float64\n",
      " 6   Children and Young People Sub-domain Score                        171372 non-null  float64\n",
      " 7   LSOA11CD                                                          171372 non-null  object \n",
      " 8   MSOA11CD                                                          171372 non-null  object \n",
      "dtypes: float64(6), object(3)\n",
      "memory usage: 13.1+ MB\n"
     ]
    }
   ],
   "source": [
    "# Combine LSOA related data collection into MSOA level\n",
    "df2_1 = pd.merge(left=df3, right=df4, how='left', left_on='LSOA code (2011)', right_on='LSOA11CD')\n",
    "df2_1.info()\n"
   ]
  },
  {
   "cell_type": "code",
   "execution_count": 8,
   "metadata": {},
   "outputs": [
    {
     "data": {
      "text/html": [
       "<div>\n",
       "<style scoped>\n",
       "    .dataframe tbody tr th:only-of-type {\n",
       "        vertical-align: middle;\n",
       "    }\n",
       "\n",
       "    .dataframe tbody tr th {\n",
       "        vertical-align: top;\n",
       "    }\n",
       "\n",
       "    .dataframe thead th {\n",
       "        text-align: right;\n",
       "    }\n",
       "</style>\n",
       "<table border=\"1\" class=\"dataframe\">\n",
       "  <thead>\n",
       "    <tr style=\"text-align: right;\">\n",
       "      <th></th>\n",
       "      <th>MSOA code</th>\n",
       "      <th>Education</th>\n",
       "      <th>Health</th>\n",
       "      <th>Crime</th>\n",
       "      <th>Living Environment</th>\n",
       "      <th>Income</th>\n",
       "      <th>CYP</th>\n",
       "    </tr>\n",
       "  </thead>\n",
       "  <tbody>\n",
       "    <tr>\n",
       "      <th>0</th>\n",
       "      <td>E02000001</td>\n",
       "      <td>4.7197</td>\n",
       "      <td>-0.7076</td>\n",
       "      <td>-1.6666</td>\n",
       "      <td>38.7227</td>\n",
       "      <td>0.0496</td>\n",
       "      <td>-1.0045</td>\n",
       "    </tr>\n",
       "    <tr>\n",
       "      <th>1</th>\n",
       "      <td>E02000002</td>\n",
       "      <td>30.2599</td>\n",
       "      <td>0.2203</td>\n",
       "      <td>0.4431</td>\n",
       "      <td>20.0390</td>\n",
       "      <td>0.2520</td>\n",
       "      <td>0.3109</td>\n",
       "    </tr>\n",
       "    <tr>\n",
       "      <th>2</th>\n",
       "      <td>E02000003</td>\n",
       "      <td>17.8787</td>\n",
       "      <td>-0.0137</td>\n",
       "      <td>0.5447</td>\n",
       "      <td>30.3942</td>\n",
       "      <td>0.1787</td>\n",
       "      <td>-0.2371</td>\n",
       "    </tr>\n",
       "    <tr>\n",
       "      <th>3</th>\n",
       "      <td>E02000004</td>\n",
       "      <td>22.5867</td>\n",
       "      <td>0.0249</td>\n",
       "      <td>0.1238</td>\n",
       "      <td>20.5245</td>\n",
       "      <td>0.1832</td>\n",
       "      <td>-0.0513</td>\n",
       "    </tr>\n",
       "    <tr>\n",
       "      <th>4</th>\n",
       "      <td>E02000005</td>\n",
       "      <td>27.2438</td>\n",
       "      <td>0.0993</td>\n",
       "      <td>0.6167</td>\n",
       "      <td>35.8000</td>\n",
       "      <td>0.1978</td>\n",
       "      <td>0.0228</td>\n",
       "    </tr>\n",
       "  </tbody>\n",
       "</table>\n",
       "</div>"
      ],
      "text/plain": [
       "   MSOA code                                Education  \\\n",
       "0  E02000001                                   4.7197   \n",
       "1  E02000002                                  30.2599   \n",
       "2  E02000003                                  17.8787   \n",
       "3  E02000004                                  22.5867   \n",
       "4  E02000005                                  27.2438   \n",
       "\n",
       "                                    Health  \\\n",
       "0                                  -0.7076   \n",
       "1                                   0.2203   \n",
       "2                                  -0.0137   \n",
       "3                                   0.0249   \n",
       "4                                   0.0993   \n",
       "\n",
       "                                     Crime  \\\n",
       "0                                  -1.6666   \n",
       "1                                   0.4431   \n",
       "2                                   0.5447   \n",
       "3                                   0.1238   \n",
       "4                                   0.6167   \n",
       "\n",
       "                        Living Environment  \\\n",
       "0                                  38.7227   \n",
       "1                                  20.0390   \n",
       "2                                  30.3942   \n",
       "3                                  20.5245   \n",
       "4                                  35.8000   \n",
       "\n",
       "                                    Income  \\\n",
       "0                                   0.0496   \n",
       "1                                   0.2520   \n",
       "2                                   0.1787   \n",
       "3                                   0.1832   \n",
       "4                                   0.1978   \n",
       "\n",
       "                                       CYP  \n",
       "0                                  -1.0045  \n",
       "1                                   0.3109  \n",
       "2                                  -0.2371  \n",
       "3                                  -0.0513  \n",
       "4                                   0.0228  "
      ]
     },
     "execution_count": 8,
     "metadata": {},
     "output_type": "execute_result"
    }
   ],
   "source": [
    "df2_2 = pd.merge(left=df1_3, right=df2_1, how='left', left_on='MSOA code', right_on='MSOA11CD')\n",
    "df2_3 = df2_2.groupby(['MSOA code'])['Education, Skills and Training Score'].agg(['mean']).reset_index().rename(columns={'mean':'Education',})\n",
    "df2_4 = df2_2.groupby(['MSOA code'])['Health Deprivation and Disability Score'].agg(['mean']).reset_index().rename(columns={'mean':'Health',})\n",
    "df2_5 = df2_2.groupby(['MSOA code'])['Crime Score'].agg(['mean']).reset_index().rename(columns={'mean':'Crime',})\n",
    "df2_6 = df2_2.groupby(['MSOA code'])['Living Environment Score'].agg(['mean']).reset_index().rename(columns={'mean':'Living Environment',})\n",
    "df2_7 = df2_2.groupby(['MSOA code'])['Income Deprivation Affecting Children Index (IDACI) Score (rate)'].agg(['mean']).reset_index().rename(columns={'mean':'Income',})\n",
    "df2_8 = df2_2.groupby(['MSOA code'])['Children and Young People Sub-domain Score'].agg(['mean']).reset_index().rename(columns={'mean':'CYP',})\n",
    "\n",
    "df2_9 = pd.merge(left=df2_3, right=df2_4, how='left', on='MSOA code')\n",
    "df2_9 = pd.merge(left=df2_9, right=df2_5, how='left', on='MSOA code')\n",
    "df2_9 = pd.merge(left=df2_9, right=df2_6, how='left', on='MSOA code')\n",
    "df2_9 = pd.merge(left=df2_9, right=df2_7, how='left', on='MSOA code')\n",
    "df2_9 = pd.merge(left=df2_9, right=df2_8, how='left', on='MSOA code')\n",
    "df2_9.head()"
   ]
  },
  {
   "cell_type": "markdown",
   "metadata": {},
   "source": [
    "### 3.4 Data Summarise"
   ]
  },
  {
   "cell_type": "markdown",
   "metadata": {},
   "source": [
    "Get all datasets of London MSOA level"
   ]
  },
  {
   "cell_type": "code",
   "execution_count": 9,
   "metadata": {},
   "outputs": [
    {
     "data": {
      "text/html": [
       "<div>\n",
       "<style scoped>\n",
       "    .dataframe tbody tr th:only-of-type {\n",
       "        vertical-align: middle;\n",
       "    }\n",
       "\n",
       "    .dataframe tbody tr th {\n",
       "        vertical-align: top;\n",
       "    }\n",
       "\n",
       "    .dataframe thead th {\n",
       "        text-align: right;\n",
       "    }\n",
       "</style>\n",
       "<table border=\"1\" class=\"dataframe\">\n",
       "  <thead>\n",
       "    <tr style=\"text-align: right;\">\n",
       "      <th></th>\n",
       "      <th>MSOA11CD</th>\n",
       "      <th>child_poverty_prop</th>\n",
       "      <th>all_bame_prop</th>\n",
       "      <th>MSOA code</th>\n",
       "      <th>house price</th>\n",
       "      <th>Education</th>\n",
       "      <th>Health</th>\n",
       "      <th>Crime</th>\n",
       "      <th>Living Environment</th>\n",
       "      <th>Income</th>\n",
       "      <th>CYP</th>\n",
       "    </tr>\n",
       "  </thead>\n",
       "  <tbody>\n",
       "    <tr>\n",
       "      <th>0</th>\n",
       "      <td>E02000001</td>\n",
       "      <td>0.0526</td>\n",
       "      <td>0.2137</td>\n",
       "      <td>E02000001</td>\n",
       "      <td>919,325.0000</td>\n",
       "      <td>4.7197</td>\n",
       "      <td>-0.7076</td>\n",
       "      <td>-1.6666</td>\n",
       "      <td>38.7227</td>\n",
       "      <td>0.0496</td>\n",
       "      <td>-1.0045</td>\n",
       "    </tr>\n",
       "    <tr>\n",
       "      <th>1</th>\n",
       "      <td>E02000002</td>\n",
       "      <td>0.2739</td>\n",
       "      <td>0.3501</td>\n",
       "      <td>E02000002</td>\n",
       "      <td>350,000.0000</td>\n",
       "      <td>30.2599</td>\n",
       "      <td>0.2203</td>\n",
       "      <td>0.4431</td>\n",
       "      <td>20.0390</td>\n",
       "      <td>0.2520</td>\n",
       "      <td>0.3109</td>\n",
       "    </tr>\n",
       "    <tr>\n",
       "      <th>2</th>\n",
       "      <td>E02000003</td>\n",
       "      <td>0.2467</td>\n",
       "      <td>0.4539</td>\n",
       "      <td>E02000003</td>\n",
       "      <td>348,000.0000</td>\n",
       "      <td>17.8787</td>\n",
       "      <td>-0.0137</td>\n",
       "      <td>0.5447</td>\n",
       "      <td>30.3942</td>\n",
       "      <td>0.1787</td>\n",
       "      <td>-0.2371</td>\n",
       "    </tr>\n",
       "    <tr>\n",
       "      <th>3</th>\n",
       "      <td>E02000004</td>\n",
       "      <td>0.2020</td>\n",
       "      <td>0.1902</td>\n",
       "      <td>E02000004</td>\n",
       "      <td>350,000.0000</td>\n",
       "      <td>22.5867</td>\n",
       "      <td>0.0249</td>\n",
       "      <td>0.1238</td>\n",
       "      <td>20.5245</td>\n",
       "      <td>0.1832</td>\n",
       "      <td>-0.0513</td>\n",
       "    </tr>\n",
       "    <tr>\n",
       "      <th>4</th>\n",
       "      <td>E02000005</td>\n",
       "      <td>0.2319</td>\n",
       "      <td>0.3373</td>\n",
       "      <td>E02000005</td>\n",
       "      <td>330,000.0000</td>\n",
       "      <td>27.2438</td>\n",
       "      <td>0.0993</td>\n",
       "      <td>0.6167</td>\n",
       "      <td>35.8000</td>\n",
       "      <td>0.1978</td>\n",
       "      <td>0.0228</td>\n",
       "    </tr>\n",
       "  </tbody>\n",
       "</table>\n",
       "</div>"
      ],
      "text/plain": [
       "    MSOA11CD                       child_poverty_prop  \\\n",
       "0  E02000001                                   0.0526   \n",
       "1  E02000002                                   0.2739   \n",
       "2  E02000003                                   0.2467   \n",
       "3  E02000004                                   0.2020   \n",
       "4  E02000005                                   0.2319   \n",
       "\n",
       "                             all_bame_prop  MSOA code  \\\n",
       "0                                   0.2137  E02000001   \n",
       "1                                   0.3501  E02000002   \n",
       "2                                   0.4539  E02000003   \n",
       "3                                   0.1902  E02000004   \n",
       "4                                   0.3373  E02000005   \n",
       "\n",
       "                               house price  \\\n",
       "0                             919,325.0000   \n",
       "1                             350,000.0000   \n",
       "2                             348,000.0000   \n",
       "3                             350,000.0000   \n",
       "4                             330,000.0000   \n",
       "\n",
       "                                 Education  \\\n",
       "0                                   4.7197   \n",
       "1                                  30.2599   \n",
       "2                                  17.8787   \n",
       "3                                  22.5867   \n",
       "4                                  27.2438   \n",
       "\n",
       "                                    Health  \\\n",
       "0                                  -0.7076   \n",
       "1                                   0.2203   \n",
       "2                                  -0.0137   \n",
       "3                                   0.0249   \n",
       "4                                   0.0993   \n",
       "\n",
       "                                     Crime  \\\n",
       "0                                  -1.6666   \n",
       "1                                   0.4431   \n",
       "2                                   0.5447   \n",
       "3                                   0.1238   \n",
       "4                                   0.6167   \n",
       "\n",
       "                        Living Environment  \\\n",
       "0                                  38.7227   \n",
       "1                                  20.0390   \n",
       "2                                  30.3942   \n",
       "3                                  20.5245   \n",
       "4                                  35.8000   \n",
       "\n",
       "                                    Income  \\\n",
       "0                                   0.0496   \n",
       "1                                   0.2520   \n",
       "2                                   0.1787   \n",
       "3                                   0.1832   \n",
       "4                                   0.1978   \n",
       "\n",
       "                                       CYP  \n",
       "0                                  -1.0045  \n",
       "1                                   0.3109  \n",
       "2                                  -0.2371  \n",
       "3                                  -0.0513  \n",
       "4                                   0.0228  "
      ]
     },
     "execution_count": 9,
     "metadata": {},
     "output_type": "execute_result"
    }
   ],
   "source": [
    "df3_1 = pd.merge(left=df1_3, right=df2_9, how='left', on='MSOA code')\n",
    "df3_1.head()"
   ]
  },
  {
   "cell_type": "code",
   "execution_count": 10,
   "metadata": {},
   "outputs": [
    {
     "name": "stdout",
     "output_type": "stream",
     "text": [
      "<class 'pandas.core.frame.DataFrame'>\n",
      "Int64Index: 983 entries, 0 to 982\n",
      "Data columns (total 9 columns):\n",
      " #   Column              Non-Null Count  Dtype  \n",
      "---  ------              --------------  -----  \n",
      " 0   Child Poverty       983 non-null    float64\n",
      " 1   Bame                983 non-null    float64\n",
      " 2   House Price         983 non-null    float64\n",
      " 3   Education           983 non-null    float64\n",
      " 4   Health              983 non-null    float64\n",
      " 5   Crime               983 non-null    float64\n",
      " 6   Living Environment  983 non-null    float64\n",
      " 7   Income              983 non-null    float64\n",
      " 8   CYP                 983 non-null    float64\n",
      "dtypes: float64(9)\n",
      "memory usage: 76.8 KB\n"
     ]
    }
   ],
   "source": [
    "CP = df3_1.drop(columns=['MSOA code'], axis=1)\n",
    "CP = CP.drop(columns=['MSOA11CD'], axis=1)\n",
    "CP = CP.rename(columns={\"child_poverty_prop\":\"Child Poverty\",\"all_bame_prop\":\"Bame\",\"house price\":\"House Price\",})\n",
    "CP.info()"
   ]
  },
  {
   "cell_type": "code",
   "execution_count": 11,
   "metadata": {},
   "outputs": [
    {
     "data": {
      "text/html": [
       "<div>\n",
       "<style scoped>\n",
       "    .dataframe tbody tr th:only-of-type {\n",
       "        vertical-align: middle;\n",
       "    }\n",
       "\n",
       "    .dataframe tbody tr th {\n",
       "        vertical-align: top;\n",
       "    }\n",
       "\n",
       "    .dataframe thead th {\n",
       "        text-align: right;\n",
       "    }\n",
       "</style>\n",
       "<table border=\"1\" class=\"dataframe\">\n",
       "  <thead>\n",
       "    <tr style=\"text-align: right;\">\n",
       "      <th></th>\n",
       "      <th>Child Poverty</th>\n",
       "      <th>Bame</th>\n",
       "      <th>House Price</th>\n",
       "      <th>Education</th>\n",
       "      <th>Health</th>\n",
       "      <th>Crime</th>\n",
       "      <th>Living Environment</th>\n",
       "      <th>Income</th>\n",
       "      <th>CYP</th>\n",
       "    </tr>\n",
       "  </thead>\n",
       "  <tbody>\n",
       "    <tr>\n",
       "      <th>0</th>\n",
       "      <td>0.0526</td>\n",
       "      <td>0.2137</td>\n",
       "      <td>919,325.0000</td>\n",
       "      <td>4.7197</td>\n",
       "      <td>-0.7076</td>\n",
       "      <td>-1.6666</td>\n",
       "      <td>38.7227</td>\n",
       "      <td>0.0496</td>\n",
       "      <td>-1.0045</td>\n",
       "    </tr>\n",
       "    <tr>\n",
       "      <th>1</th>\n",
       "      <td>0.2739</td>\n",
       "      <td>0.3501</td>\n",
       "      <td>350,000.0000</td>\n",
       "      <td>30.2599</td>\n",
       "      <td>0.2203</td>\n",
       "      <td>0.4431</td>\n",
       "      <td>20.0390</td>\n",
       "      <td>0.2520</td>\n",
       "      <td>0.3109</td>\n",
       "    </tr>\n",
       "    <tr>\n",
       "      <th>2</th>\n",
       "      <td>0.2467</td>\n",
       "      <td>0.4539</td>\n",
       "      <td>348,000.0000</td>\n",
       "      <td>17.8787</td>\n",
       "      <td>-0.0137</td>\n",
       "      <td>0.5447</td>\n",
       "      <td>30.3942</td>\n",
       "      <td>0.1787</td>\n",
       "      <td>-0.2371</td>\n",
       "    </tr>\n",
       "    <tr>\n",
       "      <th>3</th>\n",
       "      <td>0.2020</td>\n",
       "      <td>0.1902</td>\n",
       "      <td>350,000.0000</td>\n",
       "      <td>22.5867</td>\n",
       "      <td>0.0249</td>\n",
       "      <td>0.1238</td>\n",
       "      <td>20.5245</td>\n",
       "      <td>0.1832</td>\n",
       "      <td>-0.0513</td>\n",
       "    </tr>\n",
       "    <tr>\n",
       "      <th>4</th>\n",
       "      <td>0.2319</td>\n",
       "      <td>0.3373</td>\n",
       "      <td>330,000.0000</td>\n",
       "      <td>27.2438</td>\n",
       "      <td>0.0993</td>\n",
       "      <td>0.6167</td>\n",
       "      <td>35.8000</td>\n",
       "      <td>0.1978</td>\n",
       "      <td>0.0228</td>\n",
       "    </tr>\n",
       "  </tbody>\n",
       "</table>\n",
       "</div>"
      ],
      "text/plain": [
       "                             Child Poverty  \\\n",
       "0                                   0.0526   \n",
       "1                                   0.2739   \n",
       "2                                   0.2467   \n",
       "3                                   0.2020   \n",
       "4                                   0.2319   \n",
       "\n",
       "                                      Bame  \\\n",
       "0                                   0.2137   \n",
       "1                                   0.3501   \n",
       "2                                   0.4539   \n",
       "3                                   0.1902   \n",
       "4                                   0.3373   \n",
       "\n",
       "                               House Price  \\\n",
       "0                             919,325.0000   \n",
       "1                             350,000.0000   \n",
       "2                             348,000.0000   \n",
       "3                             350,000.0000   \n",
       "4                             330,000.0000   \n",
       "\n",
       "                                 Education  \\\n",
       "0                                   4.7197   \n",
       "1                                  30.2599   \n",
       "2                                  17.8787   \n",
       "3                                  22.5867   \n",
       "4                                  27.2438   \n",
       "\n",
       "                                    Health  \\\n",
       "0                                  -0.7076   \n",
       "1                                   0.2203   \n",
       "2                                  -0.0137   \n",
       "3                                   0.0249   \n",
       "4                                   0.0993   \n",
       "\n",
       "                                     Crime  \\\n",
       "0                                  -1.6666   \n",
       "1                                   0.4431   \n",
       "2                                   0.5447   \n",
       "3                                   0.1238   \n",
       "4                                   0.6167   \n",
       "\n",
       "                        Living Environment  \\\n",
       "0                                  38.7227   \n",
       "1                                  20.0390   \n",
       "2                                  30.3942   \n",
       "3                                  20.5245   \n",
       "4                                  35.8000   \n",
       "\n",
       "                                    Income  \\\n",
       "0                                   0.0496   \n",
       "1                                   0.2520   \n",
       "2                                   0.1787   \n",
       "3                                   0.1832   \n",
       "4                                   0.1978   \n",
       "\n",
       "                                       CYP  \n",
       "0                                  -1.0045  \n",
       "1                                   0.3109  \n",
       "2                                  -0.2371  \n",
       "3                                  -0.0513  \n",
       "4                                   0.0228  "
      ]
     },
     "execution_count": 11,
     "metadata": {},
     "output_type": "execute_result"
    }
   ],
   "source": [
    "CP.head()"
   ]
  },
  {
   "cell_type": "code",
   "execution_count": 12,
   "metadata": {},
   "outputs": [
    {
     "data": {
      "text/html": [
       "<div>\n",
       "<style scoped>\n",
       "    .dataframe tbody tr th:only-of-type {\n",
       "        vertical-align: middle;\n",
       "    }\n",
       "\n",
       "    .dataframe tbody tr th {\n",
       "        vertical-align: top;\n",
       "    }\n",
       "\n",
       "    .dataframe thead th {\n",
       "        text-align: right;\n",
       "    }\n",
       "</style>\n",
       "<table border=\"1\" class=\"dataframe\">\n",
       "  <thead>\n",
       "    <tr style=\"text-align: right;\">\n",
       "      <th></th>\n",
       "      <th>Child Poverty</th>\n",
       "      <th>Bame</th>\n",
       "      <th>House Price</th>\n",
       "      <th>Education</th>\n",
       "      <th>Health</th>\n",
       "      <th>Crime</th>\n",
       "      <th>Living Environment</th>\n",
       "      <th>Income</th>\n",
       "      <th>CYP</th>\n",
       "    </tr>\n",
       "  </thead>\n",
       "  <tbody>\n",
       "    <tr>\n",
       "      <th>count</th>\n",
       "      <td>983.0000</td>\n",
       "      <td>983.0000</td>\n",
       "      <td>983.0000</td>\n",
       "      <td>983.0000</td>\n",
       "      <td>983.0000</td>\n",
       "      <td>983.0000</td>\n",
       "      <td>983.0000</td>\n",
       "      <td>983.0000</td>\n",
       "      <td>983.0000</td>\n",
       "    </tr>\n",
       "    <tr>\n",
       "      <th>mean</th>\n",
       "      <td>0.1672</td>\n",
       "      <td>0.3942</td>\n",
       "      <td>526,463.3723</td>\n",
       "      <td>13.0640</td>\n",
       "      <td>-0.3791</td>\n",
       "      <td>0.2604</td>\n",
       "      <td>29.2455</td>\n",
       "      <td>0.1732</td>\n",
       "      <td>-0.3953</td>\n",
       "    </tr>\n",
       "    <tr>\n",
       "      <th>std</th>\n",
       "      <td>0.0755</td>\n",
       "      <td>0.1931</td>\n",
       "      <td>243,318.4074</td>\n",
       "      <td>8.6800</td>\n",
       "      <td>0.5980</td>\n",
       "      <td>0.4445</td>\n",
       "      <td>9.0568</td>\n",
       "      <td>0.0810</td>\n",
       "      <td>0.4570</td>\n",
       "    </tr>\n",
       "    <tr>\n",
       "      <th>min</th>\n",
       "      <td>0.0094</td>\n",
       "      <td>0.0381</td>\n",
       "      <td>214,000.0000</td>\n",
       "      <td>0.1932</td>\n",
       "      <td>-3.0468</td>\n",
       "      <td>-1.6666</td>\n",
       "      <td>7.7044</td>\n",
       "      <td>0.0081</td>\n",
       "      <td>-1.8165</td>\n",
       "    </tr>\n",
       "    <tr>\n",
       "      <th>25%</th>\n",
       "      <td>0.1060</td>\n",
       "      <td>0.2371</td>\n",
       "      <td>384,375.0000</td>\n",
       "      <td>6.3145</td>\n",
       "      <td>-0.7778</td>\n",
       "      <td>-0.0312</td>\n",
       "      <td>22.8794</td>\n",
       "      <td>0.1099</td>\n",
       "      <td>-0.6647</td>\n",
       "    </tr>\n",
       "    <tr>\n",
       "      <th>50%</th>\n",
       "      <td>0.1722</td>\n",
       "      <td>0.3735</td>\n",
       "      <td>465,000.0000</td>\n",
       "      <td>11.5676</td>\n",
       "      <td>-0.2922</td>\n",
       "      <td>0.2942</td>\n",
       "      <td>29.2036</td>\n",
       "      <td>0.1673</td>\n",
       "      <td>-0.3405</td>\n",
       "    </tr>\n",
       "    <tr>\n",
       "      <th>75%</th>\n",
       "      <td>0.2255</td>\n",
       "      <td>0.5362</td>\n",
       "      <td>587,500.0000</td>\n",
       "      <td>18.1931</td>\n",
       "      <td>0.0774</td>\n",
       "      <td>0.5691</td>\n",
       "      <td>35.0504</td>\n",
       "      <td>0.2367</td>\n",
       "      <td>-0.0868</td>\n",
       "    </tr>\n",
       "    <tr>\n",
       "      <th>max</th>\n",
       "      <td>0.3641</td>\n",
       "      <td>0.9386</td>\n",
       "      <td>2,850,000.0000</td>\n",
       "      <td>44.7985</td>\n",
       "      <td>0.9410</td>\n",
       "      <td>1.5721</td>\n",
       "      <td>60.7304</td>\n",
       "      <td>0.4125</td>\n",
       "      <td>0.7578</td>\n",
       "    </tr>\n",
       "  </tbody>\n",
       "</table>\n",
       "</div>"
      ],
      "text/plain": [
       "                                 Child Poverty  \\\n",
       "count                                 983.0000   \n",
       "mean                                    0.1672   \n",
       "std                                     0.0755   \n",
       "min                                     0.0094   \n",
       "25%                                     0.1060   \n",
       "50%                                     0.1722   \n",
       "75%                                     0.2255   \n",
       "max                                     0.3641   \n",
       "\n",
       "                                          Bame  \\\n",
       "count                                 983.0000   \n",
       "mean                                    0.3942   \n",
       "std                                     0.1931   \n",
       "min                                     0.0381   \n",
       "25%                                     0.2371   \n",
       "50%                                     0.3735   \n",
       "75%                                     0.5362   \n",
       "max                                     0.9386   \n",
       "\n",
       "                                   House Price  \\\n",
       "count                                 983.0000   \n",
       "mean                              526,463.3723   \n",
       "std                               243,318.4074   \n",
       "min                               214,000.0000   \n",
       "25%                               384,375.0000   \n",
       "50%                               465,000.0000   \n",
       "75%                               587,500.0000   \n",
       "max                             2,850,000.0000   \n",
       "\n",
       "                                     Education  \\\n",
       "count                                 983.0000   \n",
       "mean                                   13.0640   \n",
       "std                                     8.6800   \n",
       "min                                     0.1932   \n",
       "25%                                     6.3145   \n",
       "50%                                    11.5676   \n",
       "75%                                    18.1931   \n",
       "max                                    44.7985   \n",
       "\n",
       "                                        Health  \\\n",
       "count                                 983.0000   \n",
       "mean                                   -0.3791   \n",
       "std                                     0.5980   \n",
       "min                                    -3.0468   \n",
       "25%                                    -0.7778   \n",
       "50%                                    -0.2922   \n",
       "75%                                     0.0774   \n",
       "max                                     0.9410   \n",
       "\n",
       "                                         Crime  \\\n",
       "count                                 983.0000   \n",
       "mean                                    0.2604   \n",
       "std                                     0.4445   \n",
       "min                                    -1.6666   \n",
       "25%                                    -0.0312   \n",
       "50%                                     0.2942   \n",
       "75%                                     0.5691   \n",
       "max                                     1.5721   \n",
       "\n",
       "                            Living Environment  \\\n",
       "count                                 983.0000   \n",
       "mean                                   29.2455   \n",
       "std                                     9.0568   \n",
       "min                                     7.7044   \n",
       "25%                                    22.8794   \n",
       "50%                                    29.2036   \n",
       "75%                                    35.0504   \n",
       "max                                    60.7304   \n",
       "\n",
       "                                        Income  \\\n",
       "count                                 983.0000   \n",
       "mean                                    0.1732   \n",
       "std                                     0.0810   \n",
       "min                                     0.0081   \n",
       "25%                                     0.1099   \n",
       "50%                                     0.1673   \n",
       "75%                                     0.2367   \n",
       "max                                     0.4125   \n",
       "\n",
       "                                           CYP  \n",
       "count                                 983.0000  \n",
       "mean                                   -0.3953  \n",
       "std                                     0.4570  \n",
       "min                                    -1.8165  \n",
       "25%                                    -0.6647  \n",
       "50%                                    -0.3405  \n",
       "75%                                    -0.0868  \n",
       "max                                     0.7578  "
      ]
     },
     "execution_count": 12,
     "metadata": {},
     "output_type": "execute_result"
    }
   ],
   "source": [
    "CP.describe()"
   ]
  },
  {
   "cell_type": "code",
   "execution_count": 13,
   "metadata": {},
   "outputs": [],
   "source": [
    "CP.to_csv(r'xixizi.csv')"
   ]
  },
  {
   "cell_type": "markdown",
   "metadata": {},
   "source": [
    "### 3.5 Data Plot"
   ]
  },
  {
   "cell_type": "markdown",
   "metadata": {},
   "source": [
    "Although the data has a small number of outliers, it is a complete data that includes all MSOAs in London that are not missing. And there is a big gap in some aspects of the London, such as housing prices, but it does not mean that the data is abnormal or wrong. This model is not as sensitive to outliers as logistic regression, so they are not deleted."
   ]
  },
  {
   "cell_type": "code",
   "execution_count": 14,
   "metadata": {},
   "outputs": [
    {
     "data": {
      "text/plain": [
       "Text(0.5, 1.0, 'Figure 2: Box plot')"
      ]
     },
     "execution_count": 14,
     "metadata": {},
     "output_type": "execute_result"
    },
    {
     "data": {
      "image/png": "[encoded data removed]",
      "text/plain": [
       "<Figure size 1152x720 with 10 Axes>"
      ]
     },
     "metadata": {
      "needs_background": "light"
     },
     "output_type": "display_data"
    }
   ],
   "source": [
    "figure ,axes =plt.subplots(2,5,figsize=(16,10))\n",
    "axes[0][0].boxplot(CP['Child Poverty'],widths = 0.4)\n",
    "axes[0][0].set_title('Child Poverty')\n",
    "axes[0][1].boxplot(CP['Bame'],widths = 0.4)\n",
    "axes[0][1].set_title('Bame')\n",
    "axes[0][2].boxplot(CP['House Price'],widths = 0.4)\n",
    "axes[0][2].set_title('House Price')\n",
    "axes[0][3].boxplot(CP.Education,widths = 0.4)\n",
    "axes[0][3].set_title('Education')\n",
    "axes[0][4].boxplot(CP.Health,widths = 0.4)\n",
    "axes[0][4].set_title('Health')\n",
    "axes[1][0].boxplot(CP.Crime,widths = 0.4)\n",
    "axes[1][0].set_title('Crime')\n",
    "axes[1][1].boxplot(CP['Living Environment'],widths = 0.4)\n",
    "axes[1][1].set_title('Living Environment')\n",
    "axes[1][2].boxplot(CP.Income,widths = 0.4)\n",
    "axes[1][2].set_title('Income')\n",
    "axes[1][3].boxplot(CP.CYP,widths = 0.4)\n",
    "axes[1][3].set_title('CYP')\n",
    "plt.title('Figure 2: Box plot', fontsize=16)"
   ]
  },
  {
   "cell_type": "markdown",
   "metadata": {},
   "source": [
    "## 4. Methodology"
   ]
  },
  {
   "cell_type": "markdown",
   "metadata": {},
   "source": [
    "Because of the number of words, this article does not introduce methodology in detail, but integrates the corresponding theoretical ideas and principles into the introduction and analysis. We used linear regression, regression tree and random forest to fit the model, study and predict the child poverty rate. And in linear regression, two methods(VIF and Lasso) are used to deal with multiple collinearity. In the two models of machine learning, we try to continuously optimize the model by adjusting hyperparameters and cross-validation method. These two methods do not perform collinearity processing, because the purpose here is to make predictions to improve accuracy. The collinearity or multiple collinearity of the variables will not have a great negative effect. <br>\n",
    "\n",
    "In this process, the advantages and disadvantages of different methods are analyzed and compared, different models and methods are viewed critically, and the model suitable for this dataset is finally selected."
   ]
  },
  {
   "cell_type": "markdown",
   "metadata": {},
   "source": [
    "### 4.1 Linear Regression"
   ]
  },
  {
   "cell_type": "markdown",
   "metadata": {},
   "source": [
    "First, create a matrix to detect the collinearity between attributes, because two highly related variables in the regression have a lot of duplicate information, which causes the collinearity problem. Second, perform the first fitting, and third, test the P value, and re-fit to the P value all meet the requirements. Fourth, perform the VIF test. Fifth, after confirming the final model, we analyze residuals. Here we select the more important residuals and fit graphs and use the histogram, P-P and Q-Q plots as auxiliary references. Sixth, use Lasso's method to re-examine the selection of variables to see if it can improve the prediction accuracy and interpretability of the regression model. (R. Muthukrishnan and R. Rohini 2016)"
   ]
  },
  {
   "cell_type": "markdown",
   "metadata": {},
   "source": [
    "### 4.1.1 Correlation Matrix between independent variables\n",
    "This matrix shows the correlation between predictor variables"
   ]
  },
  {
   "cell_type": "code",
   "execution_count": 15,
   "metadata": {},
   "outputs": [
    {
     "data": {
      "text/plain": [
       "Text(0.5, 1.0, 'Figure 3: Correlation Matrix')"
      ]
     },
     "execution_count": 15,
     "metadata": {},
     "output_type": "execute_result"
    },
    {
     "data": {
      "image/png": "[encoded data removed]",
      "text/plain": [
       "<Figure size 1080x864 with 2 Axes>"
      ]
     },
     "metadata": {
      "needs_background": "light"
     },
     "output_type": "display_data"
    }
   ],
   "source": [
    "plt.rcParams[\"axes.grid\"] = False\n",
    "f = plt.figure(figsize=(15, 12))\n",
    "plt.matshow(CP.corr(), fignum=f.number)\n",
    "plt.xticks(range(CP.shape[1]), CP.columns, fontsize=14, rotation=45)\n",
    "plt.yticks(range(CP.shape[1]), CP.columns, fontsize=14)\n",
    "cb = plt.colorbar()\n",
    "cb.ax.tick_params(labelsize=14)\n",
    "plt.title('Figure 3: Correlation Matrix', fontsize=16)"
   ]
  },
  {
   "cell_type": "markdown",
   "metadata": {},
   "source": [
    "### 4.1.2 First fit"
   ]
  },
  {
   "cell_type": "markdown",
   "metadata": {},
   "source": [
    "The P-value of crime and living environment exceeds 0.05. This shows that these two factors have no significant relationship with child poverty and are not in line with expectations, so these two variables are deleted."
   ]
  },
  {
   "cell_type": "code",
   "execution_count": 16,
   "metadata": {},
   "outputs": [],
   "source": [
    "CP0=copy.deepcopy(CP)"
   ]
  },
  {
   "cell_type": "code",
   "execution_count": 17,
   "metadata": {},
   "outputs": [
    {
     "name": "stdout",
     "output_type": "stream",
     "text": [
      "<class 'pandas.core.frame.DataFrame'>\n",
      "Int64Index: 983 entries, 0 to 982\n",
      "Data columns (total 9 columns):\n",
      " #   Column              Non-Null Count  Dtype  \n",
      "---  ------              --------------  -----  \n",
      " 0   Child Poverty       983 non-null    float64\n",
      " 1   Bame                983 non-null    float64\n",
      " 2   House Price         983 non-null    float64\n",
      " 3   Education           983 non-null    float64\n",
      " 4   Health              983 non-null    float64\n",
      " 5   Crime               983 non-null    float64\n",
      " 6   Living Environment  983 non-null    float64\n",
      " 7   Income              983 non-null    float64\n",
      " 8   CYP                 983 non-null    float64\n",
      "dtypes: float64(9)\n",
      "memory usage: 76.8 KB\n"
     ]
    }
   ],
   "source": [
    "CP0.info()"
   ]
  },
  {
   "cell_type": "code",
   "execution_count": 18,
   "metadata": {},
   "outputs": [
    {
     "data": {
      "text/html": [
       "<div>\n",
       "<style scoped>\n",
       "    .dataframe tbody tr th:only-of-type {\n",
       "        vertical-align: middle;\n",
       "    }\n",
       "\n",
       "    .dataframe tbody tr th {\n",
       "        vertical-align: top;\n",
       "    }\n",
       "\n",
       "    .dataframe thead th {\n",
       "        text-align: right;\n",
       "    }\n",
       "</style>\n",
       "<table border=\"1\" class=\"dataframe\">\n",
       "  <thead>\n",
       "    <tr style=\"text-align: right;\">\n",
       "      <th></th>\n",
       "      <th>Child Poverty</th>\n",
       "      <th>Bame</th>\n",
       "      <th>House Price</th>\n",
       "      <th>Education</th>\n",
       "      <th>Health</th>\n",
       "      <th>Crime</th>\n",
       "      <th>Living Environment</th>\n",
       "      <th>Income</th>\n",
       "      <th>CYP</th>\n",
       "    </tr>\n",
       "  </thead>\n",
       "  <tbody>\n",
       "    <tr>\n",
       "      <th>0</th>\n",
       "      <td>0.0526</td>\n",
       "      <td>0.2137</td>\n",
       "      <td>919,325.0000</td>\n",
       "      <td>4.7197</td>\n",
       "      <td>-0.7076</td>\n",
       "      <td>-1.6666</td>\n",
       "      <td>38.7227</td>\n",
       "      <td>0.0496</td>\n",
       "      <td>-1.0045</td>\n",
       "    </tr>\n",
       "    <tr>\n",
       "      <th>1</th>\n",
       "      <td>0.2739</td>\n",
       "      <td>0.3501</td>\n",
       "      <td>350,000.0000</td>\n",
       "      <td>30.2599</td>\n",
       "      <td>0.2203</td>\n",
       "      <td>0.4431</td>\n",
       "      <td>20.0390</td>\n",
       "      <td>0.2520</td>\n",
       "      <td>0.3109</td>\n",
       "    </tr>\n",
       "    <tr>\n",
       "      <th>2</th>\n",
       "      <td>0.2467</td>\n",
       "      <td>0.4539</td>\n",
       "      <td>348,000.0000</td>\n",
       "      <td>17.8787</td>\n",
       "      <td>-0.0137</td>\n",
       "      <td>0.5447</td>\n",
       "      <td>30.3942</td>\n",
       "      <td>0.1787</td>\n",
       "      <td>-0.2371</td>\n",
       "    </tr>\n",
       "    <tr>\n",
       "      <th>3</th>\n",
       "      <td>0.2020</td>\n",
       "      <td>0.1902</td>\n",
       "      <td>350,000.0000</td>\n",
       "      <td>22.5867</td>\n",
       "      <td>0.0249</td>\n",
       "      <td>0.1238</td>\n",
       "      <td>20.5245</td>\n",
       "      <td>0.1832</td>\n",
       "      <td>-0.0513</td>\n",
       "    </tr>\n",
       "    <tr>\n",
       "      <th>4</th>\n",
       "      <td>0.2319</td>\n",
       "      <td>0.3373</td>\n",
       "      <td>330,000.0000</td>\n",
       "      <td>27.2438</td>\n",
       "      <td>0.0993</td>\n",
       "      <td>0.6167</td>\n",
       "      <td>35.8000</td>\n",
       "      <td>0.1978</td>\n",
       "      <td>0.0228</td>\n",
       "    </tr>\n",
       "  </tbody>\n",
       "</table>\n",
       "</div>"
      ],
      "text/plain": [
       "                             Child Poverty  \\\n",
       "0                                   0.0526   \n",
       "1                                   0.2739   \n",
       "2                                   0.2467   \n",
       "3                                   0.2020   \n",
       "4                                   0.2319   \n",
       "\n",
       "                                      Bame  \\\n",
       "0                                   0.2137   \n",
       "1                                   0.3501   \n",
       "2                                   0.4539   \n",
       "3                                   0.1902   \n",
       "4                                   0.3373   \n",
       "\n",
       "                               House Price  \\\n",
       "0                             919,325.0000   \n",
       "1                             350,000.0000   \n",
       "2                             348,000.0000   \n",
       "3                             350,000.0000   \n",
       "4                             330,000.0000   \n",
       "\n",
       "                                 Education  \\\n",
       "0                                   4.7197   \n",
       "1                                  30.2599   \n",
       "2                                  17.8787   \n",
       "3                                  22.5867   \n",
       "4                                  27.2438   \n",
       "\n",
       "                                    Health  \\\n",
       "0                                  -0.7076   \n",
       "1                                   0.2203   \n",
       "2                                  -0.0137   \n",
       "3                                   0.0249   \n",
       "4                                   0.0993   \n",
       "\n",
       "                                     Crime  \\\n",
       "0                                  -1.6666   \n",
       "1                                   0.4431   \n",
       "2                                   0.5447   \n",
       "3                                   0.1238   \n",
       "4                                   0.6167   \n",
       "\n",
       "                        Living Environment  \\\n",
       "0                                  38.7227   \n",
       "1                                  20.0390   \n",
       "2                                  30.3942   \n",
       "3                                  20.5245   \n",
       "4                                  35.8000   \n",
       "\n",
       "                                    Income  \\\n",
       "0                                   0.0496   \n",
       "1                                   0.2520   \n",
       "2                                   0.1787   \n",
       "3                                   0.1832   \n",
       "4                                   0.1978   \n",
       "\n",
       "                                       CYP  \n",
       "0                                  -1.0045  \n",
       "1                                   0.3109  \n",
       "2                                  -0.2371  \n",
       "3                                  -0.0513  \n",
       "4                                   0.0228  "
      ]
     },
     "execution_count": 18,
     "metadata": {},
     "output_type": "execute_result"
    }
   ],
   "source": [
    "CP0.head()"
   ]
  },
  {
   "cell_type": "code",
   "execution_count": 19,
   "metadata": {},
   "outputs": [
    {
     "data": {
      "text/html": [
       "<table class=\"simpletable\">\n",
       "<caption>OLS Regression Results</caption>\n",
       "<tr>\n",
       "  <th>Dep. Variable:</th>      <td>Child Poverty</td>  <th>  R-squared:         </th> <td>   0.832</td>\n",
       "</tr>\n",
       "<tr>\n",
       "  <th>Model:</th>                   <td>OLS</td>       <th>  Adj. R-squared:    </th> <td>   0.831</td>\n",
       "</tr>\n",
       "<tr>\n",
       "  <th>Method:</th>             <td>Least Squares</td>  <th>  F-statistic:       </th> <td>   603.9</td>\n",
       "</tr>\n",
       "<tr>\n",
       "  <th>Date:</th>             <td>Sat, 24 Apr 2021</td> <th>  Prob (F-statistic):</th>  <td>  0.00</td> \n",
       "</tr>\n",
       "<tr>\n",
       "  <th>Time:</th>                 <td>23:29:53</td>     <th>  Log-Likelihood:    </th> <td>  2023.2</td>\n",
       "</tr>\n",
       "<tr>\n",
       "  <th>No. Observations:</th>      <td>   983</td>      <th>  AIC:               </th> <td>  -4028.</td>\n",
       "</tr>\n",
       "<tr>\n",
       "  <th>Df Residuals:</th>          <td>   974</td>      <th>  BIC:               </th> <td>  -3984.</td>\n",
       "</tr>\n",
       "<tr>\n",
       "  <th>Df Model:</th>              <td>     8</td>      <th>                     </th>     <td> </td>   \n",
       "</tr>\n",
       "<tr>\n",
       "  <th>Covariance Type:</th>      <td>nonrobust</td>    <th>                     </th>     <td> </td>   \n",
       "</tr>\n",
       "</table>\n",
       "<table class=\"simpletable\">\n",
       "<tr>\n",
       "           <td></td>             <th>coef</th>     <th>std err</th>      <th>t</th>      <th>P>|t|</th>  <th>[0.025</th>    <th>0.975]</th>  \n",
       "</tr>\n",
       "<tr>\n",
       "  <th>const</th>              <td>    0.0342</td> <td>    0.008</td> <td>    4.049</td> <td> 0.000</td> <td>    0.018</td> <td>    0.051</td>\n",
       "</tr>\n",
       "<tr>\n",
       "  <th>Bame</th>               <td>    0.1333</td> <td>    0.006</td> <td>   21.513</td> <td> 0.000</td> <td>    0.121</td> <td>    0.145</td>\n",
       "</tr>\n",
       "<tr>\n",
       "  <th>House Price</th>        <td>-2.504e-08</td> <td> 5.76e-09</td> <td>   -4.349</td> <td> 0.000</td> <td>-3.63e-08</td> <td>-1.37e-08</td>\n",
       "</tr>\n",
       "<tr>\n",
       "  <th>Education</th>          <td>    0.0028</td> <td>    0.000</td> <td>   11.943</td> <td> 0.000</td> <td>    0.002</td> <td>    0.003</td>\n",
       "</tr>\n",
       "<tr>\n",
       "  <th>Health</th>             <td>    0.0191</td> <td>    0.004</td> <td>    5.288</td> <td> 0.000</td> <td>    0.012</td> <td>    0.026</td>\n",
       "</tr>\n",
       "<tr>\n",
       "  <th>Crime</th>              <td>    0.0013</td> <td>    0.003</td> <td>    0.379</td> <td> 0.705</td> <td>   -0.005</td> <td>    0.008</td>\n",
       "</tr>\n",
       "<tr>\n",
       "  <th>Living Environment</th> <td>   -0.0002</td> <td>    0.000</td> <td>   -1.252</td> <td> 0.211</td> <td>   -0.001</td> <td>    0.000</td>\n",
       "</tr>\n",
       "<tr>\n",
       "  <th>Income</th>             <td>    0.3517</td> <td>    0.028</td> <td>   12.573</td> <td> 0.000</td> <td>    0.297</td> <td>    0.407</td>\n",
       "</tr>\n",
       "<tr>\n",
       "  <th>CYP</th>                <td>   -0.0215</td> <td>    0.005</td> <td>   -4.567</td> <td> 0.000</td> <td>   -0.031</td> <td>   -0.012</td>\n",
       "</tr>\n",
       "</table>\n",
       "<table class=\"simpletable\">\n",
       "<tr>\n",
       "  <th>Omnibus:</th>       <td>29.683</td> <th>  Durbin-Watson:     </th> <td>   1.318</td>\n",
       "</tr>\n",
       "<tr>\n",
       "  <th>Prob(Omnibus):</th> <td> 0.000</td> <th>  Jarque-Bera (JB):  </th> <td>  59.027</td>\n",
       "</tr>\n",
       "<tr>\n",
       "  <th>Skew:</th>          <td> 0.168</td> <th>  Prob(JB):          </th> <td>1.52e-13</td>\n",
       "</tr>\n",
       "<tr>\n",
       "  <th>Kurtosis:</th>      <td> 4.152</td> <th>  Cond. No.          </th> <td>1.67e+07</td>\n",
       "</tr>\n",
       "</table><br/><br/>Notes:<br/>[1] Standard Errors assume that the covariance matrix of the errors is correctly specified.<br/>[2] The condition number is large, 1.67e+07. This might indicate that there are<br/>strong multicollinearity or other numerical problems."
      ],
      "text/plain": [
       "<class 'statsmodels.iolib.summary.Summary'>\n",
       "\"\"\"\n",
       "                            OLS Regression Results                            \n",
       "==============================================================================\n",
       "Dep. Variable:          Child Poverty   R-squared:                       0.832\n",
       "Model:                            OLS   Adj. R-squared:                  0.831\n",
       "Method:                 Least Squares   F-statistic:                     603.9\n",
       "Date:                Sat, 24 Apr 2021   Prob (F-statistic):               0.00\n",
       "Time:                        23:29:53   Log-Likelihood:                 2023.2\n",
       "No. Observations:                 983   AIC:                            -4028.\n",
       "Df Residuals:                     974   BIC:                            -3984.\n",
       "Df Model:                           8                                         \n",
       "Covariance Type:            nonrobust                                         \n",
       "======================================================================================\n",
       "                         coef    std err          t      P>|t|      [0.025      0.975]\n",
       "--------------------------------------------------------------------------------------\n",
       "const                  0.0342      0.008      4.049      0.000       0.018       0.051\n",
       "Bame                   0.1333      0.006     21.513      0.000       0.121       0.145\n",
       "House Price        -2.504e-08   5.76e-09     -4.349      0.000   -3.63e-08   -1.37e-08\n",
       "Education              0.0028      0.000     11.943      0.000       0.002       0.003\n",
       "Health                 0.0191      0.004      5.288      0.000       0.012       0.026\n",
       "Crime                  0.0013      0.003      0.379      0.705      -0.005       0.008\n",
       "Living Environment    -0.0002      0.000     -1.252      0.211      -0.001       0.000\n",
       "Income                 0.3517      0.028     12.573      0.000       0.297       0.407\n",
       "CYP                   -0.0215      0.005     -4.567      0.000      -0.031      -0.012\n",
       "==============================================================================\n",
       "Omnibus:                       29.683   Durbin-Watson:                   1.318\n",
       "Prob(Omnibus):                  0.000   Jarque-Bera (JB):               59.027\n",
       "Skew:                           0.168   Prob(JB):                     1.52e-13\n",
       "Kurtosis:                       4.152   Cond. No.                     1.67e+07\n",
       "==============================================================================\n",
       "\n",
       "Notes:\n",
       "[1] Standard Errors assume that the covariance matrix of the errors is correctly specified.\n",
       "[2] The condition number is large, 1.67e+07. This might indicate that there are\n",
       "strong multicollinearity or other numerical problems.\n",
       "\"\"\""
      ]
     },
     "execution_count": 19,
     "metadata": {},
     "output_type": "execute_result"
    }
   ],
   "source": [
    "model0 = CP0.drop('Child Poverty', axis=1)\n",
    "OLS_out = sm.OLS(endog=CP0[['Child Poverty']], exog=sm.add_constant(model0)).fit()\n",
    "OLS_out.summary()"
   ]
  },
  {
   "cell_type": "markdown",
   "metadata": {},
   "source": [
    "### 4.1.3 P-value "
   ]
  },
  {
   "cell_type": "code",
   "execution_count": 20,
   "metadata": {},
   "outputs": [
    {
     "data": {
      "text/html": [
       "<table class=\"simpletable\">\n",
       "<caption>OLS Regression Results</caption>\n",
       "<tr>\n",
       "  <th>Dep. Variable:</th>      <td>Child Poverty</td>  <th>  R-squared:         </th> <td>   0.832</td>\n",
       "</tr>\n",
       "<tr>\n",
       "  <th>Model:</th>                   <td>OLS</td>       <th>  Adj. R-squared:    </th> <td>   0.831</td>\n",
       "</tr>\n",
       "<tr>\n",
       "  <th>Method:</th>             <td>Least Squares</td>  <th>  F-statistic:       </th> <td>   805.4</td>\n",
       "</tr>\n",
       "<tr>\n",
       "  <th>Date:</th>             <td>Sat, 24 Apr 2021</td> <th>  Prob (F-statistic):</th>  <td>  0.00</td> \n",
       "</tr>\n",
       "<tr>\n",
       "  <th>Time:</th>                 <td>23:29:53</td>     <th>  Log-Likelihood:    </th> <td>  2022.4</td>\n",
       "</tr>\n",
       "<tr>\n",
       "  <th>No. Observations:</th>      <td>   983</td>      <th>  AIC:               </th> <td>  -4031.</td>\n",
       "</tr>\n",
       "<tr>\n",
       "  <th>Df Residuals:</th>          <td>   976</td>      <th>  BIC:               </th> <td>  -3997.</td>\n",
       "</tr>\n",
       "<tr>\n",
       "  <th>Df Model:</th>              <td>     6</td>      <th>                     </th>     <td> </td>   \n",
       "</tr>\n",
       "<tr>\n",
       "  <th>Covariance Type:</th>      <td>nonrobust</td>    <th>                     </th>     <td> </td>   \n",
       "</tr>\n",
       "</table>\n",
       "<table class=\"simpletable\">\n",
       "<tr>\n",
       "       <td></td>          <th>coef</th>     <th>std err</th>      <th>t</th>      <th>P>|t|</th>  <th>[0.025</th>    <th>0.975]</th>  \n",
       "</tr>\n",
       "<tr>\n",
       "  <th>const</th>       <td>    0.0289</td> <td>    0.007</td> <td>    3.958</td> <td> 0.000</td> <td>    0.015</td> <td>    0.043</td>\n",
       "</tr>\n",
       "<tr>\n",
       "  <th>Bame</th>        <td>    0.1315</td> <td>    0.006</td> <td>   22.388</td> <td> 0.000</td> <td>    0.120</td> <td>    0.143</td>\n",
       "</tr>\n",
       "<tr>\n",
       "  <th>House Price</th> <td>-2.809e-08</td> <td> 5.11e-09</td> <td>   -5.496</td> <td> 0.000</td> <td>-3.81e-08</td> <td>-1.81e-08</td>\n",
       "</tr>\n",
       "<tr>\n",
       "  <th>Education</th>   <td>    0.0029</td> <td>    0.000</td> <td>   13.389</td> <td> 0.000</td> <td>    0.003</td> <td>    0.003</td>\n",
       "</tr>\n",
       "<tr>\n",
       "  <th>Health</th>      <td>    0.0183</td> <td>    0.003</td> <td>    5.300</td> <td> 0.000</td> <td>    0.011</td> <td>    0.025</td>\n",
       "</tr>\n",
       "<tr>\n",
       "  <th>Income</th>      <td>    0.3514</td> <td>    0.028</td> <td>   12.751</td> <td> 0.000</td> <td>    0.297</td> <td>    0.405</td>\n",
       "</tr>\n",
       "<tr>\n",
       "  <th>CYP</th>         <td>   -0.0228</td> <td>    0.005</td> <td>   -4.989</td> <td> 0.000</td> <td>   -0.032</td> <td>   -0.014</td>\n",
       "</tr>\n",
       "</table>\n",
       "<table class=\"simpletable\">\n",
       "<tr>\n",
       "  <th>Omnibus:</th>       <td>27.926</td> <th>  Durbin-Watson:     </th> <td>   1.323</td>\n",
       "</tr>\n",
       "<tr>\n",
       "  <th>Prob(Omnibus):</th> <td> 0.000</td> <th>  Jarque-Bera (JB):  </th> <td>  55.688</td>\n",
       "</tr>\n",
       "<tr>\n",
       "  <th>Skew:</th>          <td> 0.148</td> <th>  Prob(JB):          </th> <td>8.08e-13</td>\n",
       "</tr>\n",
       "<tr>\n",
       "  <th>Kurtosis:</th>      <td> 4.128</td> <th>  Cond. No.          </th> <td>1.64e+07</td>\n",
       "</tr>\n",
       "</table><br/><br/>Notes:<br/>[1] Standard Errors assume that the covariance matrix of the errors is correctly specified.<br/>[2] The condition number is large, 1.64e+07. This might indicate that there are<br/>strong multicollinearity or other numerical problems."
      ],
      "text/plain": [
       "<class 'statsmodels.iolib.summary.Summary'>\n",
       "\"\"\"\n",
       "                            OLS Regression Results                            \n",
       "==============================================================================\n",
       "Dep. Variable:          Child Poverty   R-squared:                       0.832\n",
       "Model:                            OLS   Adj. R-squared:                  0.831\n",
       "Method:                 Least Squares   F-statistic:                     805.4\n",
       "Date:                Sat, 24 Apr 2021   Prob (F-statistic):               0.00\n",
       "Time:                        23:29:53   Log-Likelihood:                 2022.4\n",
       "No. Observations:                 983   AIC:                            -4031.\n",
       "Df Residuals:                     976   BIC:                            -3997.\n",
       "Df Model:                           6                                         \n",
       "Covariance Type:            nonrobust                                         \n",
       "===============================================================================\n",
       "                  coef    std err          t      P>|t|      [0.025      0.975]\n",
       "-------------------------------------------------------------------------------\n",
       "const           0.0289      0.007      3.958      0.000       0.015       0.043\n",
       "Bame            0.1315      0.006     22.388      0.000       0.120       0.143\n",
       "House Price -2.809e-08   5.11e-09     -5.496      0.000   -3.81e-08   -1.81e-08\n",
       "Education       0.0029      0.000     13.389      0.000       0.003       0.003\n",
       "Health          0.0183      0.003      5.300      0.000       0.011       0.025\n",
       "Income          0.3514      0.028     12.751      0.000       0.297       0.405\n",
       "CYP            -0.0228      0.005     -4.989      0.000      -0.032      -0.014\n",
       "==============================================================================\n",
       "Omnibus:                       27.926   Durbin-Watson:                   1.323\n",
       "Prob(Omnibus):                  0.000   Jarque-Bera (JB):               55.688\n",
       "Skew:                           0.148   Prob(JB):                     8.08e-13\n",
       "Kurtosis:                       4.128   Cond. No.                     1.64e+07\n",
       "==============================================================================\n",
       "\n",
       "Notes:\n",
       "[1] Standard Errors assume that the covariance matrix of the errors is correctly specified.\n",
       "[2] The condition number is large, 1.64e+07. This might indicate that there are\n",
       "strong multicollinearity or other numerical problems.\n",
       "\"\"\""
      ]
     },
     "execution_count": 20,
     "metadata": {},
     "output_type": "execute_result"
    }
   ],
   "source": [
    "# Delete variables with a P-value greater than 0.05 ('Crime' and ’Living Environment')\n",
    "model1 = CP0.drop(['Child Poverty','Crime','Living Environment'], axis=1)\n",
    "OLS_out = sm.OLS(endog=CP0[['Child Poverty']], exog=sm.add_constant(model1)).fit()\n",
    "OLS_out.summary()"
   ]
  },
  {
   "cell_type": "markdown",
   "metadata": {},
   "source": [
    "### 4.1.4 VIF "
   ]
  },
  {
   "cell_type": "markdown",
   "metadata": {},
   "source": [
    "It is found that the VIF of income is 5.07, and the other variables are all lower than 5. Income is not processed here, because although vif is less than 5 is the result we expect, it is acceptable to be less than 10 and will not have a major impact on the model.(Neter, J., Wasserman, W., & Kutner, M. H. 1985) At the same time, we can know from the above that income does slightly affect other factors and is an important factor in this model."
   ]
  },
  {
   "cell_type": "code",
   "execution_count": 21,
   "metadata": {},
   "outputs": [
    {
     "data": {
      "text/plain": [
       "[54.455028288753674,\n",
       " 1.3109177473067188,\n",
       " 1.5764641750993287,\n",
       " 3.6863546461238412,\n",
       " 4.324448238570784,\n",
       " 5.076770100316441,\n",
       " 4.455723367198019]"
      ]
     },
     "execution_count": 21,
     "metadata": {},
     "output_type": "execute_result"
    }
   ],
   "source": [
    "variables = OLS_out.model.exog\n",
    "vif = [variance_inflation_factor(variables, i) for i in range(variables.shape[1])]\n",
    "vif "
   ]
  },
  {
   "cell_type": "markdown",
   "metadata": {},
   "source": [
    "### 4.1.5 Residual test analysis"
   ]
  },
  {
   "cell_type": "markdown",
   "metadata": {},
   "source": [
    "It can be seen that the overall residual distribution of Residuals vs Fitte plot is relatively uniform, and there is no obvious non-linear relationship. There is only one outlier among the many data. It is guessed here that the difference in housing prices may have a greater impact. But this effect is real and there is no wrong data, and in the 983 data, there is only this slightly biased point, which does not affect the overall model effect. In order to ensure that the partial regression coefficient of the model is valid for the t value and the F value of the model, we conducted a normality test. It is found that the three related graphs (histogram, P-P and Q-Q graph) show a normal distribution trend, and the line y=x can be basically fitted. The above test basically shows that this model is meaningful and effective."
   ]
  },
  {
   "cell_type": "code",
   "execution_count": 22,
   "metadata": {},
   "outputs": [
    {
     "data": {
      "image/png": "[encoded data removed]",
      "text/plain": [
       "<Figure size 432x288 with 1 Axes>"
      ]
     },
     "metadata": {
      "needs_background": "light"
     },
     "output_type": "display_data"
    }
   ],
   "source": [
    "plt.scatter(OLS_out.fittedvalues, OLS_out.resid)\n",
    "# adding title and labels\n",
    "plt.xlabel('Fitted child poverty')\n",
    "plt.ylabel('Residual')\n",
    "plt.title('Figure 4: Residual vs. Fitted Plot')\n",
    "plt.show()"
   ]
  },
  {
   "cell_type": "code",
   "execution_count": 23,
   "metadata": {},
   "outputs": [
    {
     "data": {
      "text/plain": [
       "(array([  6.,  19.,  90., 255., 352., 181.,  59.,  17.,   3.,   1.]),\n",
       " array([-3.62455025, -2.79596936, -1.96738846, -1.13880756, -0.31022666,\n",
       "         0.51835424,  1.34693513,  2.17551603,  3.00409693,  3.83267783,\n",
       "         4.66125873]),\n",
       " <BarContainer object of 10 artists>)"
      ]
     },
     "execution_count": 23,
     "metadata": {},
     "output_type": "execute_result"
    },
    {
     "data": {
      "image/png": "[encoded data removed]",
      "text/plain": [
       "<Figure size 432x288 with 1 Axes>"
      ]
     },
     "metadata": {
      "needs_background": "light"
     },
     "output_type": "display_data"
    }
   ],
   "source": [
    "student_resid = sm.regression.linear_model.OLSResults.outlier_test(OLS_out)\n",
    "plt.title('Figure 5: Histogram') \n",
    "plt.hist(student_resid.student_resid)"
   ]
  },
  {
   "cell_type": "code",
   "execution_count": 24,
   "metadata": {},
   "outputs": [
    {
     "data": {
      "image/png": "[encoded data removed]",
      "text/plain": [
       "<Figure size 432x288 with 1 Axes>"
      ]
     },
     "metadata": {
      "needs_background": "light"
     },
     "output_type": "display_data"
    }
   ],
   "source": [
    "# Exclude those greater than 3\n",
    "student_resid3 = sm.regression.linear_model.OLSResults.outlier_test(OLS_out)\n",
    "plt.scatter(OLS_out.fittedvalues, student_resid3.student_resid)\n",
    "plt.xlabel('Fitted child poverty')\n",
    "plt.ylabel('Residual')\n",
    "plt.title('Figure 6: Residual vs. Fitted Plot of CP')\n",
    "plt.show()"
   ]
  },
  {
   "cell_type": "code",
   "execution_count": 25,
   "metadata": {},
   "outputs": [
    {
     "data": {
      "text/plain": [
       "Text(0.5, 1.0, 'Figure 8:Q-Q')"
      ]
     },
     "execution_count": 25,
     "metadata": {},
     "output_type": "execute_result"
    },
    {
     "data": {
      "image/png": "[encoded data removed]",
      "text/plain": [
       "<Figure size 432x288 with 1 Axes>"
      ]
     },
     "metadata": {
      "needs_background": "light"
     },
     "output_type": "display_data"
    },
    {
     "data": {
      "image/png": "[encoded data removed]",
      "text/plain": [
       "<Figure size 432x288 with 1 Axes>"
      ]
     },
     "metadata": {
      "needs_background": "light"
     },
     "output_type": "display_data"
    }
   ],
   "source": [
    "pp_qq_plot = sm.ProbPlot(student_resid3.student_resid)\n",
    "pp_qq_plot.ppplot(line = '45')\n",
    "plt.title('Figure 7: P-P')\n",
    "\n",
    "pp_qq_plot.qqplot(line = 'q')\n",
    "plt.title('Figure 8:Q-Q')"
   ]
  },
  {
   "cell_type": "markdown",
   "metadata": {},
   "source": [
    "### 4.1.6 Lasso"
   ]
  },
  {
   "cell_type": "markdown",
   "metadata": {},
   "source": [
    "Since our lasso model score is 0, this means that the lasso model cannot fit the relationship between the independent variable and the dependent variable very well. In addition, the plot path of the lasso is not very suitable."
   ]
  },
  {
   "cell_type": "code",
   "execution_count": 26,
   "metadata": {},
   "outputs": [
    {
     "data": {
      "text/plain": [
       "Lasso(max_iter=100000000.0, normalize=True)"
      ]
     },
     "execution_count": 26,
     "metadata": {},
     "output_type": "execute_result"
    }
   ],
   "source": [
    "# increase the max_iter to guarantee convergence\n",
    "lasso_model = linear_model.Lasso(max_iter=10e7, normalize=True)\n",
    "response_data = CP0[['Child Poverty']]\n",
    "predictors_data = CP0.drop(columns=['Child Poverty'], axis=1)\n",
    "lasso_model.fit(X=predictors_data, y=response_data)"
   ]
  },
  {
   "cell_type": "code",
   "execution_count": 27,
   "metadata": {},
   "outputs": [
    {
     "data": {
      "text/plain": [
       "0.0"
      ]
     },
     "execution_count": 27,
     "metadata": {},
     "output_type": "execute_result"
    }
   ],
   "source": [
    "lasso_model.score(X=predictors_data, y=response_data)"
   ]
  },
  {
   "cell_type": "code",
   "execution_count": 28,
   "metadata": {},
   "outputs": [
    {
     "name": "stdout",
     "output_type": "stream",
     "text": [
      "                  var                                     coef\n",
      "0                Bame                                   0.0000\n",
      "1         House Price                                  -0.0000\n",
      "2           Education                                   0.0000\n",
      "3              Health                                   0.0000\n",
      "4               Crime                                   0.0000\n",
      "5  Living Environment                                   0.0000\n",
      "6              Income                                   0.0000\n",
      "7                 CYP                                   0.0000\n"
     ]
    }
   ],
   "source": [
    "# print(lasso_model.coef_)\n",
    "df_coef_lasso = pd.DataFrame({\"var\":predictors_data.columns.values, \"coef\":lasso_model.coef_})\n",
    "print(df_coef_lasso)"
   ]
  },
  {
   "cell_type": "code",
   "execution_count": 29,
   "metadata": {},
   "outputs": [
    {
     "data": {
      "text/plain": [
       "(-1.25, 4.25, -0.0015446081682844337, 0.032436771533973105)"
      ]
     },
     "execution_count": 29,
     "metadata": {},
     "output_type": "execute_result"
    },
    {
     "data": {
      "image/png": "[encoded data removed]",
      "text/plain": [
       "<Figure size 432x288 with 1 Axes>"
      ]
     },
     "metadata": {
      "needs_background": "light"
     },
     "output_type": "display_data"
    }
   ],
   "source": [
    "predictors_data_standardised = predictors_data/predictors_data.std(axis=0)\n",
    "\n",
    "# alphas_lasso, coefs_lasso, _ = lasso_path(predictors_data, response_data, alphas = [.1, .5, 1, 10, 100], fit_intercept=False)\n",
    "alphas_lasso, coefs_lasso, _ = lasso_path(predictors_data_standardised, response_data.values.reshape(-1),alphas = [.1, .5, 1, 10, 100, 1000, 10000], fit_intercept=False)\n",
    "# print(alphas_lasso.shape)\n",
    "# print(coefs_lasso.shape)\n",
    "\n",
    "log_alphas_lasso = np.log10(alphas_lasso)\n",
    "for coef_l in coefs_lasso:\n",
    "    l1 = plt.plot(log_alphas_lasso, coef_l)\n",
    "\n",
    "plt.xlabel('Log(alpha)')\n",
    "plt.ylabel('coefficients')\n",
    "plt.title('Figure 9: Lasso Path')\n",
    "plt.axis('tight')"
   ]
  },
  {
   "cell_type": "markdown",
   "metadata": {},
   "source": [
    "### 4.2 Regression Tree"
   ]
  },
  {
   "cell_type": "markdown",
   "metadata": {},
   "source": [
    "The regression tree may be over-fitting due to the model setting. Here two methods are used to continuously optimize max_depth, and try to train to the best state."
   ]
  },
  {
   "cell_type": "code",
   "execution_count": 30,
   "metadata": {},
   "outputs": [
    {
     "name": "stdout",
     "output_type": "stream",
     "text": [
      "(688, 8)\n",
      "(147, 8)\n",
      "(148, 8)\n"
     ]
    }
   ],
   "source": [
    "# We apply train_test_split twice to obtain the three train, dev and test sets\n",
    "y = CP0[['Child Poverty']]\n",
    "X = CP0.drop(columns=['Child Poverty'], axis=1)\n",
    "X_train, X_test, y_train, y_test = train_test_split(X, y, test_size=0.3, random_state=1)\n",
    "X_val, X_test, y_val, y_test = train_test_split(X_test, y_test, test_size=0.5, random_state=2020)\n",
    "print(X_train.shape)\n",
    "print(X_val.shape)\n",
    "print(X_test.shape)\n",
    "\n"
   ]
  },
  {
   "cell_type": "code",
   "execution_count": 31,
   "metadata": {},
   "outputs": [
    {
     "data": {
      "text/plain": [
       "0.9596911100160401"
      ]
     },
     "execution_count": 31,
     "metadata": {},
     "output_type": "execute_result"
    }
   ],
   "source": [
    "reg_tree = DecisionTreeRegressor(random_state=0,max_depth=8)\n",
    "reg_tree.fit(X_train, y_train.values.ravel())\n",
    "reg_tree.score(X=X_train, y=y_train)"
   ]
  },
  {
   "cell_type": "code",
   "execution_count": 32,
   "metadata": {},
   "outputs": [
    {
     "data": {
      "text/plain": [
       "0.7759586936214339"
      ]
     },
     "execution_count": 32,
     "metadata": {},
     "output_type": "execute_result"
    }
   ],
   "source": [
    "reg_tree.score(X=X_val, y=y_val)"
   ]
  },
  {
   "cell_type": "markdown",
   "metadata": {},
   "source": [
    "The first random forest has a much lower bias than liner regression but still suffers from some variance."
   ]
  },
  {
   "cell_type": "markdown",
   "metadata": {},
   "source": [
    "### 4.2.1 Optimise hyperparameters of the ML model"
   ]
  },
  {
   "cell_type": "code",
   "execution_count": 33,
   "metadata": {},
   "outputs": [],
   "source": [
    "# number of trees to tune\n",
    "depth = [1,2,3,4,5,6,7,8,9,10,11,12,13,14,15,16,17,18,19,20]\n",
    "\n",
    "# process of tune the number of trees\n",
    "max_score = 0\n",
    "best_depth = None\n",
    "for t in depth:\n",
    "    m = DecisionTreeRegressor(random_state=0,max_depth=t).fit(X_train,y_train)\n",
    "    score = m.score(X_val, y_val)\n",
    "    if score > max_score:\n",
    "        max_score = score\n",
    "        best_depth = t"
   ]
  },
  {
   "cell_type": "code",
   "execution_count": 34,
   "metadata": {},
   "outputs": [
    {
     "data": {
      "text/plain": [
       "0.7962751000054221"
      ]
     },
     "execution_count": 34,
     "metadata": {},
     "output_type": "execute_result"
    }
   ],
   "source": [
    "max_score"
   ]
  },
  {
   "cell_type": "code",
   "execution_count": 35,
   "metadata": {},
   "outputs": [
    {
     "data": {
      "text/plain": [
       "5"
      ]
     },
     "execution_count": 35,
     "metadata": {},
     "output_type": "execute_result"
    }
   ],
   "source": [
    "best_depth"
   ]
  },
  {
   "cell_type": "code",
   "execution_count": 36,
   "metadata": {},
   "outputs": [
    {
     "data": {
      "text/plain": [
       "DecisionTreeRegressor(max_depth=5, random_state=0)"
      ]
     },
     "execution_count": 36,
     "metadata": {},
     "output_type": "execute_result"
    }
   ],
   "source": [
    "rt_final = DecisionTreeRegressor(random_state=0,max_depth=best_depth)\n",
    "rt_final.fit(X_train, y_train)"
   ]
  },
  {
   "cell_type": "code",
   "execution_count": 37,
   "metadata": {},
   "outputs": [
    {
     "name": "stdout",
     "output_type": "stream",
     "text": [
      "The score on the training data:\n",
      "0.8786617683119512\n",
      "The score on the development data:\n",
      "0.7962751000054221\n"
     ]
    }
   ],
   "source": [
    "print('The score on the training data:')\n",
    "print(rt_final.score(X_train, y_train))\n",
    "print('The score on the development data:')\n",
    "print(rt_final.score(X_val, y_val))"
   ]
  },
  {
   "cell_type": "markdown",
   "metadata": {},
   "source": [
    "### 4.2.2 Cross-validation"
   ]
  },
  {
   "cell_type": "code",
   "execution_count": 38,
   "metadata": {},
   "outputs": [
    {
     "name": "stdout",
     "output_type": "stream",
     "text": [
      "The best parameter value is: \n",
      "{'max_depth': 5}\n",
      "The best score is: \n",
      "0.7827273021195795\n"
     ]
    }
   ],
   "source": [
    "# values of n_estimators\n",
    "parameters = {'max_depth':[1,2,3,4,5,6,7,8,9,10,11,12,13,14,15,16,17,18,19,20]}\n",
    "rt = DecisionTreeRegressor()\n",
    "\n",
    "clt = model_selection.GridSearchCV(rt, parameters)\n",
    "\n",
    "clt.fit(X_train, y_train)\n",
    "\n",
    "# we can query the best parameter value and its accuracy score\n",
    "print (\"The best parameter value is: \")\n",
    "print (clt.best_params_)\n",
    "print (\"The best score is: \")\n",
    "print (clt.best_score_)"
   ]
  },
  {
   "cell_type": "code",
   "execution_count": 39,
   "metadata": {},
   "outputs": [],
   "source": [
    "max_depth_range = [1,2,3,4,5,6,7,8,9,10,11,12,13,14,15,16,17,18,19,20]\n",
    "\n",
    "train_scores, valid_scores = validation_curve(estimator=DecisionTreeRegressor(), \n",
    "                                              X=X_train, y=y_train, \n",
    "                                              param_name=\"max_depth\",\n",
    "                                              param_range=max_depth_range,\n",
    "                                              cv=5)"
   ]
  },
  {
   "cell_type": "code",
   "execution_count": 40,
   "metadata": {},
   "outputs": [
    {
     "data": {
      "image/png": "[encoded data removed]",
      "text/plain": [
       "<Figure size 432x288 with 1 Axes>"
      ]
     },
     "metadata": {
      "needs_background": "light"
     },
     "output_type": "display_data"
    }
   ],
   "source": [
    "# plotting the validation curve\n",
    "train_scores_mean = np.mean(train_scores, axis=1)\n",
    "train_scores_std = np.std(train_scores, axis=1)\n",
    "valid_scores_mean = np.mean(valid_scores, axis=1)\n",
    "valid_scores_std = np.std(valid_scores, axis=1)\n",
    "\n",
    "plt.title(\"Figure 10: Validation Curve with Regression Tree\")\n",
    "plt.xlabel(r\"depth\")\n",
    "plt.ylabel(\"Score\")\n",
    "plt.ylim(0.1, 1.0)\n",
    "#plt.xlim(1, 20)\n",
    "lw = 2\n",
    "plt.semilogx(max_depth_range, train_scores_mean, label=\"Training score\",\n",
    "             color=\"darkorange\", lw=lw)\n",
    "plt.fill_between(max_depth_range, train_scores_mean - train_scores_std,\n",
    "                 train_scores_mean + train_scores_std, alpha=0.2,\n",
    "                 color=\"darkorange\", lw=lw)\n",
    "plt.semilogx(max_depth_range, valid_scores_mean, label=\"Cross-validation score\",\n",
    "             color=\"navy\", lw=lw)\n",
    "plt.fill_between(max_depth_range, valid_scores_mean - valid_scores_std,\n",
    "                 valid_scores_mean + valid_scores_std, alpha=0.2,\n",
    "                 color=\"navy\", lw=lw)\n",
    "plt.legend(loc=\"best\")\n",
    "plt.show()"
   ]
  },
  {
   "cell_type": "code",
   "execution_count": 41,
   "metadata": {},
   "outputs": [
    {
     "data": {
      "text/plain": [
       "0.8007075991222214"
      ]
     },
     "execution_count": 41,
     "metadata": {},
     "output_type": "execute_result"
    }
   ],
   "source": [
    "rt_final.score(X_test, y_test)"
   ]
  },
  {
   "cell_type": "code",
   "execution_count": 44,
   "metadata": {},
   "outputs": [
    {
     "name": "stdout",
     "output_type": "stream",
     "text": [
      "Feature: 0, Score: 0.15432\n",
      "Feature: 1, Score: 0.02055\n",
      "Feature: 2, Score: 0.63300\n",
      "Feature: 3, Score: 0.00293\n",
      "Feature: 4, Score: 0.00824\n",
      "Feature: 5, Score: 0.00044\n",
      "Feature: 6, Score: 0.16909\n",
      "Feature: 7, Score: 0.01144\n"
     ]
    },
    {
     "data": {
      "image/png": "[encoded data removed]",
      "text/plain": [
       "<Figure size 432x288 with 1 Axes>"
      ]
     },
     "metadata": {
      "needs_background": "light"
     },
     "output_type": "display_data"
    }
   ],
   "source": [
    "importance = rt_final.feature_importances_\n",
    "# summarize feature importance\n",
    "for i,v in enumerate(importance):\n",
    " print('Feature: %0d, Score: %.5f' % (i,v))\n",
    "# plot feature importance\n",
    "plt.bar([x for x in range(len(importance))], importance)\n",
    "plt.title('Figure 11: Feature Importances of Regression Tree')\n",
    "plt.show()"
   ]
  },
  {
   "cell_type": "markdown",
   "metadata": {},
   "source": [
    "### 4.3 Random Forest"
   ]
  },
  {
   "cell_type": "code",
   "execution_count": 45,
   "metadata": {},
   "outputs": [
    {
     "data": {
      "text/plain": [
       "0.9797781211554115"
      ]
     },
     "execution_count": 45,
     "metadata": {},
     "output_type": "execute_result"
    }
   ],
   "source": [
    "rf = RandomForestRegressor(n_estimators=100)\n",
    "rf.fit(X_train,y_train.values.ravel())\n",
    "rf.score(X_train, y_train)"
   ]
  },
  {
   "cell_type": "code",
   "execution_count": 46,
   "metadata": {},
   "outputs": [
    {
     "data": {
      "text/plain": [
       "0.8281201372464486"
      ]
     },
     "execution_count": 46,
     "metadata": {},
     "output_type": "execute_result"
    }
   ],
   "source": [
    "rf.score(X_val, y_val)"
   ]
  },
  {
   "cell_type": "markdown",
   "metadata": {},
   "source": [
    "### 4.3.1 Optimise hyperparameters of the ML model"
   ]
  },
  {
   "cell_type": "code",
   "execution_count": 47,
   "metadata": {},
   "outputs": [],
   "source": [
    "# number of trees to tune\n",
    "no_trees = [10,20,30,40,50,70,100,150,200]\n",
    "\n",
    "# process of tune the number of trees\n",
    "max_score = 0\n",
    "best_no_trees = None\n",
    "for t in no_trees:\n",
    "    m = RandomForestRegressor(n_estimators=t).fit(X_train,y_train.values.ravel())\n",
    "    score = m.score(X_val, y_val)\n",
    "    if score > max_score:\n",
    "        max_score = score\n",
    "        best_no_trees = t"
   ]
  },
  {
   "cell_type": "code",
   "execution_count": 48,
   "metadata": {},
   "outputs": [
    {
     "data": {
      "text/plain": [
       "0.83450562999891"
      ]
     },
     "execution_count": 48,
     "metadata": {},
     "output_type": "execute_result"
    }
   ],
   "source": [
    "max_score"
   ]
  },
  {
   "cell_type": "code",
   "execution_count": 49,
   "metadata": {},
   "outputs": [
    {
     "data": {
      "text/plain": [
       "70"
      ]
     },
     "execution_count": 49,
     "metadata": {},
     "output_type": "execute_result"
    }
   ],
   "source": [
    "best_no_trees"
   ]
  },
  {
   "cell_type": "code",
   "execution_count": 50,
   "metadata": {},
   "outputs": [
    {
     "data": {
      "text/plain": [
       "RandomForestRegressor(n_estimators=70)"
      ]
     },
     "execution_count": 50,
     "metadata": {},
     "output_type": "execute_result"
    }
   ],
   "source": [
    "rf_final = RandomForestRegressor(n_estimators=best_no_trees)\n",
    "rf_final.fit(X_train, y_train.values.ravel())"
   ]
  },
  {
   "cell_type": "code",
   "execution_count": 51,
   "metadata": {},
   "outputs": [
    {
     "name": "stdout",
     "output_type": "stream",
     "text": [
      "The score on the training data:\n",
      "0.9782762353809068\n",
      "The score on the development data:\n",
      "0.8287929079341021\n"
     ]
    }
   ],
   "source": [
    "print('The score on the training data:')\n",
    "print(rf_final.score(X_train, y_train))\n",
    "print('The score on the development data:')\n",
    "print(rf_final.score(X_val, y_val))"
   ]
  },
  {
   "cell_type": "markdown",
   "metadata": {},
   "source": [
    "### 4.3.2 Cross-validation"
   ]
  },
  {
   "cell_type": "code",
   "execution_count": 52,
   "metadata": {},
   "outputs": [
    {
     "name": "stdout",
     "output_type": "stream",
     "text": [
      "The best parameter value is: \n",
      "{'n_estimators': 70}\n",
      "The best score is: \n",
      "0.8507869969036388\n"
     ]
    }
   ],
   "source": [
    "# values of n_estimators\n",
    "parameters = {'n_estimators':[10,20,30,40,50,70,100,150,200]}\n",
    "rf = RandomForestRegressor()\n",
    "\n",
    "clf = model_selection.GridSearchCV(rf, parameters)\n",
    "\n",
    "clf.fit(X_train, y_train.values.ravel())\n",
    "\n",
    "# we can query the best parameter value and its accuracy score\n",
    "print (\"The best parameter value is: \")\n",
    "print (clf.best_params_)\n",
    "print (\"The best score is: \")\n",
    "print (clf.best_score_)"
   ]
  },
  {
   "cell_type": "code",
   "execution_count": 53,
   "metadata": {},
   "outputs": [],
   "source": [
    "n_estimators_range = [10,20,30,40,50,70,100,150,200]\n",
    "\n",
    "train_scores, valid_scores = validation_curve(estimator=RandomForestRegressor(), \n",
    "                                              X=X_train, y=y_train.values.ravel(),\n",
    "                                              param_name=\"n_estimators\",\n",
    "                                              param_range=n_estimators_range,\n",
    "                                              cv=5)"
   ]
  },
  {
   "cell_type": "code",
   "execution_count": 54,
   "metadata": {},
   "outputs": [
    {
     "data": {
      "image/png": "[encoded data removed]",
      "text/plain": [
       "<Figure size 432x288 with 1 Axes>"
      ]
     },
     "metadata": {
      "needs_background": "light"
     },
     "output_type": "display_data"
    }
   ],
   "source": [
    "# plotting the validation curve\n",
    "train_scores_mean = np.mean(train_scores, axis=1)\n",
    "train_scores_std = np.std(train_scores, axis=1)\n",
    "valid_scores_mean = np.mean(valid_scores, axis=1)\n",
    "valid_scores_std = np.std(valid_scores, axis=1)\n",
    "\n",
    "plt.title(\"Figure 12: Validation Curve with Random Forest\")\n",
    "plt.xlabel(r\"number of trees\")\n",
    "plt.ylabel(\"Score\")\n",
    "plt.ylim(0.3, 1.0)\n",
    "lw = 2\n",
    "plt.semilogx(n_estimators_range, train_scores_mean, label=\"Training score\",\n",
    "             color=\"darkorange\", lw=lw)\n",
    "plt.fill_between(n_estimators_range, train_scores_mean - train_scores_std,\n",
    "                 train_scores_mean + train_scores_std, alpha=0.2,\n",
    "                 color=\"darkorange\", lw=lw)\n",
    "plt.semilogx(n_estimators_range, valid_scores_mean, label=\"Cross-validation score\",\n",
    "             color=\"navy\", lw=lw)\n",
    "plt.fill_between(n_estimators_range, valid_scores_mean - valid_scores_std,\n",
    "                 valid_scores_mean + valid_scores_std, alpha=0.2,\n",
    "                 color=\"navy\", lw=lw)\n",
    "plt.legend(loc=\"best\")\n",
    "plt.show()"
   ]
  },
  {
   "cell_type": "code",
   "execution_count": 55,
   "metadata": {},
   "outputs": [
    {
     "data": {
      "text/plain": [
       "0.8395026731274952"
      ]
     },
     "execution_count": 55,
     "metadata": {},
     "output_type": "execute_result"
    }
   ],
   "source": [
    "rf_final.score(X_test, y_test)"
   ]
  },
  {
   "cell_type": "code",
   "execution_count": 56,
   "metadata": {},
   "outputs": [
    {
     "name": "stdout",
     "output_type": "stream",
     "text": [
      "Feature: 0, Score: 0.13682\n",
      "Feature: 1, Score: 0.02711\n",
      "Feature: 2, Score: 0.47982\n",
      "Feature: 3, Score: 0.05165\n",
      "Feature: 4, Score: 0.02369\n",
      "Feature: 5, Score: 0.01375\n",
      "Feature: 6, Score: 0.24228\n",
      "Feature: 7, Score: 0.02488\n"
     ]
    },
    {
     "data": {
      "image/png": "[encoded data removed]",
      "text/plain": [
       "<Figure size 432x288 with 1 Axes>"
      ]
     },
     "metadata": {
      "needs_background": "light"
     },
     "output_type": "display_data"
    }
   ],
   "source": [
    "importance = rf_final.feature_importances_\n",
    "# summarize feature importance\n",
    "for i,v in enumerate(importance):\n",
    " print('Feature: %0d, Score: %.5f' % (i,v))\n",
    "# plot feature importance\n",
    "plt.bar([x for x in range(len(importance))], importance)\n",
    "plt.title('Figure 13: Feature Importances of Random Forest')\n",
    "plt.show()"
   ]
  },
  {
   "cell_type": "markdown",
   "metadata": {},
   "source": [
    "### 5.Results & Discussion"
   ]
  },
  {
   "cell_type": "markdown",
   "metadata": {},
   "source": [
    "We sorted out the key data of the three methods and found that although the scores have small differences, they are still similar overall, but the order of independent variable coefficients is different. In the linear regression model, the first four coefficients are income, bame, CYP, and health. Although the linear regression sequences of the two machine learning models are different, they are very similar. The top 3 are education, income, and bame."
   ]
  },
  {
   "cell_type": "markdown",
   "metadata": {},
   "source": [
    "<div style=\"float:left\"><img width=\"900\" src=\"https://github.com/Audrey-chenxi/06-Data-Science-for-Spatial-Systems/blob/main/Data/Figure13.png?raw=true\" /></div>"
   ]
  },
  {
   "cell_type": "markdown",
   "metadata": {},
   "source": [
    "It can be known from the linear regression model that this model explains 83.1% of the changes in the London children poverty proportion. The adjusted model VIF is in a reasonable range, so there is no need to worry about multicollinearity. P-values are all less than 0.05, indicating that these 6 variables have a strong correlation with child poverty. Among them, income, bame, health and education are positively correlated, while housing prices and CYP are negatively correlated. It is worth noting that income affects children’s scores and bame increase an unit the child poverty rate by 35.14% and 13.15% respectively. At the same time, the effect of random forest is slightly better than linear regression, and the guess here may be nonlinear. But because the gap is small and the dataset is small, the above guess cannot be affirmed.<br>\n",
    "\n",
    "The regression tree and the random forest have the same core principles. We can see that the random forest scores higher because it has more weighted averages or arithmetic averages than weighted trees do. From the optimization results of regression tree model, we can get the best prediction result when the depth is 5, and the probability of correct prediction is 80.07%.At the same time, when n_estimators were 150, the optimal prediction for random forests was 83.82%.<br>\n",
    "\n",
    "This article also has some limitations. If we make the following improvements, we may get better results. First of all, from the point of view of independent variables, some specific data sets relating to parents are missing, such as: parents’ education level, ratio of single-parent families. Secondly, for the machine learning of the latter two methods, the amount of data is too small to be perfectly trained, and it is impossible to confirm whether it is the maximum fit. Third, this article does not cover a small number of outliers, because some data are indeed high due to regional differences, rather than data errors. If improvements can be made in this area, there will be more accurate fitting."
   ]
  },
  {
   "cell_type": "markdown",
   "metadata": {},
   "source": [
    "### 6.Conclusion\n",
    "Child poverty is unacceptable, but it is not inevitable. With appropriate support, help and opportunities, some children can escape poverty. (Greater London Authority 2010) The overall difference is that the models and methods can know that income, bame, CYP and education all have a relatively large impact on children’s poverty in London. The government and society have made certain efforts in this regard, such as formulating special welfare policies, financially providing family subsidies, and cooperating with schools to provide free education. (Greater London Authority 2021) (Greater London Authority 2021) But as a result, we hope that certain groups of people can get help. For example, bame children can get basic help like food and clothes, and after ensuring their basic life, provide them with free education according to the existing policies. Child poverty is a long-term and arduous challenge that requires continuous efforts from all sectors of society to enable children to grow in a better environment. At the same time, they believe that adults will create a better London and a better world."
   ]
  },
  {
   "cell_type": "code",
   "execution_count": null,
   "metadata": {},
   "outputs": [],
   "source": []
  },
  {
   "cell_type": "markdown",
   "metadata": {},
   "source": [
    "### References\n",
    "- Anonymous 2005. CHILD POVERTY IN RICH COUNTRIES: Proportion of children living in overty continues to increase. CCPA Monitor, 12(1), pp. 12-14.\n",
    "- Chen, WH., Corak, M.2008. Child poverty and changes in child poverty. Demography 45, 537–553.\n",
    "- UNICEF 2013 . Child well-being in rich countries. A comparative overview. United Nations Children’s Fund (UNICEF).ISSN: 1605-7317                                            \n",
    "- Seymour D. 2009. What is meant by ‘poverty’? Reporting poverty in UK- A national guide for journalisms[online]. Joseph Rowntree Foundation. Available From: http://www.jrf.org.uk/ publications/reporting-poverty-uk-practical-guide-journalists\n",
    "- Howard White , Jennifer Leavy & Andrew Masters (2003). Comparative Perspectives on Child Poverty: A review of poverty measures. Journal of Human Development, 4:3, 379-396, DOI: 10.1080/1464988032000125755\n",
    "- WICKHAM, S., ANWAR, E., BARR, B., LAW, C. and TAYLOR-ROBINSON, D., 2016. Poverty and child health in the UK: using evidence for action .Archives of Disease in Childhood, 101(8), pp. 759.\n",
    "- Department for Work and Pensions Research 2001. LINKING CHILD POVERTY AND CHILD OUTCOMES: EXPLORING DATA AND RESEARCH STRATEGIES. Department for Work and Pensions Research Working Paper No 1.\n",
    "- MAGADI, M., 2010. Risk Factors for Severe Child Poverty in the UK. Journal of social policy, 39, pp. 297-316.\n",
    "- Lucinda Platt (2007). CHILD POVERTY, EMPLOYMENT AND ETHNICITY IN THE UK: THE ROLE AND LIMITATIONS OF POLICY. European Societies. 9:2, 175-199, DOI: 10.1080/14616690701217809\n",
    "- CPAG 2021. CHILD POVERTY IN LONDON FACTS[online].CHILD POVERTV ACTION GROUP.Available from: https://cpag.org.uk/child-poverty-london-facts\n",
    "- Greater London Authority 2010. The London Health Inequalities Strategy. Greater London Authority. ISBN 978-1-84781-349-7\n",
    "- R. Muthukrishnan and R. Rohini 2016.LASSO: A feature selection technique in predictive modeling for machine learning.2016 IEEE International Conference on Advances in Computer Applications (ICACA). pp. 18-20.\n",
    "- Neter, J., Wasserman, W., & Kutner, M. H. 1985. Applied linear statistical models: regression, analysis of variance, and experimental designs (2nd ed.). Homewood. Illinois: R. D. Irwin.\n",
    "- Greater London Authority 2010. The London Health Inequalities Strategy. Greater London Authority. ISBN 978-1-84781-349-7\n",
    "- Greater London Authority 2021.[What we do Communities Tacking child poverty through schools online]. Greater London Authority. Available From:https://www.london.gov.uk/what-we-do/communities/tacking-child-poverty-through-schools."
   ]
  },
  {
   "cell_type": "code",
   "execution_count": null,
   "metadata": {},
   "outputs": [],
   "source": []
  }
 ],
 "metadata": {
  "kernelspec": {
   "display_name": "Python 3",
   "language": "python",
   "name": "python3"
  },
  "language_info": {
   "codemirror_mode": {
    "name": "ipython",
    "version": 3
   },
   "file_extension": ".py",
   "mimetype": "text/x-python",
   "name": "python",
   "nbconvert_exporter": "python",
   "pygments_lexer": "ipython3",
   "version": "3.7.0"
  }
 },
 "nbformat": 4,
 "nbformat_minor": 4
}
