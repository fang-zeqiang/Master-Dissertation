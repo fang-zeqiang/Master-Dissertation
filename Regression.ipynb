{
 "cells": [
  {
   "cell_type": "markdown",
   "metadata": {},
   "source": [
    "# Regression Research for Dynamics"
   ]
  },
  {
   "cell_type": "markdown",
   "metadata": {},
   "source": [
    "Hi Zeqiang - good to see you yesterday, and well done on your further progress. Below is a quick note of our meeting. \n",
    "\n",
    "Priorities for next meeting - the main things to focus on between now and our final meeting: \n",
    "\n",
    "A) write out a precise research question or questions - see my **previous notes for suggestions** here. \n",
    "B) set up and run the **regression analysis**, and then interpreting the results. \n",
    "\n",
    "After that, in August or before, you will need to:\n",
    "\n",
    "1/ Assemble the dissertation itself from the component parts you already have in the Jupiter notebook and elsewhere. If you have time before we meet, try making an outline - basically sections with a note of what content goes in where. This will help you identify any gaps. \n",
    "2/ Go back to the literature review - at the moment you are working from just a few references. You will need to expand that to more like 20-30 for this part of the dissertation to do well. \n",
    "\n",
    "1/ 从您在 Jupiter 笔记本和其他地方已有的组成部分组装论文本身。 如果您在我们见面之前有时间，请尝试制定一个大纲 - 基本上是带有注释内容的部分。 这将帮助您确定任何差距。\n",
    "\n",
    "2/ 回到文献综述——目前你只从几个参考文献开始工作。 您需要将其扩展到更像 **20-30**，以便论文的这一部分做得好。 \n",
    "\n",
    "Notes on your specific questions / issues in the meeting are below. \n",
    "\n",
    "关于您在会议中的具体问题/问题的说明如下。\n",
    "\n",
    "I see you already booked a meeting slot - please send anything you want me to look at to me *by 27 July* if possible. No worries if it's later, but I'll have less time to think about it before the meeting. \n",
    "\n",
    "我看到您已经预订了会议时间 - 如果可能，请在 **7 月 27 日**之前将您想让我看的任何内容发送给我。 晚一点也不用担心，但我会在开会前有更少的时间来考虑它。 \n",
    "\n",
    "As we discussed, if you have further questions / hit problems between now and our next meeting, feel free to email me. \n",
    "\n",
    "正如我们所讨论的，如果您在现在和我们下次会议之间还有其他问题/遇到的问题，请随时给我发电子邮件。\n",
    "\n",
    "All the best, \n",
    "\n",
    "Max\n",
    "\n",
    "\n",
    "---\n",
    "\n",
    "Q1/ time series for entry rates - from the results in your EDA, it looks like data is pretty sparse even in your biggest clusters before the late 1970s. For the whole UK, a 20-year time series feels sensible, say 1998-2018. As you suggest, in the dissertation you will want to justify this with references to the cluster literature: try looking for studies on cluster evolution. \n",
    "\n",
    "Q1/进入率的时间序列——从你的 EDA 中的结果来看，即使在 1970 年代后期之前最大的集群中，数据看起来也非常稀少。 对于整个英国来说，20 年的时间序列是合理的，比如 1998-2018。 正如您所建议的，在论文中，您需要参考集群文献来证明这一点：尝试寻找关于集群演化的研究。 \n",
    "\n",
    "Q2/ Entry vs exit/churn - as we discussed, you should write a couple of sentences in the dissertation explaining that because most tech firms in your data are still active, exit rates are very low and churn rates are very similar to entry rates. Thus in your analysis you concentrate on entry rates. You should also give an example, e.g. for London or for the Uk average. \n",
    "\n",
    "Q2/进入与退出/流失——正如我们所讨论的，你应该在论文中写几句话来解释，因为你数据中的大多数科技公司仍然活跃，退出率非常低，流失率与进入率非常相似。 因此，在您的分析中，您专注于进入率。 您还应该举一个例子，例如 伦敦或英国平均水平。 \n",
    "\n",
    "Q3/ Entry rate definition - there is no obvious right answer here. If you are focused on dynamics *within* a tech cluster, I think it makes sense to define it for cluster i, year t, as new tech firms_it / all tech firms _it. If you are focused on the wider importance of tech clusters, you could define it as ew tech firms_it / all firms _it. Think about your chosen research questions(s) as a guide here. \n",
    "\n",
    "Q3/进入率定义——这里没有明显的正确答案。 如果您专注于技术集群*内*的动态，我认为将其定义为第 t 年集群 i 为新科技公司_it / 所有科技公司 _it 是有意义的。 如果您关注技术集群的更广泛重要性，您可以将其定义为新科技公司_it / 所有公司_it。 考虑您选择的研究问题作为此处的指南。 \n",
    "\n",
    "Q4a/ Regressions - I've re-written them as OLS estimations below, for cluster i, year t, lag n, error e or u. Coefficients are b1, ... bj in (1) and c1, ... cj in (2): \n",
    "\n",
    "Q4a/ 回归 - 我已经将它们重写为下面的 OLS 估计，对于集群 i、t 年、滞后 n、错误 e 或 u。 系数是 (1) 中的 b1, ... bj 和 (2) 中的 c1, ... cj： \n",
    "\n",
    "Dynamics_variable_it = a1 + b2#firms_it-n + b3industry mix_it-n + Xb_it-n + location_i + year_t + e_it (1)\n",
    "\n",
    "Firm_performance_it = c1 + c2#firms_it-n + c3dynamics_it-n + c4industry mix_it-n + Xc_it-n + location_i + year_t + u_it (2)\n",
    "\n",
    "Remember that X is a vector of controls - use the lit review to think about what set of variables you would include here. Typically people include \n",
    "e.g. population density, share of graduates. \n",
    "\n",
    "Start by estimating in OLS with standard errors clustered on TTWA. Then think about more functionally correct estimators - e.g. geographically weighted regression. \n",
    "\n",
    "请记住，X 是一个控件向量 - 使用点燃的评论来考虑您将在此处包含哪些变量集。 通常人们包括\n",
    "例如 人口密度，毕业生比例。\n",
    "\n",
    "首先在 OLS 中进行估计，标准误差聚集在 TTWA 上。 然后考虑更多功能正确的估计器 - 例如 地理加权回归。 \n",
    "\n",
    "Q4b/ industry mix variable - how you build this depends on how you build the entry rate variable. If entry rate is defined in terms of all firms, then industry mix can be share of tech firms / all firms; the LQ of tech firms, or a Herfindahl Index of all industries. If entry rate is defined in terms of tech firms only, then industry mix should probably be a Herfindahl index of tech industry SICs [i.e. how diverse is the tech sector, is it dominated by e.g. software or IT consulting?]\n",
    "\n",
    "Q4b/行业组合变量——你如何构建它取决于你如何构建进入率变量。 如果进入率是根据所有公司来定义的，那么行业组合可以是科技公司/所有公司的份额； 科技公司的 LQ，或所有行业的赫芬达尔指数。 如果仅根据科技公司定义进入率，那么行业组合可能应该是科技行业 SIC 的赫芬达尔指数 [即 科技行业有多多样化，它是否由例如 软件或 IT 咨询？] \n",
    "\n",
    "Other things: \n",
    "\n",
    "* If you don't plan to measure clusters using data-driven methods like DB-Scan, you will need to justify this decision in the dissertation, especially as some tech clusters are likely to be smaller than TTWAs in practice. You could look at literature on TTWAs to argue that they are a good representation of local economies; you could also argue that limitations in OC address data mean it's sensible to aggregate firms to TTWA level (again, you will need references to back that up). \n",
    "\n",
    "* 如果您不打算使用 DB-Scan 等数据驱动方法来衡量集群，则需要在论文中证明这一决定的合理性，特别是因为某些技术集群在实践中可能小于 TTWA。 您可以查看有关 TTWA 的文献，认为它们是当地经济的良好代表； 您还可以争辩说，OC 地址数据的限制意味着将公司聚合到 TTWA 级别是明智的（同样，您需要参考来支持这一点）。 "
   ]
  },
  {
   "cell_type": "code",
   "execution_count": null,
   "metadata": {},
   "outputs": [],
   "source": []
  }
 ],
 "metadata": {
  "kernelspec": {
   "display_name": "Python 3",
   "language": "python",
   "name": "python3"
  },
  "language_info": {
   "codemirror_mode": {
    "name": "ipython",
    "version": 3
   },
   "file_extension": ".py",
   "mimetype": "text/x-python",
   "name": "python",
   "nbconvert_exporter": "python",
   "pygments_lexer": "ipython3",
   "version": "3.7.0"
  }
 },
 "nbformat": 4,
 "nbformat_minor": 4
}
