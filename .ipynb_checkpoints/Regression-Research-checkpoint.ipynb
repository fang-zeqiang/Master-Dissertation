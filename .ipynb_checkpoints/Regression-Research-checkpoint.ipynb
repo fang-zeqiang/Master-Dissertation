{
 "cells": [
  {
   "cell_type": "markdown",
   "metadata": {},
   "source": [
    "# Regression Research for Dynamics Variables (Top 10 Tech Clusters)"
   ]
  },
  {
   "cell_type": "markdown",
   "metadata": {},
   "source": [
    "# Current Question\n",
    "\n",
    "1. I used multiple linear regression for the this research. Did the following OLS estimation you wrote in the last communication use the time series forecasting model such as ARIMA OLS estimation? Do I need to use time series forecasting to estimate?\n",
    "\n",
    "     Dynamics_variable_it = a1 + b2#firms_it-n + b3industry mix_it-n + Xb_it-n + location_i + year_t + e_it (1)\n",
    "\n",
    "     Firm_performance_it = c1 + c2#firms_it-n + c3dynamics_it-n + c4industry mix_it-n + Xc_it-n + location_i + year_t + u_it (2)\n",
    "\n",
    "    P.S. I found that Firm_performance_it is also only available for `Average_of_latest_accounts_assets` in the dataset. OR are there other indicators that can be used to measure Firm_performance_it\n",
    "\n",
    "1. HIH index might not be available because a company’s market share is difficult to measure for the existing dataset"
   ]
  },
  {
   "cell_type": "markdown",
   "metadata": {},
   "source": [
    "# 1 Key Results"
   ]
  },
  {
   "cell_type": "markdown",
   "metadata": {},
   "source": [
    "My Research Question:\n",
    "\n",
    "- How does tech clusters' dynamics pattern change in UK from 1998 to 2018? / What factors can affect tech clusters' dynamics pattern change in UK?\n",
    "\n",
    "- To what extent will dynamic changes affect tech clusters’ performance？"
   ]
  },
  {
   "cell_type": "markdown",
   "metadata": {},
   "source": [
    "## 1.2 Data\n",
    "\n",
    "Below is my dataset for regression research, you can access/download it in this [link](https://zeqiang.fun/CASA0012-Dissertation/dataset/Top_10_Tech_TTWA_Cluster_Reg_Prepare.xlsx)"
   ]
  },
  {
   "cell_type": "code",
   "execution_count": 18,
   "metadata": {
    "jupyter": {
     "source_hidden": true
    }
   },
   "outputs": [
    {
     "data": {
      "text/html": [
       "<div>\n",
       "<style scoped>\n",
       "    .dataframe tbody tr th:only-of-type {\n",
       "        vertical-align: middle;\n",
       "    }\n",
       "\n",
       "    .dataframe tbody tr th {\n",
       "        vertical-align: top;\n",
       "    }\n",
       "\n",
       "    .dataframe thead th {\n",
       "        text-align: right;\n",
       "    }\n",
       "</style>\n",
       "<table border=\"1\" class=\"dataframe\">\n",
       "  <thead>\n",
       "    <tr style=\"text-align: right;\">\n",
       "      <th></th>\n",
       "      <th>ttwa</th>\n",
       "      <th>birth_year</th>\n",
       "      <th>Count_of_tech_firms</th>\n",
       "      <th>Average_of_latest_accounts_assets</th>\n",
       "      <th>Total_tech_firms</th>\n",
       "      <th>Entry_Rate</th>\n",
       "    </tr>\n",
       "  </thead>\n",
       "  <tbody>\n",
       "    <tr>\n",
       "      <th>0</th>\n",
       "      <td>E30000169</td>\n",
       "      <td>1998</td>\n",
       "      <td>57</td>\n",
       "      <td>154,110.7632</td>\n",
       "      <td>9047</td>\n",
       "      <td>0.0063</td>\n",
       "    </tr>\n",
       "    <tr>\n",
       "      <th>1</th>\n",
       "      <td>E30000169</td>\n",
       "      <td>1999</td>\n",
       "      <td>78</td>\n",
       "      <td>392,610.4737</td>\n",
       "      <td>9047</td>\n",
       "      <td>0.0086</td>\n",
       "    </tr>\n",
       "    <tr>\n",
       "      <th>2</th>\n",
       "      <td>E30000169</td>\n",
       "      <td>2000</td>\n",
       "      <td>82</td>\n",
       "      <td>234,658.3898</td>\n",
       "      <td>9047</td>\n",
       "      <td>0.0091</td>\n",
       "    </tr>\n",
       "    <tr>\n",
       "      <th>3</th>\n",
       "      <td>E30000169</td>\n",
       "      <td>2001</td>\n",
       "      <td>67</td>\n",
       "      <td>198,533.5192</td>\n",
       "      <td>9047</td>\n",
       "      <td>0.0074</td>\n",
       "    </tr>\n",
       "    <tr>\n",
       "      <th>4</th>\n",
       "      <td>E30000169</td>\n",
       "      <td>2002</td>\n",
       "      <td>125</td>\n",
       "      <td>169,835.2778</td>\n",
       "      <td>9047</td>\n",
       "      <td>0.0138</td>\n",
       "    </tr>\n",
       "  </tbody>\n",
       "</table>\n",
       "</div>"
      ],
      "text/plain": [
       "        ttwa  birth_year  Count_of_tech_firms  \\\n",
       "0  E30000169        1998                   57   \n",
       "1  E30000169        1999                   78   \n",
       "2  E30000169        2000                   82   \n",
       "3  E30000169        2001                   67   \n",
       "4  E30000169        2002                  125   \n",
       "\n",
       "         Average_of_latest_accounts_assets  Total_tech_firms  \\\n",
       "0                             154,110.7632              9047   \n",
       "1                             392,610.4737              9047   \n",
       "2                             234,658.3898              9047   \n",
       "3                             198,533.5192              9047   \n",
       "4                             169,835.2778              9047   \n",
       "\n",
       "                                Entry_Rate  \n",
       "0                                   0.0063  \n",
       "1                                   0.0086  \n",
       "2                                   0.0091  \n",
       "3                                   0.0074  \n",
       "4                                   0.0138  "
      ]
     },
     "execution_count": 18,
     "metadata": {},
     "output_type": "execute_result"
    }
   ],
   "source": [
    "df3.head()"
   ]
  },
  {
   "cell_type": "markdown",
   "metadata": {},
   "source": [
    "## 1.3 Hypothesis\n",
    "\n",
    "With reference to the OLS estimation that you said last time, I made two assumptions in section [2.3 Hypothesis](#2.3-Hypothesis). I selected the [second assumption](#2.4.2-Hypothesis-2) as following key results:\n",
    "\n",
    "$\\ log_e{\\ Dynamics\\ Variable_{i,t}}\\ =\\ a_1 + b_1 \\times firms_{i,t} + b_2 \\times location_i + b_3 \\times year_t$ (1)\n",
    "\n",
    "$\\ log_e\\ Firm\\ Performance_{i,t}\\ =\\ c_1 + d_1 \\times firms_{i,t} + d_2 \\times dynamics_{i,t} + d_3 \\times location_i + d_4 \\times year_t$ (2)\n",
    "\n",
    "\n",
    "* $Dynamics\\ Variable_{i,t}$ in (1) means `Entry_Rate` in $t$ and $i$ \n",
    "* $dynamics_{i,t}$ in (2) means `Entry_Rate` in a specific $t$ and $i$ \n",
    "* $firms_{i,t}$ means `Count_of_tech_firms` in a specific $t$ and $i$\n",
    "* $t$ means year -- `birth_year`\n",
    "* $i$ means location -- `ttwa` (travel to work area)"
   ]
  },
  {
   "cell_type": "markdown",
   "metadata": {},
   "source": [
    "## 1.4 Regression\n",
    "\n",
    "For the multiple linear regression of the above assumptions, the final results are given below; the goodness of model fit is not bad ($R^2$ is high)\n",
    "\n",
    "$\\ log_e{\\ Dynamics\\ Variable_{i,t}} =  2.8e^{-5} \\times firms_{i,t} + b_2 \\times location_i + 0.15 \\times year_t - 310$（1）\n",
    "\n",
    "$\\ log_e\\ Firm\\ Performance_{i,t}\\  = 0.0001 \\times firms_{i,t} + {-8.9585} \\times dynamics_{i,t} + d_3 \\times location_i + {-0.0675} \\times year_t + 147.5$ (2)\n",
    "\n",
    "NOTE: $b_2$ and $d_3$ should be seen in the following regression summary because $location_i$ is a dummy independent variable."
   ]
  },
  {
   "cell_type": "markdown",
   "metadata": {},
   "source": [
    "The regression report details are given below (Report No.1 & No.2), and further residual analysis can be viewed in [section 2.4.2](#2.4.2-Hypothesis-2)"
   ]
  },
  {
   "cell_type": "markdown",
   "metadata": {},
   "source": [
    "**【Report No.1】**\n",
    "\n",
    "This is the **Dynamics Variable (1)** regression summary:\n",
    "\n",
    "NOTE: for dummy variable $location_i$, `ttwa_E30000169（Birmingham）` is dropped as a reference objectivity in the regression"
   ]
  },
  {
   "cell_type": "code",
   "execution_count": 99,
   "metadata": {
    "jupyter": {
     "source_hidden": true
    }
   },
   "outputs": [
    {
     "data": {
      "text/html": [
       "<table class=\"simpletable\">\n",
       "<caption>OLS Regression Results</caption>\n",
       "<tr>\n",
       "  <th>Dep. Variable:</th>       <td>Entry_Rate</td>    <th>  R-squared:         </th> <td>   0.932</td> \n",
       "</tr>\n",
       "<tr>\n",
       "  <th>Model:</th>                   <td>OLS</td>       <th>  Adj. R-squared:    </th> <td>   0.928</td> \n",
       "</tr>\n",
       "<tr>\n",
       "  <th>Method:</th>             <td>Least Squares</td>  <th>  F-statistic:       </th> <td>   238.5</td> \n",
       "</tr>\n",
       "<tr>\n",
       "  <th>Date:</th>             <td>Tue, 27 Jul 2021</td> <th>  Prob (F-statistic):</th> <td>3.43e-105</td>\n",
       "</tr>\n",
       "<tr>\n",
       "  <th>Time:</th>                 <td>00:49:45</td>     <th>  Log-Likelihood:    </th> <td> -9.0648</td> \n",
       "</tr>\n",
       "<tr>\n",
       "  <th>No. Observations:</th>      <td>   203</td>      <th>  AIC:               </th> <td>   42.13</td> \n",
       "</tr>\n",
       "<tr>\n",
       "  <th>Df Residuals:</th>          <td>   191</td>      <th>  BIC:               </th> <td>   81.89</td> \n",
       "</tr>\n",
       "<tr>\n",
       "  <th>Df Model:</th>              <td>    11</td>      <th>                     </th>     <td> </td>    \n",
       "</tr>\n",
       "<tr>\n",
       "  <th>Covariance Type:</th>      <td>nonrobust</td>    <th>                     </th>     <td> </td>    \n",
       "</tr>\n",
       "</table>\n",
       "<table class=\"simpletable\">\n",
       "<tr>\n",
       "           <td></td>              <th>coef</th>     <th>std err</th>      <th>t</th>      <th>P>|t|</th>  <th>[0.025</th>    <th>0.975]</th>  \n",
       "</tr>\n",
       "<tr>\n",
       "  <th>const</th>               <td> -310.4470</td> <td>    6.992</td> <td>  -44.399</td> <td> 0.000</td> <td> -324.239</td> <td> -296.655</td>\n",
       "</tr>\n",
       "<tr>\n",
       "  <th>birth_year</th>          <td>    0.1529</td> <td>    0.003</td> <td>   43.878</td> <td> 0.000</td> <td>    0.146</td> <td>    0.160</td>\n",
       "</tr>\n",
       "<tr>\n",
       "  <th>Count_of_tech_firms</th> <td> 2.804e-05</td> <td> 1.13e-05</td> <td>    2.489</td> <td> 0.014</td> <td> 5.82e-06</td> <td> 5.03e-05</td>\n",
       "</tr>\n",
       "<tr>\n",
       "  <th>ttwa_E30000175</th>      <td>   -0.4938</td> <td>    0.082</td> <td>   -5.986</td> <td> 0.000</td> <td>   -0.657</td> <td>   -0.331</td>\n",
       "</tr>\n",
       "<tr>\n",
       "  <th>ttwa_E30000179</th>      <td>   -0.1491</td> <td>    0.082</td> <td>   -1.829</td> <td> 0.069</td> <td>   -0.310</td> <td>    0.012</td>\n",
       "</tr>\n",
       "<tr>\n",
       "  <th>ttwa_E30000180</th>      <td>    0.1377</td> <td>    0.082</td> <td>    1.669</td> <td> 0.097</td> <td>   -0.025</td> <td>    0.300</td>\n",
       "</tr>\n",
       "<tr>\n",
       "  <th>ttwa_E30000186</th>      <td>    0.1193</td> <td>    0.083</td> <td>    1.446</td> <td> 0.150</td> <td>   -0.043</td> <td>    0.282</td>\n",
       "</tr>\n",
       "<tr>\n",
       "  <th>ttwa_E30000212</th>      <td>    0.2416</td> <td>    0.083</td> <td>    2.928</td> <td> 0.004</td> <td>    0.079</td> <td>    0.404</td>\n",
       "</tr>\n",
       "<tr>\n",
       "  <th>ttwa_E30000234</th>      <td>   -0.2003</td> <td>    0.099</td> <td>   -2.028</td> <td> 0.044</td> <td>   -0.395</td> <td>   -0.005</td>\n",
       "</tr>\n",
       "<tr>\n",
       "  <th>ttwa_E30000237</th>      <td>   -0.0440</td> <td>    0.082</td> <td>   -0.533</td> <td> 0.595</td> <td>   -0.207</td> <td>    0.119</td>\n",
       "</tr>\n",
       "<tr>\n",
       "  <th>ttwa_E30000239</th>      <td>    0.0074</td> <td>    0.082</td> <td>    0.091</td> <td> 0.928</td> <td>   -0.154</td> <td>    0.168</td>\n",
       "</tr>\n",
       "<tr>\n",
       "  <th>ttwa_E30000266</th>      <td>    0.0248</td> <td>    0.083</td> <td>    0.300</td> <td> 0.765</td> <td>   -0.138</td> <td>    0.188</td>\n",
       "</tr>\n",
       "</table>\n",
       "<table class=\"simpletable\">\n",
       "<tr>\n",
       "  <th>Omnibus:</th>       <td> 6.590</td> <th>  Durbin-Watson:     </th> <td>   1.008</td>\n",
       "</tr>\n",
       "<tr>\n",
       "  <th>Prob(Omnibus):</th> <td> 0.037</td> <th>  Jarque-Bera (JB):  </th> <td>   6.880</td>\n",
       "</tr>\n",
       "<tr>\n",
       "  <th>Skew:</th>          <td> 0.316</td> <th>  Prob(JB):          </th> <td>  0.0321</td>\n",
       "</tr>\n",
       "<tr>\n",
       "  <th>Kurtosis:</th>      <td> 3.643</td> <th>  Cond. No.          </th> <td>1.04e+06</td>\n",
       "</tr>\n",
       "</table><br/><br/>Notes:<br/>[1] Standard Errors assume that the covariance matrix of the errors is correctly specified.<br/>[2] The condition number is large, 1.04e+06. This might indicate that there are<br/>strong multicollinearity or other numerical problems."
      ],
      "text/plain": [
       "<class 'statsmodels.iolib.summary.Summary'>\n",
       "\"\"\"\n",
       "                            OLS Regression Results                            \n",
       "==============================================================================\n",
       "Dep. Variable:             Entry_Rate   R-squared:                       0.932\n",
       "Model:                            OLS   Adj. R-squared:                  0.928\n",
       "Method:                 Least Squares   F-statistic:                     238.5\n",
       "Date:                Tue, 27 Jul 2021   Prob (F-statistic):          3.43e-105\n",
       "Time:                        00:49:45   Log-Likelihood:                -9.0648\n",
       "No. Observations:                 203   AIC:                             42.13\n",
       "Df Residuals:                     191   BIC:                             81.89\n",
       "Df Model:                          11                                         \n",
       "Covariance Type:            nonrobust                                         \n",
       "=======================================================================================\n",
       "                          coef    std err          t      P>|t|      [0.025      0.975]\n",
       "---------------------------------------------------------------------------------------\n",
       "const                -310.4470      6.992    -44.399      0.000    -324.239    -296.655\n",
       "birth_year              0.1529      0.003     43.878      0.000       0.146       0.160\n",
       "Count_of_tech_firms  2.804e-05   1.13e-05      2.489      0.014    5.82e-06    5.03e-05\n",
       "ttwa_E30000175         -0.4938      0.082     -5.986      0.000      -0.657      -0.331\n",
       "ttwa_E30000179         -0.1491      0.082     -1.829      0.069      -0.310       0.012\n",
       "ttwa_E30000180          0.1377      0.082      1.669      0.097      -0.025       0.300\n",
       "ttwa_E30000186          0.1193      0.083      1.446      0.150      -0.043       0.282\n",
       "ttwa_E30000212          0.2416      0.083      2.928      0.004       0.079       0.404\n",
       "ttwa_E30000234         -0.2003      0.099     -2.028      0.044      -0.395      -0.005\n",
       "ttwa_E30000237         -0.0440      0.082     -0.533      0.595      -0.207       0.119\n",
       "ttwa_E30000239          0.0074      0.082      0.091      0.928      -0.154       0.168\n",
       "ttwa_E30000266          0.0248      0.083      0.300      0.765      -0.138       0.188\n",
       "==============================================================================\n",
       "Omnibus:                        6.590   Durbin-Watson:                   1.008\n",
       "Prob(Omnibus):                  0.037   Jarque-Bera (JB):                6.880\n",
       "Skew:                           0.316   Prob(JB):                       0.0321\n",
       "Kurtosis:                       3.643   Cond. No.                     1.04e+06\n",
       "==============================================================================\n",
       "\n",
       "Notes:\n",
       "[1] Standard Errors assume that the covariance matrix of the errors is correctly specified.\n",
       "[2] The condition number is large, 1.04e+06. This might indicate that there are\n",
       "strong multicollinearity or other numerical problems.\n",
       "\"\"\""
      ]
     },
     "execution_count": 99,
     "metadata": {},
     "output_type": "execute_result"
    }
   ],
   "source": [
    "# for formula (1)\n",
    "hypo2_1_regressor_OLS.summary()"
   ]
  },
  {
   "cell_type": "markdown",
   "metadata": {},
   "source": [
    "**【Report No.2】**\n",
    "\n",
    "This is the **Firms' Performance (2)** regression summary:"
   ]
  },
  {
   "cell_type": "code",
   "execution_count": 100,
   "metadata": {
    "jupyter": {
     "source_hidden": true
    }
   },
   "outputs": [
    {
     "data": {
      "text/html": [
       "<table class=\"simpletable\">\n",
       "<caption>OLS Regression Results</caption>\n",
       "<tr>\n",
       "  <th>Dep. Variable:</th>    <td>Average_of_latest_accounts_assets</td> <th>  R-squared:         </th> <td>   0.745</td>\n",
       "</tr>\n",
       "<tr>\n",
       "  <th>Model:</th>                           <td>OLS</td>                <th>  Adj. R-squared:    </th> <td>   0.729</td>\n",
       "</tr>\n",
       "<tr>\n",
       "  <th>Method:</th>                     <td>Least Squares</td>           <th>  F-statistic:       </th> <td>   46.37</td>\n",
       "</tr>\n",
       "<tr>\n",
       "  <th>Date:</th>                     <td>Tue, 27 Jul 2021</td>          <th>  Prob (F-statistic):</th> <td>6.23e-50</td>\n",
       "</tr>\n",
       "<tr>\n",
       "  <th>Time:</th>                         <td>00:50:00</td>              <th>  Log-Likelihood:    </th> <td> -99.816</td>\n",
       "</tr>\n",
       "<tr>\n",
       "  <th>No. Observations:</th>              <td>   203</td>               <th>  AIC:               </th> <td>   225.6</td>\n",
       "</tr>\n",
       "<tr>\n",
       "  <th>Df Residuals:</th>                  <td>   190</td>               <th>  BIC:               </th> <td>   268.7</td>\n",
       "</tr>\n",
       "<tr>\n",
       "  <th>Df Model:</th>                      <td>    12</td>               <th>                     </th>     <td> </td>   \n",
       "</tr>\n",
       "<tr>\n",
       "  <th>Covariance Type:</th>              <td>nonrobust</td>             <th>                     </th>     <td> </td>   \n",
       "</tr>\n",
       "</table>\n",
       "<table class=\"simpletable\">\n",
       "<tr>\n",
       "           <td></td>              <th>coef</th>     <th>std err</th>      <th>t</th>      <th>P>|t|</th>  <th>[0.025</th>    <th>0.975]</th>  \n",
       "</tr>\n",
       "<tr>\n",
       "  <th>const</th>               <td>  147.5047</td> <td>   22.122</td> <td>    6.668</td> <td> 0.000</td> <td>  103.868</td> <td>  191.142</td>\n",
       "</tr>\n",
       "<tr>\n",
       "  <th>birth_year</th>          <td>   -0.0675</td> <td>    0.011</td> <td>   -6.111</td> <td> 0.000</td> <td>   -0.089</td> <td>   -0.046</td>\n",
       "</tr>\n",
       "<tr>\n",
       "  <th>Count_of_tech_firms</th> <td>    0.0001</td> <td> 1.95e-05</td> <td>    5.773</td> <td> 0.000</td> <td> 7.42e-05</td> <td>    0.000</td>\n",
       "</tr>\n",
       "<tr>\n",
       "  <th>Entry_Rate</th>          <td>   -8.9585</td> <td>    1.814</td> <td>   -4.940</td> <td> 0.000</td> <td>  -12.536</td> <td>   -5.381</td>\n",
       "</tr>\n",
       "<tr>\n",
       "  <th>ttwa_E30000175</th>      <td>   -0.2359</td> <td>    0.129</td> <td>   -1.823</td> <td> 0.070</td> <td>   -0.491</td> <td>    0.019</td>\n",
       "</tr>\n",
       "<tr>\n",
       "  <th>ttwa_E30000179</th>      <td>   -0.2070</td> <td>    0.128</td> <td>   -1.618</td> <td> 0.107</td> <td>   -0.459</td> <td>    0.045</td>\n",
       "</tr>\n",
       "<tr>\n",
       "  <th>ttwa_E30000180</th>      <td>    0.0600</td> <td>    0.129</td> <td>    0.464</td> <td> 0.643</td> <td>   -0.195</td> <td>    0.315</td>\n",
       "</tr>\n",
       "<tr>\n",
       "  <th>ttwa_E30000186</th>      <td>    0.1323</td> <td>    0.129</td> <td>    1.023</td> <td> 0.308</td> <td>   -0.123</td> <td>    0.387</td>\n",
       "</tr>\n",
       "<tr>\n",
       "  <th>ttwa_E30000212</th>      <td>    0.2389</td> <td>    0.129</td> <td>    1.845</td> <td> 0.067</td> <td>   -0.016</td> <td>    0.494</td>\n",
       "</tr>\n",
       "<tr>\n",
       "  <th>ttwa_E30000234</th>      <td>    0.0065</td> <td>    0.159</td> <td>    0.041</td> <td> 0.967</td> <td>   -0.307</td> <td>    0.320</td>\n",
       "</tr>\n",
       "<tr>\n",
       "  <th>ttwa_E30000237</th>      <td>    0.0750</td> <td>    0.129</td> <td>    0.580</td> <td> 0.563</td> <td>   -0.180</td> <td>    0.330</td>\n",
       "</tr>\n",
       "<tr>\n",
       "  <th>ttwa_E30000239</th>      <td>   -0.0467</td> <td>    0.128</td> <td>   -0.365</td> <td> 0.716</td> <td>   -0.299</td> <td>    0.206</td>\n",
       "</tr>\n",
       "<tr>\n",
       "  <th>ttwa_E30000266</th>      <td>    0.0912</td> <td>    0.129</td> <td>    0.704</td> <td> 0.482</td> <td>   -0.164</td> <td>    0.347</td>\n",
       "</tr>\n",
       "</table>\n",
       "<table class=\"simpletable\">\n",
       "<tr>\n",
       "  <th>Omnibus:</th>       <td>103.810</td> <th>  Durbin-Watson:     </th> <td>   1.682</td> \n",
       "</tr>\n",
       "<tr>\n",
       "  <th>Prob(Omnibus):</th> <td> 0.000</td>  <th>  Jarque-Bera (JB):  </th> <td>1355.690</td> \n",
       "</tr>\n",
       "<tr>\n",
       "  <th>Skew:</th>          <td>-1.582</td>  <th>  Prob(JB):          </th> <td>4.13e-295</td>\n",
       "</tr>\n",
       "<tr>\n",
       "  <th>Kurtosis:</th>      <td>15.259</td>  <th>  Cond. No.          </th> <td>2.11e+06</td> \n",
       "</tr>\n",
       "</table><br/><br/>Notes:<br/>[1] Standard Errors assume that the covariance matrix of the errors is correctly specified.<br/>[2] The condition number is large, 2.11e+06. This might indicate that there are<br/>strong multicollinearity or other numerical problems."
      ],
      "text/plain": [
       "<class 'statsmodels.iolib.summary.Summary'>\n",
       "\"\"\"\n",
       "                                    OLS Regression Results                                   \n",
       "=============================================================================================\n",
       "Dep. Variable:     Average_of_latest_accounts_assets   R-squared:                       0.745\n",
       "Model:                                           OLS   Adj. R-squared:                  0.729\n",
       "Method:                                Least Squares   F-statistic:                     46.37\n",
       "Date:                               Tue, 27 Jul 2021   Prob (F-statistic):           6.23e-50\n",
       "Time:                                       00:50:00   Log-Likelihood:                -99.816\n",
       "No. Observations:                                203   AIC:                             225.6\n",
       "Df Residuals:                                    190   BIC:                             268.7\n",
       "Df Model:                                         12                                         \n",
       "Covariance Type:                           nonrobust                                         \n",
       "=======================================================================================\n",
       "                          coef    std err          t      P>|t|      [0.025      0.975]\n",
       "---------------------------------------------------------------------------------------\n",
       "const                 147.5047     22.122      6.668      0.000     103.868     191.142\n",
       "birth_year             -0.0675      0.011     -6.111      0.000      -0.089      -0.046\n",
       "Count_of_tech_firms     0.0001   1.95e-05      5.773      0.000    7.42e-05       0.000\n",
       "Entry_Rate             -8.9585      1.814     -4.940      0.000     -12.536      -5.381\n",
       "ttwa_E30000175         -0.2359      0.129     -1.823      0.070      -0.491       0.019\n",
       "ttwa_E30000179         -0.2070      0.128     -1.618      0.107      -0.459       0.045\n",
       "ttwa_E30000180          0.0600      0.129      0.464      0.643      -0.195       0.315\n",
       "ttwa_E30000186          0.1323      0.129      1.023      0.308      -0.123       0.387\n",
       "ttwa_E30000212          0.2389      0.129      1.845      0.067      -0.016       0.494\n",
       "ttwa_E30000234          0.0065      0.159      0.041      0.967      -0.307       0.320\n",
       "ttwa_E30000237          0.0750      0.129      0.580      0.563      -0.180       0.330\n",
       "ttwa_E30000239         -0.0467      0.128     -0.365      0.716      -0.299       0.206\n",
       "ttwa_E30000266          0.0912      0.129      0.704      0.482      -0.164       0.347\n",
       "==============================================================================\n",
       "Omnibus:                      103.810   Durbin-Watson:                   1.682\n",
       "Prob(Omnibus):                  0.000   Jarque-Bera (JB):             1355.690\n",
       "Skew:                          -1.582   Prob(JB):                    4.13e-295\n",
       "Kurtosis:                      15.259   Cond. No.                     2.11e+06\n",
       "==============================================================================\n",
       "\n",
       "Notes:\n",
       "[1] Standard Errors assume that the covariance matrix of the errors is correctly specified.\n",
       "[2] The condition number is large, 2.11e+06. This might indicate that there are\n",
       "strong multicollinearity or other numerical problems.\n",
       "\"\"\""
      ]
     },
     "execution_count": 100,
     "metadata": {},
     "output_type": "execute_result"
    }
   ],
   "source": [
    "# for formula (2)\n",
    "\n",
    "hypo2_2_regressor_OLS.summary()"
   ]
  },
  {
   "cell_type": "markdown",
   "metadata": {},
   "source": [
    "For better see the ttwa cluster name:"
   ]
  },
  {
   "cell_type": "code",
   "execution_count": 101,
   "metadata": {
    "jupyter": {
     "source_hidden": true
    }
   },
   "outputs": [
    {
     "data": {
      "text/html": [
       "<style  type=\"text/css\" >\n",
       "</style><table id=\"T_60719a46_eead_11eb_a56a_acde48001122\" ><thead>    <tr>        <th class=\"blank level0\" ></th>        <th class=\"col_heading level0 col0\" >ttwa_code</th>        <th class=\"col_heading level0 col1\" >name</th>        <th class=\"col_heading level0 col2\" >counts</th>    </tr></thead><tbody>\n",
       "                <tr>\n",
       "                        <th id=\"T_60719a46_eead_11eb_a56a_acde48001122level0_row0\" class=\"row_heading level0 row0\" >0</th>\n",
       "                        <td id=\"T_60719a46_eead_11eb_a56a_acde48001122row0_col0\" class=\"data row0 col0\" >E30000234</td>\n",
       "                        <td id=\"T_60719a46_eead_11eb_a56a_acde48001122row0_col1\" class=\"data row0 col1\" >London</td>\n",
       "                        <td id=\"T_60719a46_eead_11eb_a56a_acde48001122row0_col2\" class=\"data row0 col2\" >119008</td>\n",
       "            </tr>\n",
       "            <tr>\n",
       "                        <th id=\"T_60719a46_eead_11eb_a56a_acde48001122level0_row1\" class=\"row_heading level0 row1\" >1</th>\n",
       "                        <td id=\"T_60719a46_eead_11eb_a56a_acde48001122row1_col0\" class=\"data row1 col0\" >E30000239</td>\n",
       "                        <td id=\"T_60719a46_eead_11eb_a56a_acde48001122row1_col1\" class=\"data row1 col1\" >Manchester</td>\n",
       "                        <td id=\"T_60719a46_eead_11eb_a56a_acde48001122row1_col2\" class=\"data row1 col2\" >18273</td>\n",
       "            </tr>\n",
       "            <tr>\n",
       "                        <th id=\"T_60719a46_eead_11eb_a56a_acde48001122level0_row2\" class=\"row_heading level0 row2\" >2</th>\n",
       "                        <td id=\"T_60719a46_eead_11eb_a56a_acde48001122row2_col0\" class=\"data row2 col0\" >E30000266</td>\n",
       "                        <td id=\"T_60719a46_eead_11eb_a56a_acde48001122row2_col1\" class=\"data row2 col1\" >Slough and Heathrow</td>\n",
       "                        <td id=\"T_60719a46_eead_11eb_a56a_acde48001122row2_col2\" class=\"data row2 col2\" >17367</td>\n",
       "            </tr>\n",
       "            <tr>\n",
       "                        <th id=\"T_60719a46_eead_11eb_a56a_acde48001122level0_row3\" class=\"row_heading level0 row3\" >3</th>\n",
       "                        <td id=\"T_60719a46_eead_11eb_a56a_acde48001122row3_col0\" class=\"data row3 col0\" >E30000169</td>\n",
       "                        <td id=\"T_60719a46_eead_11eb_a56a_acde48001122row3_col1\" class=\"data row3 col1\" >Birmingham</td>\n",
       "                        <td id=\"T_60719a46_eead_11eb_a56a_acde48001122row3_col2\" class=\"data row3 col2\" >9593</td>\n",
       "            </tr>\n",
       "            <tr>\n",
       "                        <th id=\"T_60719a46_eead_11eb_a56a_acde48001122level0_row4\" class=\"row_heading level0 row4\" >4</th>\n",
       "                        <td id=\"T_60719a46_eead_11eb_a56a_acde48001122row4_col0\" class=\"data row4 col0\" >E30000237</td>\n",
       "                        <td id=\"T_60719a46_eead_11eb_a56a_acde48001122row4_col1\" class=\"data row4 col1\" >Luton</td>\n",
       "                        <td id=\"T_60719a46_eead_11eb_a56a_acde48001122row4_col2\" class=\"data row4 col2\" >8873</td>\n",
       "            </tr>\n",
       "            <tr>\n",
       "                        <th id=\"T_60719a46_eead_11eb_a56a_acde48001122level0_row5\" class=\"row_heading level0 row5\" >5</th>\n",
       "                        <td id=\"T_60719a46_eead_11eb_a56a_acde48001122row5_col0\" class=\"data row5 col0\" >E30000175</td>\n",
       "                        <td id=\"T_60719a46_eead_11eb_a56a_acde48001122row5_col1\" class=\"data row5 col1\" >Bournemouth</td>\n",
       "                        <td id=\"T_60719a46_eead_11eb_a56a_acde48001122row5_col2\" class=\"data row5 col2\" >7546</td>\n",
       "            </tr>\n",
       "            <tr>\n",
       "                        <th id=\"T_60719a46_eead_11eb_a56a_acde48001122level0_row6\" class=\"row_heading level0 row6\" >6</th>\n",
       "                        <td id=\"T_60719a46_eead_11eb_a56a_acde48001122row6_col0\" class=\"data row6 col0\" >E30000179</td>\n",
       "                        <td id=\"T_60719a46_eead_11eb_a56a_acde48001122row6_col1\" class=\"data row6 col1\" >Brighton</td>\n",
       "                        <td id=\"T_60719a46_eead_11eb_a56a_acde48001122row6_col2\" class=\"data row6 col2\" >7483</td>\n",
       "            </tr>\n",
       "            <tr>\n",
       "                        <th id=\"T_60719a46_eead_11eb_a56a_acde48001122level0_row7\" class=\"row_heading level0 row7\" >7</th>\n",
       "                        <td id=\"T_60719a46_eead_11eb_a56a_acde48001122row7_col0\" class=\"data row7 col0\" >E30000186</td>\n",
       "                        <td id=\"T_60719a46_eead_11eb_a56a_acde48001122row7_col1\" class=\"data row7 col1\" >Cambridge</td>\n",
       "                        <td id=\"T_60719a46_eead_11eb_a56a_acde48001122row7_col2\" class=\"data row7 col2\" >6252</td>\n",
       "            </tr>\n",
       "            <tr>\n",
       "                        <th id=\"T_60719a46_eead_11eb_a56a_acde48001122level0_row8\" class=\"row_heading level0 row8\" >8</th>\n",
       "                        <td id=\"T_60719a46_eead_11eb_a56a_acde48001122row8_col0\" class=\"data row8 col0\" >E30000180</td>\n",
       "                        <td id=\"T_60719a46_eead_11eb_a56a_acde48001122row8_col1\" class=\"data row8 col1\" >Bristol</td>\n",
       "                        <td id=\"T_60719a46_eead_11eb_a56a_acde48001122row8_col2\" class=\"data row8 col2\" >6176</td>\n",
       "            </tr>\n",
       "            <tr>\n",
       "                        <th id=\"T_60719a46_eead_11eb_a56a_acde48001122level0_row9\" class=\"row_heading level0 row9\" >9</th>\n",
       "                        <td id=\"T_60719a46_eead_11eb_a56a_acde48001122row9_col0\" class=\"data row9 col0\" >E30000212</td>\n",
       "                        <td id=\"T_60719a46_eead_11eb_a56a_acde48001122row9_col1\" class=\"data row9 col1\" >Guildford and Aldershot</td>\n",
       "                        <td id=\"T_60719a46_eead_11eb_a56a_acde48001122row9_col2\" class=\"data row9 col2\" >5986</td>\n",
       "            </tr>\n",
       "    </tbody></table>"
      ],
      "text/plain": [
       "<pandas.io.formats.style.Styler at 0x7ffaf6db9d68>"
      ]
     },
     "execution_count": 101,
     "metadata": {},
     "output_type": "execute_result"
    }
   ],
   "source": [
    "df_ttwa_10.style"
   ]
  },
  {
   "cell_type": "markdown",
   "metadata": {},
   "source": [
    "## 1.5 Insights\n",
    "\n",
    "$\\ log_e{\\ Dynamics\\ Variable_{i,t}} =  2.8e^{-5} \\times firms_{i,t} + b_2 \\times location_i + 0.15 \\times year_t - 310$（1）\n",
    "\n",
    "$\\ log_e\\ Firm\\ Performance_{i,t}\\  = 0.0001 \\times firms_{i,t} + {-8.9585} \\times dynamics_{i,t} + d_3 \\times location_i + {-0.0675} \\times year_t + 147.5$ (2)"
   ]
  },
  {
   "cell_type": "markdown",
   "metadata": {},
   "source": [
    "1. The more number of firms in the cluster increase and year grow, the more firms will entry this cluster\n",
    "1. E30000212 (Guildford and Aldershot) & E30000186(Cambridge) area 相比 E30000169(Birmingham) 更能吸引公司进入其对应的科技集群\n",
    "1. The second result is not so ideal becasue firm performance is based on `Average_of_latest_accounts_assets` variable which has 41% missing value in dataset"
   ]
  },
  {
   "cell_type": "markdown",
   "metadata": {},
   "source": [
    "---\n",
    "\n",
    "# 2 Reproducible Analysis"
   ]
  },
  {
   "cell_type": "markdown",
   "metadata": {},
   "source": [
    "## 2.1 Read Data"
   ]
  },
  {
   "cell_type": "code",
   "execution_count": null,
   "metadata": {},
   "outputs": [],
   "source": [
    "import pandas as pd\n",
    "import sys\n",
    "PATH = sys.path[0]\n",
    "\n",
    "df = pd.read_csv(PATH + \"/Dataset/fame_OC_tech_firm.csv\",low_memory=False)\n",
    "df = df.drop({\"Unnamed: 0\",\"Unnamed: 0.1\",\"Unnamed: 0.1.1\",\"is_tech\"},axis = 1)\n",
    "\n",
    "# preprocess the data\n",
    "# drop the null value record in birth year and ttwa(travel to work area) columns\n",
    "df = df.dropna(subset = {\"birth_year\",\"ttwa\"})"
   ]
  },
  {
   "cell_type": "markdown",
   "metadata": {},
   "source": [
    "## 2.2 Data Preparation"
   ]
  },
  {
   "cell_type": "markdown",
   "metadata": {},
   "source": [
    "Get the top 10 ttwas which have the most number of firms "
   ]
  },
  {
   "cell_type": "code",
   "execution_count": 4,
   "metadata": {},
   "outputs": [
    {
     "data": {
      "text/html": [
       "<style  type=\"text/css\" >\n",
       "</style><table id=\"T_feb1114c_ee20_11eb_a56a_acde48001122\" ><thead>    <tr>        <th class=\"blank level0\" ></th>        <th class=\"col_heading level0 col0\" >ttwa_code</th>        <th class=\"col_heading level0 col1\" >name</th>        <th class=\"col_heading level0 col2\" >counts</th>    </tr></thead><tbody>\n",
       "                <tr>\n",
       "                        <th id=\"T_feb1114c_ee20_11eb_a56a_acde48001122level0_row0\" class=\"row_heading level0 row0\" >0</th>\n",
       "                        <td id=\"T_feb1114c_ee20_11eb_a56a_acde48001122row0_col0\" class=\"data row0 col0\" >E30000234</td>\n",
       "                        <td id=\"T_feb1114c_ee20_11eb_a56a_acde48001122row0_col1\" class=\"data row0 col1\" >London</td>\n",
       "                        <td id=\"T_feb1114c_ee20_11eb_a56a_acde48001122row0_col2\" class=\"data row0 col2\" >119008</td>\n",
       "            </tr>\n",
       "            <tr>\n",
       "                        <th id=\"T_feb1114c_ee20_11eb_a56a_acde48001122level0_row1\" class=\"row_heading level0 row1\" >1</th>\n",
       "                        <td id=\"T_feb1114c_ee20_11eb_a56a_acde48001122row1_col0\" class=\"data row1 col0\" >E30000239</td>\n",
       "                        <td id=\"T_feb1114c_ee20_11eb_a56a_acde48001122row1_col1\" class=\"data row1 col1\" >Manchester</td>\n",
       "                        <td id=\"T_feb1114c_ee20_11eb_a56a_acde48001122row1_col2\" class=\"data row1 col2\" >18273</td>\n",
       "            </tr>\n",
       "            <tr>\n",
       "                        <th id=\"T_feb1114c_ee20_11eb_a56a_acde48001122level0_row2\" class=\"row_heading level0 row2\" >2</th>\n",
       "                        <td id=\"T_feb1114c_ee20_11eb_a56a_acde48001122row2_col0\" class=\"data row2 col0\" >E30000266</td>\n",
       "                        <td id=\"T_feb1114c_ee20_11eb_a56a_acde48001122row2_col1\" class=\"data row2 col1\" >Slough and Heathrow</td>\n",
       "                        <td id=\"T_feb1114c_ee20_11eb_a56a_acde48001122row2_col2\" class=\"data row2 col2\" >17367</td>\n",
       "            </tr>\n",
       "            <tr>\n",
       "                        <th id=\"T_feb1114c_ee20_11eb_a56a_acde48001122level0_row3\" class=\"row_heading level0 row3\" >3</th>\n",
       "                        <td id=\"T_feb1114c_ee20_11eb_a56a_acde48001122row3_col0\" class=\"data row3 col0\" >E30000169</td>\n",
       "                        <td id=\"T_feb1114c_ee20_11eb_a56a_acde48001122row3_col1\" class=\"data row3 col1\" >Birmingham</td>\n",
       "                        <td id=\"T_feb1114c_ee20_11eb_a56a_acde48001122row3_col2\" class=\"data row3 col2\" >9593</td>\n",
       "            </tr>\n",
       "            <tr>\n",
       "                        <th id=\"T_feb1114c_ee20_11eb_a56a_acde48001122level0_row4\" class=\"row_heading level0 row4\" >4</th>\n",
       "                        <td id=\"T_feb1114c_ee20_11eb_a56a_acde48001122row4_col0\" class=\"data row4 col0\" >E30000237</td>\n",
       "                        <td id=\"T_feb1114c_ee20_11eb_a56a_acde48001122row4_col1\" class=\"data row4 col1\" >Luton</td>\n",
       "                        <td id=\"T_feb1114c_ee20_11eb_a56a_acde48001122row4_col2\" class=\"data row4 col2\" >8873</td>\n",
       "            </tr>\n",
       "            <tr>\n",
       "                        <th id=\"T_feb1114c_ee20_11eb_a56a_acde48001122level0_row5\" class=\"row_heading level0 row5\" >5</th>\n",
       "                        <td id=\"T_feb1114c_ee20_11eb_a56a_acde48001122row5_col0\" class=\"data row5 col0\" >E30000175</td>\n",
       "                        <td id=\"T_feb1114c_ee20_11eb_a56a_acde48001122row5_col1\" class=\"data row5 col1\" >Bournemouth</td>\n",
       "                        <td id=\"T_feb1114c_ee20_11eb_a56a_acde48001122row5_col2\" class=\"data row5 col2\" >7546</td>\n",
       "            </tr>\n",
       "            <tr>\n",
       "                        <th id=\"T_feb1114c_ee20_11eb_a56a_acde48001122level0_row6\" class=\"row_heading level0 row6\" >6</th>\n",
       "                        <td id=\"T_feb1114c_ee20_11eb_a56a_acde48001122row6_col0\" class=\"data row6 col0\" >E30000179</td>\n",
       "                        <td id=\"T_feb1114c_ee20_11eb_a56a_acde48001122row6_col1\" class=\"data row6 col1\" >Brighton</td>\n",
       "                        <td id=\"T_feb1114c_ee20_11eb_a56a_acde48001122row6_col2\" class=\"data row6 col2\" >7483</td>\n",
       "            </tr>\n",
       "            <tr>\n",
       "                        <th id=\"T_feb1114c_ee20_11eb_a56a_acde48001122level0_row7\" class=\"row_heading level0 row7\" >7</th>\n",
       "                        <td id=\"T_feb1114c_ee20_11eb_a56a_acde48001122row7_col0\" class=\"data row7 col0\" >E30000186</td>\n",
       "                        <td id=\"T_feb1114c_ee20_11eb_a56a_acde48001122row7_col1\" class=\"data row7 col1\" >Cambridge</td>\n",
       "                        <td id=\"T_feb1114c_ee20_11eb_a56a_acde48001122row7_col2\" class=\"data row7 col2\" >6252</td>\n",
       "            </tr>\n",
       "            <tr>\n",
       "                        <th id=\"T_feb1114c_ee20_11eb_a56a_acde48001122level0_row8\" class=\"row_heading level0 row8\" >8</th>\n",
       "                        <td id=\"T_feb1114c_ee20_11eb_a56a_acde48001122row8_col0\" class=\"data row8 col0\" >E30000180</td>\n",
       "                        <td id=\"T_feb1114c_ee20_11eb_a56a_acde48001122row8_col1\" class=\"data row8 col1\" >Bristol</td>\n",
       "                        <td id=\"T_feb1114c_ee20_11eb_a56a_acde48001122row8_col2\" class=\"data row8 col2\" >6176</td>\n",
       "            </tr>\n",
       "            <tr>\n",
       "                        <th id=\"T_feb1114c_ee20_11eb_a56a_acde48001122level0_row9\" class=\"row_heading level0 row9\" >9</th>\n",
       "                        <td id=\"T_feb1114c_ee20_11eb_a56a_acde48001122row9_col0\" class=\"data row9 col0\" >E30000212</td>\n",
       "                        <td id=\"T_feb1114c_ee20_11eb_a56a_acde48001122row9_col1\" class=\"data row9 col1\" >Guildford and Aldershot</td>\n",
       "                        <td id=\"T_feb1114c_ee20_11eb_a56a_acde48001122row9_col2\" class=\"data row9 col2\" >5986</td>\n",
       "            </tr>\n",
       "    </tbody></table>"
      ],
      "text/plain": [
       "<pandas.io.formats.style.Styler at 0x7ffb215de0b8>"
      ]
     },
     "execution_count": 4,
     "metadata": {},
     "output_type": "execute_result"
    }
   ],
   "source": [
    "# Generate the top 10 tech clusters table based on the ttwa\n",
    "top_10_ttwa = df.ttwa.value_counts().head(10)\n",
    "top_10_ttwa = pd.DataFrame(top_10_ttwa).reset_index()\n",
    "top_10_ttwa.columns = [\"ttwa_code\",\"counts\"]\n",
    "\n",
    "df_ttwa = pd.read_csv(PATH + \"/Dataset/ttwa.csv\")\n",
    "df_ttwa = pd.merge(top_10_ttwa, df_ttwa[[\"code\",\"name\"]], left_on=\"ttwa_code\",right_on=\"code\")\n",
    "df_ttwa_10 = df_ttwa[[\"ttwa_code\", \"name\",\"counts\"]]\n",
    "df_ttwa_10.style"
   ]
  },
  {
   "cell_type": "markdown",
   "metadata": {},
   "source": [
    "**Filter** data by `ttwa`"
   ]
  },
  {
   "cell_type": "code",
   "execution_count": 5,
   "metadata": {},
   "outputs": [
    {
     "name": "stdout",
     "output_type": "stream",
     "text": [
      "(423634, 64)\n",
      "(206557, 64)\n"
     ]
    }
   ],
   "source": [
    "# df_10_tc means \"top 10 tech ttwa clusters\"\n",
    "df_10_tc = df.copy()\n",
    "print(df_10_tc.shape)\n",
    "\n",
    "# filter data to top 10 ttwa data raws\n",
    "df_10_tc = df_10_tc[df_10_tc.ttwa.isin(df_ttwa_10.ttwa_code.to_list())]\n",
    "print(df_10_tc.shape)"
   ]
  },
  {
   "cell_type": "markdown",
   "metadata": {},
   "source": [
    "**Filter** data by `birth_year`"
   ]
  },
  {
   "cell_type": "code",
   "execution_count": 9,
   "metadata": {},
   "outputs": [
    {
     "name": "stdout",
     "output_type": "stream",
     "text": [
      "(206557, 64)\n",
      "(196071, 64)\n"
     ]
    },
    {
     "data": {
      "text/html": [
       "<div>\n",
       "<style scoped>\n",
       "    .dataframe tbody tr th:only-of-type {\n",
       "        vertical-align: middle;\n",
       "    }\n",
       "\n",
       "    .dataframe tbody tr th {\n",
       "        vertical-align: top;\n",
       "    }\n",
       "\n",
       "    .dataframe thead th {\n",
       "        text-align: right;\n",
       "    }\n",
       "</style>\n",
       "<table border=\"1\" class=\"dataframe\">\n",
       "  <thead>\n",
       "    <tr style=\"text-align: right;\">\n",
       "      <th></th>\n",
       "      <th>registered_number</th>\n",
       "      <th>incorporation_date</th>\n",
       "      <th>dissolution_date</th>\n",
       "      <th>latest_accounts_cash</th>\n",
       "      <th>latest_accounts_assets</th>\n",
       "      <th>latest_accounts_liabilities</th>\n",
       "      <th>year_obs</th>\n",
       "      <th>sic_year</th>\n",
       "      <th>sic4</th>\n",
       "      <th>change_sic</th>\n",
       "      <th>...</th>\n",
       "      <th>pcd2</th>\n",
       "      <th>pcds</th>\n",
       "      <th>cty</th>\n",
       "      <th>laua</th>\n",
       "      <th>ctry</th>\n",
       "      <th>rgn</th>\n",
       "      <th>ttwa</th>\n",
       "      <th>pct</th>\n",
       "      <th>lep1</th>\n",
       "      <th>lep2</th>\n",
       "    </tr>\n",
       "  </thead>\n",
       "  <tbody>\n",
       "    <tr>\n",
       "      <th>0</th>\n",
       "      <td>07341142</td>\n",
       "      <td>2010-08-10</td>\n",
       "      <td>NaN</td>\n",
       "      <td>NaN</td>\n",
       "      <td>56331.0</td>\n",
       "      <td>NaN</td>\n",
       "      <td>2017</td>\n",
       "      <td>2007.0</td>\n",
       "      <td>6202.0</td>\n",
       "      <td>0.0</td>\n",
       "      <td>...</td>\n",
       "      <td>AL1  1AJ</td>\n",
       "      <td>AL1 1AJ</td>\n",
       "      <td>E10000015</td>\n",
       "      <td>E07000240</td>\n",
       "      <td>E92000001</td>\n",
       "      <td>E12000006</td>\n",
       "      <td>E30000237</td>\n",
       "      <td>E16000150</td>\n",
       "      <td>E37000017</td>\n",
       "      <td>NaN</td>\n",
       "    </tr>\n",
       "    <tr>\n",
       "      <th>1</th>\n",
       "      <td>10490667</td>\n",
       "      <td>2016-11-22</td>\n",
       "      <td>NaN</td>\n",
       "      <td>NaN</td>\n",
       "      <td>11254.0</td>\n",
       "      <td>NaN</td>\n",
       "      <td>2018</td>\n",
       "      <td>2007.0</td>\n",
       "      <td>7211.0</td>\n",
       "      <td>0.0</td>\n",
       "      <td>...</td>\n",
       "      <td>AL1  1AU</td>\n",
       "      <td>AL1 1AU</td>\n",
       "      <td>E10000015</td>\n",
       "      <td>E07000240</td>\n",
       "      <td>E92000001</td>\n",
       "      <td>E12000006</td>\n",
       "      <td>E30000237</td>\n",
       "      <td>E16000150</td>\n",
       "      <td>E37000017</td>\n",
       "      <td>NaN</td>\n",
       "    </tr>\n",
       "    <tr>\n",
       "      <th>2</th>\n",
       "      <td>11283731</td>\n",
       "      <td>2018-03-29</td>\n",
       "      <td>NaN</td>\n",
       "      <td>NaN</td>\n",
       "      <td>NaN</td>\n",
       "      <td>NaN</td>\n",
       "      <td>2018</td>\n",
       "      <td>2007.0</td>\n",
       "      <td>6201.0</td>\n",
       "      <td>0.0</td>\n",
       "      <td>...</td>\n",
       "      <td>AL1  1DG</td>\n",
       "      <td>AL1 1DG</td>\n",
       "      <td>E10000015</td>\n",
       "      <td>E07000240</td>\n",
       "      <td>E92000001</td>\n",
       "      <td>E12000006</td>\n",
       "      <td>E30000237</td>\n",
       "      <td>E16000150</td>\n",
       "      <td>E37000017</td>\n",
       "      <td>NaN</td>\n",
       "    </tr>\n",
       "    <tr>\n",
       "      <th>3</th>\n",
       "      <td>09852054</td>\n",
       "      <td>2015-11-02</td>\n",
       "      <td>NaN</td>\n",
       "      <td>NaN</td>\n",
       "      <td>20002.0</td>\n",
       "      <td>NaN</td>\n",
       "      <td>2017</td>\n",
       "      <td>2007.0</td>\n",
       "      <td>6201.0</td>\n",
       "      <td>0.0</td>\n",
       "      <td>...</td>\n",
       "      <td>AL1  1DG</td>\n",
       "      <td>AL1 1DG</td>\n",
       "      <td>E10000015</td>\n",
       "      <td>E07000240</td>\n",
       "      <td>E92000001</td>\n",
       "      <td>E12000006</td>\n",
       "      <td>E30000237</td>\n",
       "      <td>E16000150</td>\n",
       "      <td>E37000017</td>\n",
       "      <td>NaN</td>\n",
       "    </tr>\n",
       "    <tr>\n",
       "      <th>4</th>\n",
       "      <td>08577485</td>\n",
       "      <td>2013-06-20</td>\n",
       "      <td>NaN</td>\n",
       "      <td>NaN</td>\n",
       "      <td>8390.0</td>\n",
       "      <td>11888.0</td>\n",
       "      <td>2017</td>\n",
       "      <td>2007.0</td>\n",
       "      <td>8621.0</td>\n",
       "      <td>0.0</td>\n",
       "      <td>...</td>\n",
       "      <td>AL1  1DS</td>\n",
       "      <td>AL1 1DS</td>\n",
       "      <td>E10000015</td>\n",
       "      <td>E07000240</td>\n",
       "      <td>E92000001</td>\n",
       "      <td>E12000006</td>\n",
       "      <td>E30000237</td>\n",
       "      <td>E16000150</td>\n",
       "      <td>E37000017</td>\n",
       "      <td>NaN</td>\n",
       "    </tr>\n",
       "  </tbody>\n",
       "</table>\n",
       "<p>5 rows × 64 columns</p>\n",
       "</div>"
      ],
      "text/plain": [
       "  registered_number incorporation_date dissolution_date  latest_accounts_cash  \\\n",
       "0          07341142         2010-08-10              NaN                   NaN   \n",
       "1          10490667         2016-11-22              NaN                   NaN   \n",
       "2          11283731         2018-03-29              NaN                   NaN   \n",
       "3          09852054         2015-11-02              NaN                   NaN   \n",
       "4          08577485         2013-06-20              NaN                   NaN   \n",
       "\n",
       "   latest_accounts_assets  latest_accounts_liabilities  year_obs  sic_year  \\\n",
       "0                 56331.0                          NaN      2017    2007.0   \n",
       "1                 11254.0                          NaN      2018    2007.0   \n",
       "2                     NaN                          NaN      2018    2007.0   \n",
       "3                 20002.0                          NaN      2017    2007.0   \n",
       "4                  8390.0                      11888.0      2017    2007.0   \n",
       "\n",
       "     sic4  change_sic  ...      pcd2     pcds        cty       laua  \\\n",
       "0  6202.0         0.0  ...  AL1  1AJ  AL1 1AJ  E10000015  E07000240   \n",
       "1  7211.0         0.0  ...  AL1  1AU  AL1 1AU  E10000015  E07000240   \n",
       "2  6201.0         0.0  ...  AL1  1DG  AL1 1DG  E10000015  E07000240   \n",
       "3  6201.0         0.0  ...  AL1  1DG  AL1 1DG  E10000015  E07000240   \n",
       "4  8621.0         0.0  ...  AL1  1DS  AL1 1DS  E10000015  E07000240   \n",
       "\n",
       "        ctry        rgn       ttwa        pct       lep1 lep2  \n",
       "0  E92000001  E12000006  E30000237  E16000150  E37000017  NaN  \n",
       "1  E92000001  E12000006  E30000237  E16000150  E37000017  NaN  \n",
       "2  E92000001  E12000006  E30000237  E16000150  E37000017  NaN  \n",
       "3  E92000001  E12000006  E30000237  E16000150  E37000017  NaN  \n",
       "4  E92000001  E12000006  E30000237  E16000150  E37000017  NaN  \n",
       "\n",
       "[5 rows x 64 columns]"
      ]
     },
     "execution_count": 9,
     "metadata": {},
     "output_type": "execute_result"
    }
   ],
   "source": [
    "print(df_10_tc.shape)\n",
    "# df_10_tc_20 means \"top 10 tech ttwa clusters in 20 years dataframe\"\n",
    "df_10_tc_20 = df_10_tc[df_10_tc[\"birth_year\"]>=1998]\n",
    "# data beautify\n",
    "df_10_tc_20 = df_10_tc_20.reset_index().drop(\"index\",axis=1)\n",
    "print(df_10_tc_20.shape)\n",
    "df_10_tc_20.head()"
   ]
  },
  {
   "cell_type": "markdown",
   "metadata": {},
   "source": [
    "**Select** the necessary columns:\n",
    "\n",
    "- location: `ttwa` \n",
    "- year: `birth_year` & `diss_year`\n",
    "- firms' performance : `latest_accounts_assets`"
   ]
  },
  {
   "cell_type": "code",
   "execution_count": 257,
   "metadata": {},
   "outputs": [
    {
     "data": {
      "text/html": [
       "<div>\n",
       "<style scoped>\n",
       "    .dataframe tbody tr th:only-of-type {\n",
       "        vertical-align: middle;\n",
       "    }\n",
       "\n",
       "    .dataframe tbody tr th {\n",
       "        vertical-align: top;\n",
       "    }\n",
       "\n",
       "    .dataframe thead th {\n",
       "        text-align: right;\n",
       "    }\n",
       "</style>\n",
       "<table border=\"1\" class=\"dataframe\">\n",
       "  <thead>\n",
       "    <tr style=\"text-align: right;\">\n",
       "      <th></th>\n",
       "      <th>registered_number</th>\n",
       "      <th>ttwa</th>\n",
       "      <th>birth_year</th>\n",
       "      <th>diss_year</th>\n",
       "      <th>latest_accounts_assets</th>\n",
       "    </tr>\n",
       "  </thead>\n",
       "  <tbody>\n",
       "    <tr>\n",
       "      <th>0</th>\n",
       "      <td>07341142</td>\n",
       "      <td>E30000237</td>\n",
       "      <td>2,010.0000</td>\n",
       "      <td>nan</td>\n",
       "      <td>56,331.0000</td>\n",
       "    </tr>\n",
       "    <tr>\n",
       "      <th>1</th>\n",
       "      <td>10490667</td>\n",
       "      <td>E30000237</td>\n",
       "      <td>2,016.0000</td>\n",
       "      <td>nan</td>\n",
       "      <td>11,254.0000</td>\n",
       "    </tr>\n",
       "    <tr>\n",
       "      <th>2</th>\n",
       "      <td>11283731</td>\n",
       "      <td>E30000237</td>\n",
       "      <td>2,018.0000</td>\n",
       "      <td>nan</td>\n",
       "      <td>nan</td>\n",
       "    </tr>\n",
       "    <tr>\n",
       "      <th>3</th>\n",
       "      <td>09852054</td>\n",
       "      <td>E30000237</td>\n",
       "      <td>2,015.0000</td>\n",
       "      <td>nan</td>\n",
       "      <td>20,002.0000</td>\n",
       "    </tr>\n",
       "    <tr>\n",
       "      <th>4</th>\n",
       "      <td>08577485</td>\n",
       "      <td>E30000237</td>\n",
       "      <td>2,013.0000</td>\n",
       "      <td>nan</td>\n",
       "      <td>8,390.0000</td>\n",
       "    </tr>\n",
       "  </tbody>\n",
       "</table>\n",
       "</div>"
      ],
      "text/plain": [
       "  registered_number       ttwa                               birth_year  \\\n",
       "0          07341142  E30000237                               2,010.0000   \n",
       "1          10490667  E30000237                               2,016.0000   \n",
       "2          11283731  E30000237                               2,018.0000   \n",
       "3          09852054  E30000237                               2,015.0000   \n",
       "4          08577485  E30000237                               2,013.0000   \n",
       "\n",
       "                                 diss_year  \\\n",
       "0                                      nan   \n",
       "1                                      nan   \n",
       "2                                      nan   \n",
       "3                                      nan   \n",
       "4                                      nan   \n",
       "\n",
       "                    latest_accounts_assets  \n",
       "0                              56,331.0000  \n",
       "1                              11,254.0000  \n",
       "2                                      nan  \n",
       "3                              20,002.0000  \n",
       "4                               8,390.0000  "
      ]
     },
     "execution_count": 257,
     "metadata": {},
     "output_type": "execute_result"
    }
   ],
   "source": [
    "df2 = df_10_tc_20.copy()\n",
    "\n",
    "# select data in below columns\n",
    "df2 = df2[[\"registered_number\",\\\n",
    "        \"ttwa\",\\\n",
    "        \"birth_year\",\\\n",
    "        \"diss_year\",\\\n",
    "        \"latest_accounts_assets\"]]\n",
    "\n",
    "df2.head()"
   ]
  },
  {
   "cell_type": "markdown",
   "metadata": {},
   "source": [
    "Export above `df2` into Excel to conduct a pivot operation"
   ]
  },
  {
   "cell_type": "code",
   "execution_count": 258,
   "metadata": {},
   "outputs": [],
   "source": [
    "# export to excel to process\n",
    "df2.to_excel(PATH + \"/Top_10_Tech_TTWA_Cluster_Reg_Prepare.xlsx\", index = False)"
   ]
  },
  {
   "cell_type": "markdown",
   "metadata": {},
   "source": [
    "After doing pivot in Excel, **read** this .xlsx file to get the processed dataset `df3` "
   ]
  },
  {
   "cell_type": "code",
   "execution_count": 10,
   "metadata": {},
   "outputs": [
    {
     "data": {
      "text/html": [
       "<div>\n",
       "<style scoped>\n",
       "    .dataframe tbody tr th:only-of-type {\n",
       "        vertical-align: middle;\n",
       "    }\n",
       "\n",
       "    .dataframe tbody tr th {\n",
       "        vertical-align: top;\n",
       "    }\n",
       "\n",
       "    .dataframe thead th {\n",
       "        text-align: right;\n",
       "    }\n",
       "</style>\n",
       "<table border=\"1\" class=\"dataframe\">\n",
       "  <thead>\n",
       "    <tr style=\"text-align: right;\">\n",
       "      <th></th>\n",
       "      <th>ttwa</th>\n",
       "      <th>birth_year</th>\n",
       "      <th>Count_of_tech_firms</th>\n",
       "      <th>Average_of_latest_accounts_assets</th>\n",
       "      <th>Total_tech_firms</th>\n",
       "      <th>Entry_Rate</th>\n",
       "    </tr>\n",
       "  </thead>\n",
       "  <tbody>\n",
       "    <tr>\n",
       "      <th>0</th>\n",
       "      <td>E30000169</td>\n",
       "      <td>1998</td>\n",
       "      <td>57</td>\n",
       "      <td>154110.763158</td>\n",
       "      <td>9047</td>\n",
       "      <td>0.006300</td>\n",
       "    </tr>\n",
       "    <tr>\n",
       "      <th>1</th>\n",
       "      <td>E30000169</td>\n",
       "      <td>1999</td>\n",
       "      <td>78</td>\n",
       "      <td>392610.473684</td>\n",
       "      <td>9047</td>\n",
       "      <td>0.008622</td>\n",
       "    </tr>\n",
       "    <tr>\n",
       "      <th>2</th>\n",
       "      <td>E30000169</td>\n",
       "      <td>2000</td>\n",
       "      <td>82</td>\n",
       "      <td>234658.389831</td>\n",
       "      <td>9047</td>\n",
       "      <td>0.009064</td>\n",
       "    </tr>\n",
       "    <tr>\n",
       "      <th>3</th>\n",
       "      <td>E30000169</td>\n",
       "      <td>2001</td>\n",
       "      <td>67</td>\n",
       "      <td>198533.519231</td>\n",
       "      <td>9047</td>\n",
       "      <td>0.007406</td>\n",
       "    </tr>\n",
       "    <tr>\n",
       "      <th>4</th>\n",
       "      <td>E30000169</td>\n",
       "      <td>2002</td>\n",
       "      <td>125</td>\n",
       "      <td>169835.277778</td>\n",
       "      <td>9047</td>\n",
       "      <td>0.013817</td>\n",
       "    </tr>\n",
       "  </tbody>\n",
       "</table>\n",
       "</div>"
      ],
      "text/plain": [
       "        ttwa  birth_year  Count_of_tech_firms  \\\n",
       "0  E30000169        1998                   57   \n",
       "1  E30000169        1999                   78   \n",
       "2  E30000169        2000                   82   \n",
       "3  E30000169        2001                   67   \n",
       "4  E30000169        2002                  125   \n",
       "\n",
       "   Average_of_latest_accounts_assets  Total_tech_firms  Entry_Rate  \n",
       "0                      154110.763158              9047    0.006300  \n",
       "1                      392610.473684              9047    0.008622  \n",
       "2                      234658.389831              9047    0.009064  \n",
       "3                      198533.519231              9047    0.007406  \n",
       "4                      169835.277778              9047    0.013817  "
      ]
     },
     "execution_count": 10,
     "metadata": {},
     "output_type": "execute_result"
    }
   ],
   "source": [
    "df3 = pd.read_excel(PATH + \"/Excel/Top_10_Tech_TTWA_Cluster_Reg_Prepare.xlsx\",sheet_name = \"dynamics\")\n",
    "df3.head()"
   ]
  },
  {
   "cell_type": "markdown",
   "metadata": {},
   "source": [
    "Distribution analysis for the dependent variable `Entry_Rate`"
   ]
  },
  {
   "cell_type": "code",
   "execution_count": 15,
   "metadata": {},
   "outputs": [
    {
     "data": {
      "text/plain": [
       "<seaborn.axisgrid.FacetGrid at 0x7ffac9c90fd0>"
      ]
     },
     "execution_count": 15,
     "metadata": {},
     "output_type": "execute_result"
    },
    {
     "data": {
      "image/png": "[encoded data removed]",
      "text/plain": [
       "<Figure size 360x360 with 1 Axes>"
      ]
     },
     "metadata": {
      "needs_background": "light"
     },
     "output_type": "display_data"
    }
   ],
   "source": [
    "import seaborn as sns\n",
    "import numpy as np\n",
    "\n",
    "df_dist = df3.copy()\n",
    "df_dist.Entry_Rate = np.log(df_dist[\"Entry_Rate\"])\n",
    "sns.displot(df_dist, x=\"Entry_Rate\",bins=80)"
   ]
  },
  {
   "cell_type": "code",
   "execution_count": 67,
   "metadata": {},
   "outputs": [
    {
     "data": {
      "text/plain": [
       "<seaborn.axisgrid.FacetGrid at 0x7ffb01926898>"
      ]
     },
     "execution_count": 67,
     "metadata": {},
     "output_type": "execute_result"
    },
    {
     "data": {
      "image/png": "[encoded data removed]",
      "text/plain": [
       "<Figure size 360x360 with 1 Axes>"
      ]
     },
     "metadata": {
      "needs_background": "light"
     },
     "output_type": "display_data"
    }
   ],
   "source": [
    "df_dist = df3.copy()\n",
    "df_dist.Average_of_latest_accounts_assets = np.log1p(df_dist[\"Average_of_latest_accounts_assets\"])\n",
    "sns.displot(df_dist, x=\"Average_of_latest_accounts_assets\",bins=80)"
   ]
  },
  {
   "cell_type": "markdown",
   "metadata": {},
   "source": [
    "## 2.3 Hypothesis"
   ]
  },
  {
   "cell_type": "markdown",
   "metadata": {},
   "source": [
    "**Hypothesis 1:**\n",
    "\n",
    "$\\   Dynamics\\ Variable_{i,t}\\ =\\ a_1 + b_1 \\times firms_{i,t} + b_2 \\times location_i + b_3 \\times year_t$ (1)\n",
    "\n",
    "$\\ Firm\\ Performance_{i,t}\\ =\\ c_1 + d_1 \\times firms_{i,t} + d_2 \\times dynamics_{i,t} + d_3 \\times location_i + d_4 \\times year_t$ (2)\n",
    "\n",
    "**Hypothesis 2:**\n",
    "\n",
    "$\\   log_e{\\ Dynamics\\ Variable_{i,t}}\\ =\\ a_1 + b_1 \\times firms_{i,t} + b_2 \\times location_i + b_3 \\times year_t$ (1)\n",
    "\n",
    "$\\ log_e\\ Firm\\ Performance_{i,t}\\ =\\ c_1 + d_1 \\times firms_{i,t} + d_2 \\times dynamics_{i,t} + d_3 \\times location_i + d_4 \\times year_t$ (2)\n",
    "\n",
    "\n",
    "* $Dynamics\\ Variable_{i,t}$ in (1) means `Entry_Rate` in $t$ and $i$ \n",
    "* $dynamics_{i,t}$ in (2) means `Entry_Rate` in a specific $t$ and $i$ \n",
    "* $firms_{i,t}$ means `Count_of_tech_firms` in a specific $t$ and $i$\n",
    "* $t$ means year -- `birth_year`\n",
    "* $i$ means location -- `ttwa` (travel to work area)"
   ]
  },
  {
   "cell_type": "markdown",
   "metadata": {},
   "source": [
    "## 2.4 Regression"
   ]
  },
  {
   "cell_type": "code",
   "execution_count": 68,
   "metadata": {},
   "outputs": [],
   "source": [
    "# environment preparation\n",
    "import numpy as np\n",
    "import matplotlib.pyplot as plt\n",
    "import pandas as pd\n",
    "from sklearn.linear_model import LinearRegression\n",
    "import statsmodels.api as sm\n",
    "import warnings\n",
    "warnings.filterwarnings('ignore')\n",
    "\n",
    "pd.set_option('display.max_rows', 300) # specifies number of rows to show\n",
    "pd.options.display.float_format = '{:40,.4f}'.format # specifies default number format to 4 decimal places\n",
    "plt.style.use('ggplot') # specifies that graphs should use ggplot styling\n",
    "%matplotlib inline"
   ]
  },
  {
   "cell_type": "markdown",
   "metadata": {},
   "source": [
    "### 2.4.1 Hypothesis 1\n"
   ]
  },
  {
   "cell_type": "code",
   "execution_count": 38,
   "metadata": {},
   "outputs": [
    {
     "data": {
      "text/plain": [
       "Text(0.5, 1.0, 'Correlation Matrix')"
      ]
     },
     "execution_count": 38,
     "metadata": {},
     "output_type": "execute_result"
    },
    {
     "data": {
      "image/png": "[encoded data removed]",
      "text/plain": [
       "<Figure size 1368x1080 with 2 Axes>"
      ]
     },
     "metadata": {
      "needs_background": "light"
     },
     "output_type": "display_data"
    }
   ],
   "source": [
    "df3_2 = df3.copy()\n",
    "\n",
    "# intro dummy variables\n",
    "df3_2.birth_year = df3_2.birth_year.astype(\"int\")\n",
    "df3_2_numeric = pd.get_dummies(df3_2)\n",
    "\n",
    "# add dummies operation requirement \n",
    "# Set the reference object is ttwa_E30000169（Birmingham）\n",
    "# drop Birmingham for dummies variables comparasion\n",
    "df3_2_numeric = df3_2_numeric.drop(['ttwa_E30000169'], axis=1)\n",
    "\n",
    "# preprocess drop n/a value\n",
    "df3_2_final = df3_2_numeric.dropna(subset = [\"Average_of_latest_accounts_assets\"])\n",
    "\n",
    "# correlation analysis\n",
    "df = df3_2_final\n",
    "plt.rcParams[\"axes.grid\"] = False\n",
    "f = plt.figure(figsize=(19, 15))\n",
    "plt.matshow(df.corr(), fignum=f.number)\n",
    "plt.xticks(range(df.shape[1]), df.columns, fontsize=14, rotation=45)\n",
    "plt.yticks(range(df.shape[1]), df.columns, fontsize=14)\n",
    "cb = plt.colorbar()\n",
    "cb.ax.tick_params(labelsize=14)\n",
    "plt.title('Correlation Matrix', fontsize=16)"
   ]
  },
  {
   "cell_type": "markdown",
   "metadata": {},
   "source": [
    "High correlation variables groups:\n",
    "\n",
    "1. `Total_tech_firms` & `birth_year`\n",
    "1. `Count_of_tech_firms` & `birth_year`\n",
    "1. `Count_of_tech_firms` & `E30000234` (London)\n",
    "\n",
    "Then I introduce VIF method to help remove columns which might cause strong multicollinearity problem"
   ]
  },
  {
   "cell_type": "code",
   "execution_count": 69,
   "metadata": {},
   "outputs": [],
   "source": [
    "# VIF method\n",
    "from statsmodels.stats.outliers_influence import variance_inflation_factor \n",
    "from statsmodels.tools.tools import add_constant\n",
    "\n",
    "def drop_column_using_vif_(df, list_var_not_to_remove, thresh=5):\n",
    "    '''\n",
    "    Calculates VIF each feature in a pandas dataframe, and repeatedly drop the columns with the highest VIF\n",
    "    A constant must be added to variance_inflation_factor or the results will be incorrect\n",
    "\n",
    "    :param df: the pandas dataframe containing only the predictor features, not the response variable\n",
    "    :param list_var_not_to_remove: the list of variables that should not be removed even though it has a high VIF. For example, dummy (or indicator) variables represent a categorical variable with three or more categories.\n",
    "    :param thresh: the max VIF value before the feature is removed from the dataframe\n",
    "    :return: dataframe with multicollinear features removed\n",
    "    '''\n",
    "    while True:\n",
    "        # adding a constatnt item to the data\n",
    "        df_with_const = add_constant(df)\n",
    "\n",
    "        vif_df = pd.Series([variance_inflation_factor(df_with_const.values, i) \n",
    "               for i in range(df_with_const.shape[1])], name= \"VIF\",\n",
    "              index=df_with_const.columns).to_frame()\n",
    "\n",
    "        # drop the const\n",
    "        vif_df = vif_df.drop('const').drop(list_var_not_to_remove)\n",
    "        \n",
    "        print('Max VIF:', vif_df.VIF.max())\n",
    "        \n",
    "        # if the largest VIF is above the thresh, remove a variable with the largest VIF\n",
    "        if vif_df.VIF.max() > thresh:\n",
    "            # If there are multiple variables with the maximum VIF, choose the first one\n",
    "            index_to_drop = vif_df.index[vif_df.VIF == vif_df.VIF.max()].tolist()[0]\n",
    "            print('Dropping: {}'.format(index_to_drop))\n",
    "            df = df.drop(columns = index_to_drop)\n",
    "        else:\n",
    "            # No VIF is above threshold. Exit the loop\n",
    "            break\n",
    "\n",
    "    return df"
   ]
  },
  {
   "cell_type": "code",
   "execution_count": 84,
   "metadata": {},
   "outputs": [
    {
     "name": "stdout",
     "output_type": "stream",
     "text": [
      "Max VIF: inf\n",
      "Dropping: Total_tech_firms\n",
      "Max VIF: 2.5658319318283667\n",
      "The columns remaining after VIF selection are:\n",
      "Index(['birth_year', 'Count_of_tech_firms',\n",
      "       'Average_of_latest_accounts_assets', 'ttwa_E30000175', 'ttwa_E30000179',\n",
      "       'ttwa_E30000180', 'ttwa_E30000186', 'ttwa_E30000212', 'ttwa_E30000234',\n",
      "       'ttwa_E30000237', 'ttwa_E30000239', 'ttwa_E30000266'],\n",
      "      dtype='object')\n"
     ]
    },
    {
     "data": {
      "text/html": [
       "<table class=\"simpletable\">\n",
       "<caption>OLS Regression Results</caption>\n",
       "<tr>\n",
       "  <th>Dep. Variable:</th>       <td>Entry_Rate</td>    <th>  R-squared:         </th> <td>   0.838</td>\n",
       "</tr>\n",
       "<tr>\n",
       "  <th>Model:</th>                   <td>OLS</td>       <th>  Adj. R-squared:    </th> <td>   0.828</td>\n",
       "</tr>\n",
       "<tr>\n",
       "  <th>Method:</th>             <td>Least Squares</td>  <th>  F-statistic:       </th> <td>   81.90</td>\n",
       "</tr>\n",
       "<tr>\n",
       "  <th>Date:</th>             <td>Tue, 27 Jul 2021</td> <th>  Prob (F-statistic):</th> <td>2.53e-68</td>\n",
       "</tr>\n",
       "<tr>\n",
       "  <th>Time:</th>                 <td>00:33:48</td>     <th>  Log-Likelihood:    </th> <td>  555.40</td>\n",
       "</tr>\n",
       "<tr>\n",
       "  <th>No. Observations:</th>      <td>   203</td>      <th>  AIC:               </th> <td>  -1085.</td>\n",
       "</tr>\n",
       "<tr>\n",
       "  <th>Df Residuals:</th>          <td>   190</td>      <th>  BIC:               </th> <td>  -1042.</td>\n",
       "</tr>\n",
       "<tr>\n",
       "  <th>Df Model:</th>              <td>    12</td>      <th>                     </th>     <td> </td>   \n",
       "</tr>\n",
       "<tr>\n",
       "  <th>Covariance Type:</th>      <td>nonrobust</td>    <th>                     </th>     <td> </td>   \n",
       "</tr>\n",
       "</table>\n",
       "<table class=\"simpletable\">\n",
       "<tr>\n",
       "                  <td></td>                     <th>coef</th>     <th>std err</th>      <th>t</th>      <th>P>|t|</th>  <th>[0.025</th>    <th>0.975]</th>  \n",
       "</tr>\n",
       "<tr>\n",
       "  <th>const</th>                             <td>  -11.5268</td> <td>    0.668</td> <td>  -17.259</td> <td> 0.000</td> <td>  -12.844</td> <td>  -10.209</td>\n",
       "</tr>\n",
       "<tr>\n",
       "  <th>birth_year</th>                        <td>    0.0058</td> <td>    0.000</td> <td>   17.358</td> <td> 0.000</td> <td>    0.005</td> <td>    0.006</td>\n",
       "</tr>\n",
       "<tr>\n",
       "  <th>Count_of_tech_firms</th>               <td> 4.046e-06</td> <td>  7.6e-07</td> <td>    5.323</td> <td> 0.000</td> <td> 2.55e-06</td> <td> 5.55e-06</td>\n",
       "</tr>\n",
       "<tr>\n",
       "  <th>Average_of_latest_accounts_assets</th> <td> 3.257e-08</td> <td> 1.77e-08</td> <td>    1.838</td> <td> 0.068</td> <td>-2.39e-09</td> <td> 6.75e-08</td>\n",
       "</tr>\n",
       "<tr>\n",
       "  <th>ttwa_E30000175</th>                    <td>   -0.0012</td> <td>    0.005</td> <td>   -0.240</td> <td> 0.811</td> <td>   -0.011</td> <td>    0.009</td>\n",
       "</tr>\n",
       "<tr>\n",
       "  <th>ttwa_E30000179</th>                    <td>    0.0041</td> <td>    0.005</td> <td>    0.807</td> <td> 0.421</td> <td>   -0.006</td> <td>    0.014</td>\n",
       "</tr>\n",
       "<tr>\n",
       "  <th>ttwa_E30000180</th>                    <td>    0.0022</td> <td>    0.005</td> <td>    0.422</td> <td> 0.673</td> <td>   -0.008</td> <td>    0.012</td>\n",
       "</tr>\n",
       "<tr>\n",
       "  <th>ttwa_E30000186</th>                    <td>   -0.0014</td> <td>    0.005</td> <td>   -0.277</td> <td> 0.782</td> <td>   -0.012</td> <td>    0.009</td>\n",
       "</tr>\n",
       "<tr>\n",
       "  <th>ttwa_E30000212</th>                    <td>    0.0022</td> <td>    0.005</td> <td>    0.428</td> <td> 0.669</td> <td>   -0.008</td> <td>    0.012</td>\n",
       "</tr>\n",
       "<tr>\n",
       "  <th>ttwa_E30000234</th>                    <td>   -0.0199</td> <td>    0.006</td> <td>   -3.234</td> <td> 0.001</td> <td>   -0.032</td> <td>   -0.008</td>\n",
       "</tr>\n",
       "<tr>\n",
       "  <th>ttwa_E30000237</th>                    <td>   -0.0008</td> <td>    0.005</td> <td>   -0.156</td> <td> 0.877</td> <td>   -0.011</td> <td>    0.009</td>\n",
       "</tr>\n",
       "<tr>\n",
       "  <th>ttwa_E30000239</th>                    <td>    0.0007</td> <td>    0.005</td> <td>    0.142</td> <td> 0.887</td> <td>   -0.009</td> <td>    0.011</td>\n",
       "</tr>\n",
       "<tr>\n",
       "  <th>ttwa_E30000266</th>                    <td>   -0.0008</td> <td>    0.005</td> <td>   -0.148</td> <td> 0.883</td> <td>   -0.011</td> <td>    0.009</td>\n",
       "</tr>\n",
       "</table>\n",
       "<table class=\"simpletable\">\n",
       "<tr>\n",
       "  <th>Omnibus:</th>       <td>44.698</td> <th>  Durbin-Watson:     </th> <td>   0.499</td>\n",
       "</tr>\n",
       "<tr>\n",
       "  <th>Prob(Omnibus):</th> <td> 0.000</td> <th>  Jarque-Bera (JB):  </th> <td>  86.296</td>\n",
       "</tr>\n",
       "<tr>\n",
       "  <th>Skew:</th>          <td> 1.074</td> <th>  Prob(JB):          </th> <td>1.82e-19</td>\n",
       "</tr>\n",
       "<tr>\n",
       "  <th>Kurtosis:</th>      <td> 5.364</td> <th>  Cond. No.          </th> <td>1.04e+08</td>\n",
       "</tr>\n",
       "</table><br/><br/>Notes:<br/>[1] Standard Errors assume that the covariance matrix of the errors is correctly specified.<br/>[2] The condition number is large, 1.04e+08. This might indicate that there are<br/>strong multicollinearity or other numerical problems."
      ],
      "text/plain": [
       "<class 'statsmodels.iolib.summary.Summary'>\n",
       "\"\"\"\n",
       "                            OLS Regression Results                            \n",
       "==============================================================================\n",
       "Dep. Variable:             Entry_Rate   R-squared:                       0.838\n",
       "Model:                            OLS   Adj. R-squared:                  0.828\n",
       "Method:                 Least Squares   F-statistic:                     81.90\n",
       "Date:                Tue, 27 Jul 2021   Prob (F-statistic):           2.53e-68\n",
       "Time:                        00:33:48   Log-Likelihood:                 555.40\n",
       "No. Observations:                 203   AIC:                            -1085.\n",
       "Df Residuals:                     190   BIC:                            -1042.\n",
       "Df Model:                          12                                         \n",
       "Covariance Type:            nonrobust                                         \n",
       "=====================================================================================================\n",
       "                                        coef    std err          t      P>|t|      [0.025      0.975]\n",
       "-----------------------------------------------------------------------------------------------------\n",
       "const                               -11.5268      0.668    -17.259      0.000     -12.844     -10.209\n",
       "birth_year                            0.0058      0.000     17.358      0.000       0.005       0.006\n",
       "Count_of_tech_firms                4.046e-06    7.6e-07      5.323      0.000    2.55e-06    5.55e-06\n",
       "Average_of_latest_accounts_assets  3.257e-08   1.77e-08      1.838      0.068   -2.39e-09    6.75e-08\n",
       "ttwa_E30000175                       -0.0012      0.005     -0.240      0.811      -0.011       0.009\n",
       "ttwa_E30000179                        0.0041      0.005      0.807      0.421      -0.006       0.014\n",
       "ttwa_E30000180                        0.0022      0.005      0.422      0.673      -0.008       0.012\n",
       "ttwa_E30000186                       -0.0014      0.005     -0.277      0.782      -0.012       0.009\n",
       "ttwa_E30000212                        0.0022      0.005      0.428      0.669      -0.008       0.012\n",
       "ttwa_E30000234                       -0.0199      0.006     -3.234      0.001      -0.032      -0.008\n",
       "ttwa_E30000237                       -0.0008      0.005     -0.156      0.877      -0.011       0.009\n",
       "ttwa_E30000239                        0.0007      0.005      0.142      0.887      -0.009       0.011\n",
       "ttwa_E30000266                       -0.0008      0.005     -0.148      0.883      -0.011       0.009\n",
       "==============================================================================\n",
       "Omnibus:                       44.698   Durbin-Watson:                   0.499\n",
       "Prob(Omnibus):                  0.000   Jarque-Bera (JB):               86.296\n",
       "Skew:                           1.074   Prob(JB):                     1.82e-19\n",
       "Kurtosis:                       5.364   Cond. No.                     1.04e+08\n",
       "==============================================================================\n",
       "\n",
       "Notes:\n",
       "[1] Standard Errors assume that the covariance matrix of the errors is correctly specified.\n",
       "[2] The condition number is large, 1.04e+08. This might indicate that there are\n",
       "strong multicollinearity or other numerical problems.\n",
       "\"\"\""
      ]
     },
     "execution_count": 84,
     "metadata": {},
     "output_type": "execute_result"
    }
   ],
   "source": [
    "predictors_df3 = df3_2_final.drop('Entry_Rate', axis=1)\n",
    "response_df3 = df3_2_final['Entry_Rate']\n",
    "\n",
    "# this is a list of dummy variables that represent a categorical variable with three or more categories. They should not be removed even if it has a high VIF. \n",
    "# list_var_not_to_remove = ['ttwa_E30000234', 'Count_of_tech_firms', 'Total_tech_firms']\n",
    "list_var_not_to_remove = [\"birth_year\",\"ttwa_E30000234\"]\n",
    "df_predictors_select_VIF = drop_column_using_vif_(predictors_df3, list_var_not_to_remove, thresh=5)\n",
    "print(\"The columns remaining after VIF selection are:\")\n",
    "print(df_predictors_select_VIF.columns)\n",
    "\n",
    "hypo1_1_regressor_OLS = sm.OLS(endog=response_df3, exog=sm.add_constant(df_predictors_select_VIF)).fit()\n",
    "hypo1_1_regressor_OLS.summary()"
   ]
  },
  {
   "cell_type": "markdown",
   "metadata": {},
   "source": [
    "Then, the residual analysis is conducted to test the regression performance"
   ]
  },
  {
   "cell_type": "code",
   "execution_count": 85,
   "metadata": {},
   "outputs": [
    {
     "data": {
      "image/png": "[encoded data removed]",
      "text/plain": [
       "<Figure size 432x288 with 1 Axes>"
      ]
     },
     "metadata": {
      "needs_background": "light"
     },
     "output_type": "display_data"
    }
   ],
   "source": [
    "plt.scatter(hypo1_1_regressor_OLS.fittedvalues, hypo1_1_regressor_OLS.resid)\n",
    "# adding title and labels\n",
    "plt.xlabel('Fitted cases rate 1')\n",
    "plt.ylabel('Residual')\n",
    "plt.title('Figure')\n",
    "plt.ylim(-0.5,0.5)\n",
    "plt.show()"
   ]
  },
  {
   "cell_type": "markdown",
   "metadata": {},
   "source": [
    "As given above, the performance for regression is quite good"
   ]
  },
  {
   "cell_type": "code",
   "execution_count": 86,
   "metadata": {},
   "outputs": [
    {
     "name": "stdout",
     "output_type": "stream",
     "text": [
      "Max VIF: inf\n",
      "Dropping: Total_tech_firms\n",
      "Max VIF: 2.607020276192744\n",
      "The columns remaining after VIF selection are:\n",
      "Index(['birth_year', 'Count_of_tech_firms', 'Entry_Rate', 'ttwa_E30000175',\n",
      "       'ttwa_E30000179', 'ttwa_E30000180', 'ttwa_E30000186', 'ttwa_E30000212',\n",
      "       'ttwa_E30000234', 'ttwa_E30000237', 'ttwa_E30000239', 'ttwa_E30000266'],\n",
      "      dtype='object')\n"
     ]
    },
    {
     "data": {
      "text/html": [
       "<table class=\"simpletable\">\n",
       "<caption>OLS Regression Results</caption>\n",
       "<tr>\n",
       "  <th>Dep. Variable:</th>    <td>Average_of_latest_accounts_assets</td> <th>  R-squared:         </th> <td>   0.617</td>\n",
       "</tr>\n",
       "<tr>\n",
       "  <th>Model:</th>                           <td>OLS</td>                <th>  Adj. R-squared:    </th> <td>   0.593</td>\n",
       "</tr>\n",
       "<tr>\n",
       "  <th>Method:</th>                     <td>Least Squares</td>           <th>  F-statistic:       </th> <td>   25.51</td>\n",
       "</tr>\n",
       "<tr>\n",
       "  <th>Date:</th>                     <td>Tue, 27 Jul 2021</td>          <th>  Prob (F-statistic):</th> <td>1.73e-33</td>\n",
       "</tr>\n",
       "<tr>\n",
       "  <th>Time:</th>                         <td>00:33:55</td>              <th>  Log-Likelihood:    </th> <td> -2533.4</td>\n",
       "</tr>\n",
       "<tr>\n",
       "  <th>No. Observations:</th>              <td>   203</td>               <th>  AIC:               </th> <td>   5093.</td>\n",
       "</tr>\n",
       "<tr>\n",
       "  <th>Df Residuals:</th>                  <td>   190</td>               <th>  BIC:               </th> <td>   5136.</td>\n",
       "</tr>\n",
       "<tr>\n",
       "  <th>Df Model:</th>                      <td>    12</td>               <th>                     </th>     <td> </td>   \n",
       "</tr>\n",
       "<tr>\n",
       "  <th>Covariance Type:</th>              <td>nonrobust</td>             <th>                     </th>     <td> </td>   \n",
       "</tr>\n",
       "</table>\n",
       "<table class=\"simpletable\">\n",
       "<tr>\n",
       "           <td></td>              <th>coef</th>     <th>std err</th>      <th>t</th>      <th>P>|t|</th>  <th>[0.025</th>    <th>0.975]</th>  \n",
       "</tr>\n",
       "<tr>\n",
       "  <th>const</th>               <td> 3.429e+07</td> <td> 3.56e+06</td> <td>    9.635</td> <td> 0.000</td> <td> 2.73e+07</td> <td> 4.13e+07</td>\n",
       "</tr>\n",
       "<tr>\n",
       "  <th>birth_year</th>          <td>-1.702e+04</td> <td> 1777.930</td> <td>   -9.575</td> <td> 0.000</td> <td>-2.05e+04</td> <td>-1.35e+04</td>\n",
       "</tr>\n",
       "<tr>\n",
       "  <th>Count_of_tech_firms</th> <td>   14.1961</td> <td>    3.141</td> <td>    4.519</td> <td> 0.000</td> <td>    8.000</td> <td>   20.392</td>\n",
       "</tr>\n",
       "<tr>\n",
       "  <th>Entry_Rate</th>          <td> 5.362e+05</td> <td> 2.92e+05</td> <td>    1.838</td> <td> 0.068</td> <td>-3.93e+04</td> <td> 1.11e+06</td>\n",
       "</tr>\n",
       "<tr>\n",
       "  <th>ttwa_E30000175</th>      <td>-3.437e+04</td> <td> 2.08e+04</td> <td>   -1.651</td> <td> 0.100</td> <td>-7.54e+04</td> <td> 6690.439</td>\n",
       "</tr>\n",
       "<tr>\n",
       "  <th>ttwa_E30000179</th>      <td>-3.258e+04</td> <td> 2.06e+04</td> <td>   -1.583</td> <td> 0.115</td> <td>-7.32e+04</td> <td> 8018.824</td>\n",
       "</tr>\n",
       "<tr>\n",
       "  <th>ttwa_E30000180</th>      <td>-2816.1829</td> <td> 2.08e+04</td> <td>   -0.135</td> <td> 0.893</td> <td>-4.39e+04</td> <td> 3.82e+04</td>\n",
       "</tr>\n",
       "<tr>\n",
       "  <th>ttwa_E30000186</th>      <td> 1.849e+04</td> <td> 2.08e+04</td> <td>    0.888</td> <td> 0.375</td> <td>-2.26e+04</td> <td> 5.95e+04</td>\n",
       "</tr>\n",
       "<tr>\n",
       "  <th>ttwa_E30000212</th>      <td> 2.169e+04</td> <td> 2.08e+04</td> <td>    1.041</td> <td> 0.299</td> <td>-1.94e+04</td> <td> 6.28e+04</td>\n",
       "</tr>\n",
       "<tr>\n",
       "  <th>ttwa_E30000234</th>      <td> 4219.1182</td> <td> 2.56e+04</td> <td>    0.165</td> <td> 0.869</td> <td>-4.63e+04</td> <td> 5.47e+04</td>\n",
       "</tr>\n",
       "<tr>\n",
       "  <th>ttwa_E30000237</th>      <td> 1.075e+04</td> <td> 2.08e+04</td> <td>    0.517</td> <td> 0.606</td> <td>-3.03e+04</td> <td> 5.18e+04</td>\n",
       "</tr>\n",
       "<tr>\n",
       "  <th>ttwa_E30000239</th>      <td> 6566.5115</td> <td> 2.06e+04</td> <td>    0.319</td> <td> 0.750</td> <td> -3.4e+04</td> <td> 4.72e+04</td>\n",
       "</tr>\n",
       "<tr>\n",
       "  <th>ttwa_E30000266</th>      <td>-1716.2042</td> <td> 2.08e+04</td> <td>   -0.082</td> <td> 0.934</td> <td>-4.28e+04</td> <td> 3.94e+04</td>\n",
       "</tr>\n",
       "</table>\n",
       "<table class=\"simpletable\">\n",
       "<tr>\n",
       "  <th>Omnibus:</th>       <td>55.982</td> <th>  Durbin-Watson:     </th> <td>   1.846</td>\n",
       "</tr>\n",
       "<tr>\n",
       "  <th>Prob(Omnibus):</th> <td> 0.000</td> <th>  Jarque-Bera (JB):  </th> <td> 175.434</td>\n",
       "</tr>\n",
       "<tr>\n",
       "  <th>Skew:</th>          <td> 1.114</td> <th>  Prob(JB):          </th> <td>8.03e-39</td>\n",
       "</tr>\n",
       "<tr>\n",
       "  <th>Kurtosis:</th>      <td> 6.972</td> <th>  Cond. No.          </th> <td>2.11e+06</td>\n",
       "</tr>\n",
       "</table><br/><br/>Notes:<br/>[1] Standard Errors assume that the covariance matrix of the errors is correctly specified.<br/>[2] The condition number is large, 2.11e+06. This might indicate that there are<br/>strong multicollinearity or other numerical problems."
      ],
      "text/plain": [
       "<class 'statsmodels.iolib.summary.Summary'>\n",
       "\"\"\"\n",
       "                                    OLS Regression Results                                   \n",
       "=============================================================================================\n",
       "Dep. Variable:     Average_of_latest_accounts_assets   R-squared:                       0.617\n",
       "Model:                                           OLS   Adj. R-squared:                  0.593\n",
       "Method:                                Least Squares   F-statistic:                     25.51\n",
       "Date:                               Tue, 27 Jul 2021   Prob (F-statistic):           1.73e-33\n",
       "Time:                                       00:33:55   Log-Likelihood:                -2533.4\n",
       "No. Observations:                                203   AIC:                             5093.\n",
       "Df Residuals:                                    190   BIC:                             5136.\n",
       "Df Model:                                         12                                         \n",
       "Covariance Type:                           nonrobust                                         \n",
       "=======================================================================================\n",
       "                          coef    std err          t      P>|t|      [0.025      0.975]\n",
       "---------------------------------------------------------------------------------------\n",
       "const                3.429e+07   3.56e+06      9.635      0.000    2.73e+07    4.13e+07\n",
       "birth_year          -1.702e+04   1777.930     -9.575      0.000   -2.05e+04   -1.35e+04\n",
       "Count_of_tech_firms    14.1961      3.141      4.519      0.000       8.000      20.392\n",
       "Entry_Rate           5.362e+05   2.92e+05      1.838      0.068   -3.93e+04    1.11e+06\n",
       "ttwa_E30000175      -3.437e+04   2.08e+04     -1.651      0.100   -7.54e+04    6690.439\n",
       "ttwa_E30000179      -3.258e+04   2.06e+04     -1.583      0.115   -7.32e+04    8018.824\n",
       "ttwa_E30000180      -2816.1829   2.08e+04     -0.135      0.893   -4.39e+04    3.82e+04\n",
       "ttwa_E30000186       1.849e+04   2.08e+04      0.888      0.375   -2.26e+04    5.95e+04\n",
       "ttwa_E30000212       2.169e+04   2.08e+04      1.041      0.299   -1.94e+04    6.28e+04\n",
       "ttwa_E30000234       4219.1182   2.56e+04      0.165      0.869   -4.63e+04    5.47e+04\n",
       "ttwa_E30000237       1.075e+04   2.08e+04      0.517      0.606   -3.03e+04    5.18e+04\n",
       "ttwa_E30000239       6566.5115   2.06e+04      0.319      0.750    -3.4e+04    4.72e+04\n",
       "ttwa_E30000266      -1716.2042   2.08e+04     -0.082      0.934   -4.28e+04    3.94e+04\n",
       "==============================================================================\n",
       "Omnibus:                       55.982   Durbin-Watson:                   1.846\n",
       "Prob(Omnibus):                  0.000   Jarque-Bera (JB):              175.434\n",
       "Skew:                           1.114   Prob(JB):                     8.03e-39\n",
       "Kurtosis:                       6.972   Cond. No.                     2.11e+06\n",
       "==============================================================================\n",
       "\n",
       "Notes:\n",
       "[1] Standard Errors assume that the covariance matrix of the errors is correctly specified.\n",
       "[2] The condition number is large, 2.11e+06. This might indicate that there are\n",
       "strong multicollinearity or other numerical problems.\n",
       "\"\"\""
      ]
     },
     "execution_count": 86,
     "metadata": {},
     "output_type": "execute_result"
    }
   ],
   "source": [
    "predictors_df3 = df3_2_final.drop('Average_of_latest_accounts_assets', axis=1)\n",
    "response_df3 = df3_2_final['Average_of_latest_accounts_assets']\n",
    "\n",
    "# this is a list of dummy variables that represent a categorical variable with three or more categories. They should not be removed even if it has a high VIF. \n",
    "# list_var_not_to_remove = ['ttwa_E30000234', 'Count_of_tech_firms', 'Total_tech_firms']\n",
    "list_var_not_to_remove = [\"birth_year\",\"ttwa_E30000234\",\"Entry_Rate\"]\n",
    "df_predictors_select_VIF = drop_column_using_vif_(predictors_df3, list_var_not_to_remove, thresh=5)\n",
    "print(\"The columns remaining after VIF selection are:\")\n",
    "print(df_predictors_select_VIF.columns)\n",
    "\n",
    "hypo1_2_regressor_OLS = sm.OLS(endog=response_df3, exog=sm.add_constant(df_predictors_select_VIF)).fit()\n",
    "hypo1_2_regressor_OLS.summary()"
   ]
  },
  {
   "cell_type": "code",
   "execution_count": 87,
   "metadata": {},
   "outputs": [
    {
     "data": {
      "image/png": "[encoded data removed]",
      "text/plain": [
       "<Figure size 432x288 with 1 Axes>"
      ]
     },
     "metadata": {
      "needs_background": "light"
     },
     "output_type": "display_data"
    }
   ],
   "source": [
    "plt.scatter(hypo1_2_regressor_OLS.fittedvalues, hypo1_2_regressor_OLS.resid)\n",
    "# adding title and labels\n",
    "plt.xlabel('Fitted cases rate 1')\n",
    "plt.ylabel('Residual')\n",
    "plt.title('Figure')\n",
    "# plt.ylim(-0.5,0.5)\n",
    "plt.show()"
   ]
  },
  {
   "cell_type": "markdown",
   "metadata": {},
   "source": [
    "### 2.4.2 Hypothesis 2\n",
    "\n",
    "Refer to: Dynamics_variable_it = a1 + b2#firms_it-n + b3industry mix_it-n + Xb_it-n + location_i + year_t + e_it (1)\n",
    "\n",
    "$\\ log_e{\\ Dynamics\\ Variable_{i,t}}\\ =\\ a_1 + b_1 \\times firms_{i,t} + b_2 \\times location_i + b_3 \\times year_t$ (1)"
   ]
  },
  {
   "cell_type": "code",
   "execution_count": 88,
   "metadata": {},
   "outputs": [
    {
     "name": "stdout",
     "output_type": "stream",
     "text": [
      "Max VIF: inf\n",
      "Dropping: Total_tech_firms\n",
      "Max VIF: 2.13351053449709\n",
      "The columns remaining after VIF selection are:\n",
      "Index(['birth_year', 'Count_of_tech_firms', 'ttwa_E30000175', 'ttwa_E30000179',\n",
      "       'ttwa_E30000180', 'ttwa_E30000186', 'ttwa_E30000212', 'ttwa_E30000234',\n",
      "       'ttwa_E30000237', 'ttwa_E30000239', 'ttwa_E30000266'],\n",
      "      dtype='object')\n"
     ]
    },
    {
     "data": {
      "text/html": [
       "<table class=\"simpletable\">\n",
       "<caption>OLS Regression Results</caption>\n",
       "<tr>\n",
       "  <th>Dep. Variable:</th>       <td>Entry_Rate</td>    <th>  R-squared:         </th> <td>   0.932</td> \n",
       "</tr>\n",
       "<tr>\n",
       "  <th>Model:</th>                   <td>OLS</td>       <th>  Adj. R-squared:    </th> <td>   0.928</td> \n",
       "</tr>\n",
       "<tr>\n",
       "  <th>Method:</th>             <td>Least Squares</td>  <th>  F-statistic:       </th> <td>   238.5</td> \n",
       "</tr>\n",
       "<tr>\n",
       "  <th>Date:</th>             <td>Tue, 27 Jul 2021</td> <th>  Prob (F-statistic):</th> <td>3.43e-105</td>\n",
       "</tr>\n",
       "<tr>\n",
       "  <th>Time:</th>                 <td>00:34:53</td>     <th>  Log-Likelihood:    </th> <td> -9.0648</td> \n",
       "</tr>\n",
       "<tr>\n",
       "  <th>No. Observations:</th>      <td>   203</td>      <th>  AIC:               </th> <td>   42.13</td> \n",
       "</tr>\n",
       "<tr>\n",
       "  <th>Df Residuals:</th>          <td>   191</td>      <th>  BIC:               </th> <td>   81.89</td> \n",
       "</tr>\n",
       "<tr>\n",
       "  <th>Df Model:</th>              <td>    11</td>      <th>                     </th>     <td> </td>    \n",
       "</tr>\n",
       "<tr>\n",
       "  <th>Covariance Type:</th>      <td>nonrobust</td>    <th>                     </th>     <td> </td>    \n",
       "</tr>\n",
       "</table>\n",
       "<table class=\"simpletable\">\n",
       "<tr>\n",
       "           <td></td>              <th>coef</th>     <th>std err</th>      <th>t</th>      <th>P>|t|</th>  <th>[0.025</th>    <th>0.975]</th>  \n",
       "</tr>\n",
       "<tr>\n",
       "  <th>const</th>               <td> -310.4470</td> <td>    6.992</td> <td>  -44.399</td> <td> 0.000</td> <td> -324.239</td> <td> -296.655</td>\n",
       "</tr>\n",
       "<tr>\n",
       "  <th>birth_year</th>          <td>    0.1529</td> <td>    0.003</td> <td>   43.878</td> <td> 0.000</td> <td>    0.146</td> <td>    0.160</td>\n",
       "</tr>\n",
       "<tr>\n",
       "  <th>Count_of_tech_firms</th> <td> 2.804e-05</td> <td> 1.13e-05</td> <td>    2.489</td> <td> 0.014</td> <td> 5.82e-06</td> <td> 5.03e-05</td>\n",
       "</tr>\n",
       "<tr>\n",
       "  <th>ttwa_E30000175</th>      <td>   -0.4938</td> <td>    0.082</td> <td>   -5.986</td> <td> 0.000</td> <td>   -0.657</td> <td>   -0.331</td>\n",
       "</tr>\n",
       "<tr>\n",
       "  <th>ttwa_E30000179</th>      <td>   -0.1491</td> <td>    0.082</td> <td>   -1.829</td> <td> 0.069</td> <td>   -0.310</td> <td>    0.012</td>\n",
       "</tr>\n",
       "<tr>\n",
       "  <th>ttwa_E30000180</th>      <td>    0.1377</td> <td>    0.082</td> <td>    1.669</td> <td> 0.097</td> <td>   -0.025</td> <td>    0.300</td>\n",
       "</tr>\n",
       "<tr>\n",
       "  <th>ttwa_E30000186</th>      <td>    0.1193</td> <td>    0.083</td> <td>    1.446</td> <td> 0.150</td> <td>   -0.043</td> <td>    0.282</td>\n",
       "</tr>\n",
       "<tr>\n",
       "  <th>ttwa_E30000212</th>      <td>    0.2416</td> <td>    0.083</td> <td>    2.928</td> <td> 0.004</td> <td>    0.079</td> <td>    0.404</td>\n",
       "</tr>\n",
       "<tr>\n",
       "  <th>ttwa_E30000234</th>      <td>   -0.2003</td> <td>    0.099</td> <td>   -2.028</td> <td> 0.044</td> <td>   -0.395</td> <td>   -0.005</td>\n",
       "</tr>\n",
       "<tr>\n",
       "  <th>ttwa_E30000237</th>      <td>   -0.0440</td> <td>    0.082</td> <td>   -0.533</td> <td> 0.595</td> <td>   -0.207</td> <td>    0.119</td>\n",
       "</tr>\n",
       "<tr>\n",
       "  <th>ttwa_E30000239</th>      <td>    0.0074</td> <td>    0.082</td> <td>    0.091</td> <td> 0.928</td> <td>   -0.154</td> <td>    0.168</td>\n",
       "</tr>\n",
       "<tr>\n",
       "  <th>ttwa_E30000266</th>      <td>    0.0248</td> <td>    0.083</td> <td>    0.300</td> <td> 0.765</td> <td>   -0.138</td> <td>    0.188</td>\n",
       "</tr>\n",
       "</table>\n",
       "<table class=\"simpletable\">\n",
       "<tr>\n",
       "  <th>Omnibus:</th>       <td> 6.590</td> <th>  Durbin-Watson:     </th> <td>   1.008</td>\n",
       "</tr>\n",
       "<tr>\n",
       "  <th>Prob(Omnibus):</th> <td> 0.037</td> <th>  Jarque-Bera (JB):  </th> <td>   6.880</td>\n",
       "</tr>\n",
       "<tr>\n",
       "  <th>Skew:</th>          <td> 0.316</td> <th>  Prob(JB):          </th> <td>  0.0321</td>\n",
       "</tr>\n",
       "<tr>\n",
       "  <th>Kurtosis:</th>      <td> 3.643</td> <th>  Cond. No.          </th> <td>1.04e+06</td>\n",
       "</tr>\n",
       "</table><br/><br/>Notes:<br/>[1] Standard Errors assume that the covariance matrix of the errors is correctly specified.<br/>[2] The condition number is large, 1.04e+06. This might indicate that there are<br/>strong multicollinearity or other numerical problems."
      ],
      "text/plain": [
       "<class 'statsmodels.iolib.summary.Summary'>\n",
       "\"\"\"\n",
       "                            OLS Regression Results                            \n",
       "==============================================================================\n",
       "Dep. Variable:             Entry_Rate   R-squared:                       0.932\n",
       "Model:                            OLS   Adj. R-squared:                  0.928\n",
       "Method:                 Least Squares   F-statistic:                     238.5\n",
       "Date:                Tue, 27 Jul 2021   Prob (F-statistic):          3.43e-105\n",
       "Time:                        00:34:53   Log-Likelihood:                -9.0648\n",
       "No. Observations:                 203   AIC:                             42.13\n",
       "Df Residuals:                     191   BIC:                             81.89\n",
       "Df Model:                          11                                         \n",
       "Covariance Type:            nonrobust                                         \n",
       "=======================================================================================\n",
       "                          coef    std err          t      P>|t|      [0.025      0.975]\n",
       "---------------------------------------------------------------------------------------\n",
       "const                -310.4470      6.992    -44.399      0.000    -324.239    -296.655\n",
       "birth_year              0.1529      0.003     43.878      0.000       0.146       0.160\n",
       "Count_of_tech_firms  2.804e-05   1.13e-05      2.489      0.014    5.82e-06    5.03e-05\n",
       "ttwa_E30000175         -0.4938      0.082     -5.986      0.000      -0.657      -0.331\n",
       "ttwa_E30000179         -0.1491      0.082     -1.829      0.069      -0.310       0.012\n",
       "ttwa_E30000180          0.1377      0.082      1.669      0.097      -0.025       0.300\n",
       "ttwa_E30000186          0.1193      0.083      1.446      0.150      -0.043       0.282\n",
       "ttwa_E30000212          0.2416      0.083      2.928      0.004       0.079       0.404\n",
       "ttwa_E30000234         -0.2003      0.099     -2.028      0.044      -0.395      -0.005\n",
       "ttwa_E30000237         -0.0440      0.082     -0.533      0.595      -0.207       0.119\n",
       "ttwa_E30000239          0.0074      0.082      0.091      0.928      -0.154       0.168\n",
       "ttwa_E30000266          0.0248      0.083      0.300      0.765      -0.138       0.188\n",
       "==============================================================================\n",
       "Omnibus:                        6.590   Durbin-Watson:                   1.008\n",
       "Prob(Omnibus):                  0.037   Jarque-Bera (JB):                6.880\n",
       "Skew:                           0.316   Prob(JB):                       0.0321\n",
       "Kurtosis:                       3.643   Cond. No.                     1.04e+06\n",
       "==============================================================================\n",
       "\n",
       "Notes:\n",
       "[1] Standard Errors assume that the covariance matrix of the errors is correctly specified.\n",
       "[2] The condition number is large, 1.04e+06. This might indicate that there are\n",
       "strong multicollinearity or other numerical problems.\n",
       "\"\"\""
      ]
     },
     "execution_count": 88,
     "metadata": {},
     "output_type": "execute_result"
    }
   ],
   "source": [
    "df3_3_final = df3_2_final.copy()\n",
    "\n",
    "predictors_df3 = df3_3_final.drop({'Entry_Rate',\"Average_of_latest_accounts_assets\"}, axis=1)\n",
    "response_df3 = np.log(df3_3_final['Entry_Rate'])\n",
    "\n",
    "# this is a list of dummy variables that represent a categorical variable with three or more categories. They should not be removed even if it has a high VIF. \n",
    "# list_var_not_to_remove = ['ttwa_E30000234', 'Count_of_tech_firms', 'Total_tech_firms']\n",
    "list_var_not_to_remove = [\"ttwa_E30000234\",\"birth_year\"]\n",
    "df_predictors_select_VIF = drop_column_using_vif_(predictors_df3, list_var_not_to_remove, thresh=2.5)\n",
    "print(\"The columns remaining after VIF selection are:\")\n",
    "print(df_predictors_select_VIF.columns)\n",
    "\n",
    "hypo2_1_regressor_OLS = sm.OLS(endog=response_df3, exog=sm.add_constant(df_predictors_select_VIF)).fit()\n",
    "hypo2_1_regressor_OLS.summary()"
   ]
  },
  {
   "cell_type": "markdown",
   "metadata": {},
   "source": [
    "The result can be writen in the below formula:\n",
    "\n",
    "$ log_e{\\ Dynamics\\ Variable_{i,t}} = -310 + 2.8e^{-5} \\times firms_{i,t} + b_2 \\times location_i + 0.15 \\times year_t$"
   ]
  },
  {
   "cell_type": "code",
   "execution_count": 56,
   "metadata": {},
   "outputs": [
    {
     "data": {
      "image/png": "[encoded data removed]",
      "text/plain": [
       "<Figure size 432x288 with 1 Axes>"
      ]
     },
     "metadata": {
      "needs_background": "light"
     },
     "output_type": "display_data"
    }
   ],
   "source": [
    "plt.scatter(hypo2_1_regressor_OLS.fittedvalues, hypo2_1_regressor_OLS.resid)\n",
    "# adding title and labels\n",
    "plt.xlabel('Fitted Dynamics Variables after Logarithmic Transformation')\n",
    "plt.ylabel('Residual')\n",
    "plt.title('Residual vs. Fitted Plot of Dynamics Variables')\n",
    "plt.ylim(-2,2)\n",
    "plt.show()"
   ]
  },
  {
   "cell_type": "code",
   "execution_count": 57,
   "metadata": {},
   "outputs": [
    {
     "data": {
      "image/png": "[encoded data removed]",
      "text/plain": [
       "<Figure size 864x576 with 4 Axes>"
      ]
     },
     "metadata": {
      "needs_background": "light"
     },
     "output_type": "display_data"
    }
   ],
   "source": [
    "fig1 = plt.figure(figsize=(12,8))\n",
    "fig1 = sm.graphics.plot_regress_exog(hypo2_1_regressor_OLS, 'birth_year', fig=fig1)"
   ]
  },
  {
   "cell_type": "markdown",
   "metadata": {},
   "source": [
    "The second formula:\n",
    "\n",
    "Refer to: Firm_performance_it = c1 + c2#firms_it-n + c3dynamics_it-n + c4industry mix_it-n + Xc_it-n + location_i + year_t + u_it (2)"
   ]
  },
  {
   "cell_type": "markdown",
   "metadata": {},
   "source": [
    "$\\ log_e\\ Firm\\ Performance_{i,t}\\ =\\ c_1 + d_1 \\times firms_{i,t} + d_2 \\times dynamics_{i,t} + d_3 \\times location_i + d_4 \\times year_t$ (2)"
   ]
  },
  {
   "cell_type": "code",
   "execution_count": 95,
   "metadata": {},
   "outputs": [
    {
     "name": "stdout",
     "output_type": "stream",
     "text": [
      "Max VIF: inf\n",
      "Dropping: Total_tech_firms\n",
      "Max VIF: 1.8437386819351917\n",
      "The columns remaining after VIF selection are:\n",
      "Index(['birth_year', 'Count_of_tech_firms', 'Entry_Rate', 'ttwa_E30000175',\n",
      "       'ttwa_E30000179', 'ttwa_E30000180', 'ttwa_E30000186', 'ttwa_E30000212',\n",
      "       'ttwa_E30000234', 'ttwa_E30000237', 'ttwa_E30000239', 'ttwa_E30000266'],\n",
      "      dtype='object')\n"
     ]
    },
    {
     "data": {
      "text/html": [
       "<table class=\"simpletable\">\n",
       "<caption>OLS Regression Results</caption>\n",
       "<tr>\n",
       "  <th>Dep. Variable:</th>    <td>Average_of_latest_accounts_assets</td> <th>  R-squared:         </th> <td>   0.745</td>\n",
       "</tr>\n",
       "<tr>\n",
       "  <th>Model:</th>                           <td>OLS</td>                <th>  Adj. R-squared:    </th> <td>   0.729</td>\n",
       "</tr>\n",
       "<tr>\n",
       "  <th>Method:</th>                     <td>Least Squares</td>           <th>  F-statistic:       </th> <td>   46.37</td>\n",
       "</tr>\n",
       "<tr>\n",
       "  <th>Date:</th>                     <td>Tue, 27 Jul 2021</td>          <th>  Prob (F-statistic):</th> <td>6.23e-50</td>\n",
       "</tr>\n",
       "<tr>\n",
       "  <th>Time:</th>                         <td>00:40:53</td>              <th>  Log-Likelihood:    </th> <td> -99.816</td>\n",
       "</tr>\n",
       "<tr>\n",
       "  <th>No. Observations:</th>              <td>   203</td>               <th>  AIC:               </th> <td>   225.6</td>\n",
       "</tr>\n",
       "<tr>\n",
       "  <th>Df Residuals:</th>                  <td>   190</td>               <th>  BIC:               </th> <td>   268.7</td>\n",
       "</tr>\n",
       "<tr>\n",
       "  <th>Df Model:</th>                      <td>    12</td>               <th>                     </th>     <td> </td>   \n",
       "</tr>\n",
       "<tr>\n",
       "  <th>Covariance Type:</th>              <td>nonrobust</td>             <th>                     </th>     <td> </td>   \n",
       "</tr>\n",
       "</table>\n",
       "<table class=\"simpletable\">\n",
       "<tr>\n",
       "           <td></td>              <th>coef</th>     <th>std err</th>      <th>t</th>      <th>P>|t|</th>  <th>[0.025</th>    <th>0.975]</th>  \n",
       "</tr>\n",
       "<tr>\n",
       "  <th>const</th>               <td>  147.5047</td> <td>   22.122</td> <td>    6.668</td> <td> 0.000</td> <td>  103.868</td> <td>  191.142</td>\n",
       "</tr>\n",
       "<tr>\n",
       "  <th>birth_year</th>          <td>   -0.0675</td> <td>    0.011</td> <td>   -6.111</td> <td> 0.000</td> <td>   -0.089</td> <td>   -0.046</td>\n",
       "</tr>\n",
       "<tr>\n",
       "  <th>Count_of_tech_firms</th> <td>    0.0001</td> <td> 1.95e-05</td> <td>    5.773</td> <td> 0.000</td> <td> 7.42e-05</td> <td>    0.000</td>\n",
       "</tr>\n",
       "<tr>\n",
       "  <th>Entry_Rate</th>          <td>   -8.9585</td> <td>    1.814</td> <td>   -4.940</td> <td> 0.000</td> <td>  -12.536</td> <td>   -5.381</td>\n",
       "</tr>\n",
       "<tr>\n",
       "  <th>ttwa_E30000175</th>      <td>   -0.2359</td> <td>    0.129</td> <td>   -1.823</td> <td> 0.070</td> <td>   -0.491</td> <td>    0.019</td>\n",
       "</tr>\n",
       "<tr>\n",
       "  <th>ttwa_E30000179</th>      <td>   -0.2070</td> <td>    0.128</td> <td>   -1.618</td> <td> 0.107</td> <td>   -0.459</td> <td>    0.045</td>\n",
       "</tr>\n",
       "<tr>\n",
       "  <th>ttwa_E30000180</th>      <td>    0.0600</td> <td>    0.129</td> <td>    0.464</td> <td> 0.643</td> <td>   -0.195</td> <td>    0.315</td>\n",
       "</tr>\n",
       "<tr>\n",
       "  <th>ttwa_E30000186</th>      <td>    0.1323</td> <td>    0.129</td> <td>    1.023</td> <td> 0.308</td> <td>   -0.123</td> <td>    0.387</td>\n",
       "</tr>\n",
       "<tr>\n",
       "  <th>ttwa_E30000212</th>      <td>    0.2389</td> <td>    0.129</td> <td>    1.845</td> <td> 0.067</td> <td>   -0.016</td> <td>    0.494</td>\n",
       "</tr>\n",
       "<tr>\n",
       "  <th>ttwa_E30000234</th>      <td>    0.0065</td> <td>    0.159</td> <td>    0.041</td> <td> 0.967</td> <td>   -0.307</td> <td>    0.320</td>\n",
       "</tr>\n",
       "<tr>\n",
       "  <th>ttwa_E30000237</th>      <td>    0.0750</td> <td>    0.129</td> <td>    0.580</td> <td> 0.563</td> <td>   -0.180</td> <td>    0.330</td>\n",
       "</tr>\n",
       "<tr>\n",
       "  <th>ttwa_E30000239</th>      <td>   -0.0467</td> <td>    0.128</td> <td>   -0.365</td> <td> 0.716</td> <td>   -0.299</td> <td>    0.206</td>\n",
       "</tr>\n",
       "<tr>\n",
       "  <th>ttwa_E30000266</th>      <td>    0.0912</td> <td>    0.129</td> <td>    0.704</td> <td> 0.482</td> <td>   -0.164</td> <td>    0.347</td>\n",
       "</tr>\n",
       "</table>\n",
       "<table class=\"simpletable\">\n",
       "<tr>\n",
       "  <th>Omnibus:</th>       <td>103.810</td> <th>  Durbin-Watson:     </th> <td>   1.682</td> \n",
       "</tr>\n",
       "<tr>\n",
       "  <th>Prob(Omnibus):</th> <td> 0.000</td>  <th>  Jarque-Bera (JB):  </th> <td>1355.690</td> \n",
       "</tr>\n",
       "<tr>\n",
       "  <th>Skew:</th>          <td>-1.582</td>  <th>  Prob(JB):          </th> <td>4.13e-295</td>\n",
       "</tr>\n",
       "<tr>\n",
       "  <th>Kurtosis:</th>      <td>15.259</td>  <th>  Cond. No.          </th> <td>2.11e+06</td> \n",
       "</tr>\n",
       "</table><br/><br/>Notes:<br/>[1] Standard Errors assume that the covariance matrix of the errors is correctly specified.<br/>[2] The condition number is large, 2.11e+06. This might indicate that there are<br/>strong multicollinearity or other numerical problems."
      ],
      "text/plain": [
       "<class 'statsmodels.iolib.summary.Summary'>\n",
       "\"\"\"\n",
       "                                    OLS Regression Results                                   \n",
       "=============================================================================================\n",
       "Dep. Variable:     Average_of_latest_accounts_assets   R-squared:                       0.745\n",
       "Model:                                           OLS   Adj. R-squared:                  0.729\n",
       "Method:                                Least Squares   F-statistic:                     46.37\n",
       "Date:                               Tue, 27 Jul 2021   Prob (F-statistic):           6.23e-50\n",
       "Time:                                       00:40:53   Log-Likelihood:                -99.816\n",
       "No. Observations:                                203   AIC:                             225.6\n",
       "Df Residuals:                                    190   BIC:                             268.7\n",
       "Df Model:                                         12                                         \n",
       "Covariance Type:                           nonrobust                                         \n",
       "=======================================================================================\n",
       "                          coef    std err          t      P>|t|      [0.025      0.975]\n",
       "---------------------------------------------------------------------------------------\n",
       "const                 147.5047     22.122      6.668      0.000     103.868     191.142\n",
       "birth_year             -0.0675      0.011     -6.111      0.000      -0.089      -0.046\n",
       "Count_of_tech_firms     0.0001   1.95e-05      5.773      0.000    7.42e-05       0.000\n",
       "Entry_Rate             -8.9585      1.814     -4.940      0.000     -12.536      -5.381\n",
       "ttwa_E30000175         -0.2359      0.129     -1.823      0.070      -0.491       0.019\n",
       "ttwa_E30000179         -0.2070      0.128     -1.618      0.107      -0.459       0.045\n",
       "ttwa_E30000180          0.0600      0.129      0.464      0.643      -0.195       0.315\n",
       "ttwa_E30000186          0.1323      0.129      1.023      0.308      -0.123       0.387\n",
       "ttwa_E30000212          0.2389      0.129      1.845      0.067      -0.016       0.494\n",
       "ttwa_E30000234          0.0065      0.159      0.041      0.967      -0.307       0.320\n",
       "ttwa_E30000237          0.0750      0.129      0.580      0.563      -0.180       0.330\n",
       "ttwa_E30000239         -0.0467      0.128     -0.365      0.716      -0.299       0.206\n",
       "ttwa_E30000266          0.0912      0.129      0.704      0.482      -0.164       0.347\n",
       "==============================================================================\n",
       "Omnibus:                      103.810   Durbin-Watson:                   1.682\n",
       "Prob(Omnibus):                  0.000   Jarque-Bera (JB):             1355.690\n",
       "Skew:                          -1.582   Prob(JB):                    4.13e-295\n",
       "Kurtosis:                      15.259   Cond. No.                     2.11e+06\n",
       "==============================================================================\n",
       "\n",
       "Notes:\n",
       "[1] Standard Errors assume that the covariance matrix of the errors is correctly specified.\n",
       "[2] The condition number is large, 2.11e+06. This might indicate that there are\n",
       "strong multicollinearity or other numerical problems.\n",
       "\"\"\""
      ]
     },
     "execution_count": 95,
     "metadata": {},
     "output_type": "execute_result"
    }
   ],
   "source": [
    "df3_3_final = df3_2_final.copy()\n",
    "\n",
    "predictors_df3 = df3_3_final.drop({\"Average_of_latest_accounts_assets\"}, axis=1)\n",
    "response_df3 = np.log(df3_3_final['Average_of_latest_accounts_assets'])\n",
    "\n",
    "# this is a list of dummy variables that represent a categorical variable with three or more categories. They should not be removed even if it has a high VIF. \n",
    "# list_var_not_to_remove = ['ttwa_E30000234', 'Count_of_tech_firms', 'Total_tech_firms']\n",
    "list_var_not_to_remove = [\"ttwa_E30000234\",\"birth_year\",\"Entry_Rate\",\"Count_of_tech_firms\"]\n",
    "df_predictors_select_VIF = drop_column_using_vif_(predictors_df3, list_var_not_to_remove, thresh=2.5)\n",
    "print(\"The columns remaining after VIF selection are:\")\n",
    "print(df_predictors_select_VIF.columns)\n",
    "\n",
    "hypo2_2_regressor_OLS = sm.OLS(endog=response_df3, exog=sm.add_constant(df_predictors_select_VIF)).fit()\n",
    "hypo2_2_regressor_OLS.summary()"
   ]
  },
  {
   "cell_type": "markdown",
   "metadata": {},
   "source": [
    "$\\ Firm\\ Performance_{i,t}\\ =\\ 147.5 + 0.0001 \\times firms_{i,t} + {-8.9585} \\times dynamics_{i,t} + d_3 \\times location_i + {-0.0675} \\times year_t$ (2)"
   ]
  },
  {
   "cell_type": "code",
   "execution_count": 92,
   "metadata": {},
   "outputs": [
    {
     "data": {
      "image/png": "[encoded data removed]",
      "text/plain": [
       "<Figure size 432x288 with 1 Axes>"
      ]
     },
     "metadata": {
      "needs_background": "light"
     },
     "output_type": "display_data"
    }
   ],
   "source": [
    "plt.scatter(hypo2_2_regressor_OLS.fittedvalues, hypo2_2_regressor_OLS.resid)\n",
    "# adding title and labels\n",
    "plt.xlabel('Fitted Dynamics Variables after Logarithmic Transformation')\n",
    "plt.ylabel('Residual')\n",
    "plt.title('Residual vs. Fitted Plot of Dynamics Variables')\n",
    "plt.ylim(-3,3)\n",
    "plt.show()"
   ]
  },
  {
   "cell_type": "code",
   "execution_count": 93,
   "metadata": {},
   "outputs": [
    {
     "data": {
      "image/png": "[encoded data removed]",
      "text/plain": [
       "<Figure size 864x576 with 4 Axes>"
      ]
     },
     "metadata": {
      "needs_background": "light"
     },
     "output_type": "display_data"
    }
   ],
   "source": [
    "fig2 = plt.figure(figsize=(12,8))\n",
    "fig2 = sm.graphics.plot_regress_exog(hypo2_2_regressor_OLS, 'Entry_Rate', fig=fig2)"
   ]
  }
 ],
 "metadata": {
  "kernelspec": {
   "display_name": "Python 3",
   "language": "python",
   "name": "python3"
  },
  "language_info": {
   "codemirror_mode": {
    "name": "ipython",
    "version": 3
   },
   "file_extension": ".py",
   "mimetype": "text/x-python",
   "name": "python",
   "nbconvert_exporter": "python",
   "pygments_lexer": "ipython3",
   "version": "3.7.0"
  },
  "toc-autonumbering": false,
  "toc-showmarkdowntxt": false,
  "toc-showtags": false
 },
 "nbformat": 4,
 "nbformat_minor": 4
}
