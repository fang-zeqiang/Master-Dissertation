{
 "cells": [
  {
   "cell_type": "markdown",
   "metadata": {},
   "source": [
    "# EDA for Tech Firm's Survival\n",
    "\n",
    "it looks as if it will be challenging to identify moving firms in the data based on past address info. Let me know if you can find any way around that. But assuming it's not an option, I'd encourage you to look at entry/exit patterns across clusters - that is, dynamics or 'churn' of firms. This will mean going back into the literature a bit help to identify a research question or questions. For example you could ask questions like:\n",
    "\n",
    "What are the differences in dynamism across tech clusters in the UK?\n",
    "What are the tech clusters with the best survival rates for firms?\n",
    "What are the linkages, if any, between firm churn / survival / cluster outcomes? (e.g. size, firm performance)\n",
    "\n",
    "根据过去的地址信息在数据中识别搬家公司似乎具有挑战性。 如果您能找到任何解决方法，请告诉我。 但假设这不是一种选择，我鼓励您看看跨越集群的进入/退出模式 - 即公司的动态或“流动”。 这将意味着回到文献中有助于确定一个或多个研究问题。 例如，您可以提出以下问题：\n",
    "\n",
    "- 英国各科技集群的活力有何不同？\n",
    "\n",
    "- 企业存活率最高的技术集群是什么？\n",
    "\n",
    "- 如果有的话，公司流失/生存/集群结果之间有什么联系？ （例如规模、公司业绩）"
   ]
  },
  {
   "cell_type": "code",
   "execution_count": null,
   "metadata": {},
   "outputs": [],
   "source": []
  }
 ],
 "metadata": {
  "kernelspec": {
   "display_name": "Python 3",
   "language": "python",
   "name": "python3"
  },
  "language_info": {
   "codemirror_mode": {
    "name": "ipython",
    "version": 3
   },
   "file_extension": ".py",
   "mimetype": "text/x-python",
   "name": "python",
   "nbconvert_exporter": "python",
   "pygments_lexer": "ipython3",
   "version": "3.7.0"
  }
 },
 "nbformat": 4,
 "nbformat_minor": 4
}
