{
 "cells": [
  {
   "cell_type": "markdown",
   "metadata": {},
   "source": [
    "# Regression Research for Dynamics"
   ]
  },
  {
   "cell_type": "markdown",
   "metadata": {},
   "source": [
    "Hi Zeqiang - good to see you yesterday, and well done on your further progress. Below is a quick note of our meeting. \n",
    "\n",
    "Priorities for next meeting - the main things to focus on between now and our final meeting: \n",
    "\n",
    "A) write out a precise research question or questions - see my previous notes for suggestions here. \n",
    "B) set up and run the regression analysis, and then interpreting the results. \n",
    "\n",
    "After that, in August or before, you will need to:\n",
    "\n",
    "1/ Assemble the dissertation itself from the component parts you already have in the Jupiter notebook and elsewhere. If you have time before we meet, try making an outline - basically sections with a note of what content goes in where. This will help you identify any gaps. \n",
    "2/ Go back to the literature review - at the moment you are working from just a few references. You will need to expand that to more like 20-30 for this part of the dissertation to do well. \n",
    "\n",
    "Notes on your specific questions / issues in the meeting are below. \n",
    "\n",
    "I see you already booked a meeting slot - please send anything you want me to look at to me *by 27 July* if possible. No worries if it's later, but I'll have less time to think about it before the meeting. \n",
    "\n",
    "As we discussed, if you have further questions / hit problems between now and our next meeting, feel free to email me. \n",
    "\n",
    "All the best, \n",
    "\n",
    "Max\n",
    "\n",
    "\n",
    "---\n",
    "\n",
    "Q1/ time series for entry rates - from the results in your EDA, it looks like data is pretty sparse even in your biggest clusters before the late 1970s. For the whole UK, a 20-year time series feels sensible, say 1998-2018. As you suggest, in the dissertation you will want to justify this with references to the cluster literature: try looking for studies on cluster evolution. \n",
    "\n",
    "Q2/ Entry vs exit/churn - as we discussed, you should write a couple of sentences in the dissertation explaining that because most tech firms in your data are still active, exit rates are very low and churn rates are very similar to entry rates. Thus in your analysis you concentrate on entry rates. You should also give an example, e.g. for London or for the Uk average. \n",
    "\n",
    "Q3/ Entry rate definition - there is no obvious right answer here. If you are focused on dynamics *within* a tech cluster, I think it makes sense to define it for cluster i, year t, as new tech firms_it / all tech firms _it. If you are focused on the wider importance of tech clusters, you could define it as ew tech firms_it / all firms _it. Think about your chosen research questions(s) as a guide here. \n",
    "\n",
    "Q4a/ Regressions - I've re-written them as OLS estimations below, for cluster i, year t, lag n, error e or u. Coefficients are b1, ... bj in (1) and c1, ... cj in (2): \n",
    "\n",
    "Dynamics_variable_it = a1 + b2#firms_it-n + b3industry mix_it-n + Xb_it-n + location_i + year_t + e_it (1)\n",
    "\n",
    "Firm_performance_it = c1 + c2#firms_it-n + c3dynamics_it-n + c4industry mix_it-n + Xc_it-n + location_i + year_t + u_it (2)\n",
    "\n",
    "Remember that X is a vector of controls - use the lit review to think about what set of variables you would include here. Typically people include \n",
    "e.g. population density, share of graduates. \n",
    "\n",
    "Start by estimating in OLS with standard errors clustered on TTWA. Then think about more functionally correct estimators - e.g. geographically weighted regression. \n",
    "\n",
    "Q4b/ industry mix variable - how you build this depends on how you build the entry rate variable. If entry rate is defined in terms of all firms, then industry mix can be share of tech firms / all firms; the LQ of tech firms, or a Herfindahl Index of all industries. If entry rate is defined in terms of tech firms only, then industry mix should probably be a Herfindahl index of tech industry SICs [i.e. how diverse is the tech sector, is it dominated by e.g. software or IT consulting?]\n",
    "\n",
    "Other things: \n",
    "\n",
    "* If you don't plan to measure clusters using data-driven methods like DB-Scan, you will need to justify this decision in the dissertation, especially as some tech clusters are likely to be smaller than TTWAs in practice. You could look at literature on TTWAs to argue that they are a good representation of local economies; you could also argue that limitations in OC address data mean it's sensible to aggregate firms to TTWA level (again, you will need references to back that up). \n",
    "\n"
   ]
  }
 ],
 "metadata": {
  "kernelspec": {
   "display_name": "Python 3",
   "language": "python",
   "name": "python3"
  },
  "language_info": {
   "codemirror_mode": {
    "name": "ipython",
    "version": 3
   },
   "file_extension": ".py",
   "mimetype": "text/x-python",
   "name": "python",
   "nbconvert_exporter": "python",
   "pygments_lexer": "ipython3",
   "version": "3.7.0"
  }
 },
 "nbformat": 4,
 "nbformat_minor": 4
}
